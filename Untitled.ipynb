{
 "cells": [
  {
   "cell_type": "code",
   "execution_count": 2,
   "id": "e7fc0db3",
   "metadata": {},
   "outputs": [
    {
     "name": "stdout",
     "output_type": "stream",
     "text": [
      "Collecting google\n",
      "  Downloading google-3.0.0-py2.py3-none-any.whl (45 kB)\n",
      "     ---------------------------------------- 45.3/45.3 kB 1.1 MB/s eta 0:00:00\n",
      "Collecting colab\n",
      "  Downloading colab-1.13.5.tar.gz (567 kB)\n",
      "     -------------------------------------- 567.7/567.7 kB 4.0 MB/s eta 0:00:00\n",
      "  Preparing metadata (setup.py): started\n",
      "  Preparing metadata (setup.py): finished with status 'done'\n",
      "Requirement already satisfied: beautifulsoup4 in c:\\users\\gaurm\\anaconda3\\lib\\site-packages (from google) (4.11.1)\n",
      "Collecting Django<1.8,>=1.7.10 (from colab)\n",
      "  Downloading Django-1.7.11-py2.py3-none-any.whl (7.4 MB)\n",
      "     ---------------------------------------- 7.4/7.4 MB 6.5 MB/s eta 0:00:00\n",
      "Requirement already satisfied: pytz>=2011n in c:\\users\\gaurm\\anaconda3\\lib\\site-packages (from colab) (2021.3)\n",
      "Collecting django-hitcounter>=0.1.1 (from colab)\n",
      "  Downloading django-hitcounter-0.1.1.tar.gz (3.1 kB)\n",
      "  Preparing metadata (setup.py): started\n",
      "  Preparing metadata (setup.py): finished with status 'done'\n",
      "Collecting django-haystack>=2.2 (from colab)\n",
      "  Downloading django-haystack-3.2.1.tar.gz (466 kB)\n",
      "     -------------------------------------- 466.6/466.6 kB 7.2 MB/s eta 0:00:00\n",
      "  Installing build dependencies: started\n",
      "  Installing build dependencies: finished with status 'done'\n",
      "  Getting requirements to build wheel: started\n",
      "  Getting requirements to build wheel: finished with status 'done'\n",
      "  Preparing metadata (pyproject.toml): started\n",
      "  Preparing metadata (pyproject.toml): finished with status 'done'\n",
      "Collecting Whoosh>=2.7.0 (from colab)\n",
      "  Downloading Whoosh-2.7.4-py2.py3-none-any.whl (468 kB)\n",
      "     ------------------------------------- 468.8/468.8 kB 14.8 MB/s eta 0:00:00\n",
      "Collecting django-revproxy>=0.9.9 (from django-revproxy[diazo]>=0.9.9->colab)\n",
      "  Downloading django_revproxy-0.12.0-py3-none-any.whl.metadata (4.0 kB)\n",
      "Collecting celery>=3.1.2 (from celery[redis]>=3.1.2->colab)\n",
      "  Downloading celery-5.3.6-py3-none-any.whl.metadata (21 kB)\n",
      "Collecting etiquetando==0.1 (from colab)\n",
      "  Downloading etiquetando-0.1.tar.gz (259 kB)\n",
      "     -------------------------------------- 259.3/259.3 kB 8.0 MB/s eta 0:00:00\n",
      "  Preparing metadata (setup.py): started\n",
      "  Preparing metadata (setup.py): finished with status 'done'\n",
      "Collecting django-taggit>=0.12.1 (from colab)\n",
      "  Downloading django_taggit-5.0.1-py3-none-any.whl.metadata (3.4 kB)\n",
      "Collecting html2text>=3.200.3 (from colab)\n",
      "  Downloading html2text-2020.1.16-py3-none-any.whl (32 kB)\n",
      "Requirement already satisfied: chardet>=2.3.0 in c:\\users\\gaurm\\anaconda3\\lib\\site-packages (from colab) (4.0.0)\n",
      "Requirement already satisfied: requests>=2.7.0 in c:\\users\\gaurm\\anaconda3\\lib\\site-packages (from colab) (2.27.1)\n",
      "Collecting stemming>=1.0 (from etiquetando==0.1->colab)\n",
      "  Downloading stemming-1.0.1.zip (13 kB)\n",
      "  Preparing metadata (setup.py): started\n",
      "  Preparing metadata (setup.py): finished with status 'done'\n",
      "Collecting repoze.lru>=0.6 (from etiquetando==0.1->colab)\n",
      "  Downloading repoze.lru-0.7-py3-none-any.whl (10 kB)\n",
      "Collecting billiard<5.0,>=4.2.0 (from celery>=3.1.2->celery[redis]>=3.1.2->colab)\n",
      "  Downloading billiard-4.2.0-py3-none-any.whl.metadata (4.4 kB)\n",
      "Collecting click-didyoumean>=0.3.0 (from celery>=3.1.2->celery[redis]>=3.1.2->colab)\n",
      "  Downloading click_didyoumean-0.3.0-py3-none-any.whl (2.7 kB)\n",
      "Requirement already satisfied: click-plugins>=1.1.1 in c:\\users\\gaurm\\anaconda3\\lib\\site-packages (from celery>=3.1.2->celery[redis]>=3.1.2->colab) (1.1.1)\n",
      "Collecting click-repl>=0.2.0 (from celery>=3.1.2->celery[redis]>=3.1.2->colab)\n",
      "  Downloading click_repl-0.3.0-py3-none-any.whl.metadata (3.6 kB)\n",
      "Collecting click<9.0,>=8.1.2 (from celery>=3.1.2->celery[redis]>=3.1.2->colab)\n",
      "  Downloading click-8.1.7-py3-none-any.whl.metadata (3.0 kB)\n",
      "Collecting kombu<6.0,>=5.3.4 (from celery>=3.1.2->celery[redis]>=3.1.2->colab)\n",
      "  Downloading kombu-5.3.4-py3-none-any.whl.metadata (3.1 kB)\n",
      "Requirement already satisfied: python-dateutil>=2.8.2 in c:\\users\\gaurm\\anaconda3\\lib\\site-packages (from celery>=3.1.2->celery[redis]>=3.1.2->colab) (2.8.2)\n",
      "Collecting tzdata>=2022.7 (from celery>=3.1.2->celery[redis]>=3.1.2->colab)\n",
      "  Downloading tzdata-2023.4-py2.py3-none-any.whl.metadata (1.4 kB)\n",
      "Collecting vine<6.0,>=5.1.0 (from celery>=3.1.2->celery[redis]>=3.1.2->colab)\n",
      "  Downloading vine-5.1.0-py3-none-any.whl.metadata (2.7 kB)\n",
      "Collecting redis!=4.5.5,<6.0.0,>=4.5.2 (from celery[redis]>=3.1.2->colab)\n",
      "  Downloading redis-5.0.1-py3-none-any.whl.metadata (8.9 kB)\n",
      "INFO: pip is looking at multiple versions of django-haystack to determine which version is compatible with other requirements. This could take a while.\n",
      "Collecting django-haystack>=2.2 (from colab)\n",
      "  Downloading django-haystack-3.2.0.tar.gz (466 kB)\n",
      "     -------------------------------------- 466.5/466.5 kB 5.8 MB/s eta 0:00:00\n",
      "  Installing build dependencies: started\n",
      "  Installing build dependencies: finished with status 'done'\n",
      "  Getting requirements to build wheel: started\n",
      "  Getting requirements to build wheel: finished with status 'done'\n",
      "  Preparing metadata (pyproject.toml): started\n",
      "  Preparing metadata (pyproject.toml): finished with status 'done'\n",
      "  Downloading django_haystack-3.1.1-py3-none-any.whl (141 kB)\n",
      "     -------------------------------------- 141.5/141.5 kB 8.2 MB/s eta 0:00:00\n",
      "  Downloading django_haystack-3.1.0-py3-none-any.whl (141 kB)\n",
      "     -------------------------------------- 141.5/141.5 kB 8.7 MB/s eta 0:00:00\n",
      "  Downloading django-haystack-3.0.tar.gz (450 kB)\n",
      "     -------------------------------------- 450.7/450.7 kB 7.0 MB/s eta 0:00:00\n",
      "  Preparing metadata (setup.py): started\n",
      "  Preparing metadata (setup.py): finished with status 'done'\n",
      "  Downloading django-haystack-2.8.1.tar.gz (1.6 MB)\n",
      "     ---------------------------------------- 1.6/1.6 MB 8.3 MB/s eta 0:00:00\n",
      "  Preparing metadata (setup.py): started\n",
      "  Preparing metadata (setup.py): finished with status 'done'\n",
      "  Downloading django-haystack-2.8.0.tar.gz (425 kB)\n",
      "     -------------------------------------- 425.5/425.5 kB 5.3 MB/s eta 0:00:00\n",
      "  Preparing metadata (setup.py): started\n",
      "  Preparing metadata (setup.py): finished with status 'done'\n",
      "  Downloading django-haystack-2.7.0.tar.gz (1.6 MB)\n",
      "     ---------------------------------------- 1.6/1.6 MB 8.2 MB/s eta 0:00:00\n",
      "  Preparing metadata (setup.py): started\n",
      "  Preparing metadata (setup.py): finished with status 'done'\n",
      "INFO: pip is still looking at multiple versions of django-haystack to determine which version is compatible with other requirements. This could take a while.\n",
      "  Downloading django-haystack-2.6.1.tar.gz (383 kB)\n",
      "     ------------------------------------- 383.9/383.9 kB 23.4 MB/s eta 0:00:00\n",
      "  Preparing metadata (setup.py): started\n",
      "  Preparing metadata (setup.py): finished with status 'done'\n",
      "  Downloading django-haystack-2.6.0.tar.gz (1.4 MB)\n",
      "     ---------------------------------------- 1.4/1.4 MB 8.1 MB/s eta 0:00:00\n",
      "  Preparing metadata (setup.py): started\n",
      "  Preparing metadata (setup.py): finished with status 'done'\n",
      "  Downloading django-haystack-2.5.1.tar.gz (212 kB)\n",
      "     ------------------------------------ 212.8/212.8 kB 499.0 kB/s eta 0:00:00\n",
      "  Preparing metadata (setup.py): started\n",
      "  Preparing metadata (setup.py): finished with status 'done'\n",
      "  Downloading django-haystack-2.5.0.tar.gz (212 kB)\n",
      "     -------------------------------------- 212.2/212.2 kB 6.5 MB/s eta 0:00:00\n",
      "  Preparing metadata (setup.py): started\n",
      "  Preparing metadata (setup.py): finished with status 'done'\n"
     ]
    },
    {
     "name": "stderr",
     "output_type": "stream",
     "text": [
      "DEPRECATION: colab 1.13.5 has a non-standard dependency specifier pytz>=2011n. pip 24.0 will enforce this behaviour change. A possible replacement is to upgrade to a newer version of colab or contact the author to suggest that they release a version with a conforming dependency specifiers. Discussion can be found at https://github.com/pypa/pip/issues/12063\n",
      "ERROR: pip's dependency resolver does not currently take into account all the packages that are installed. This behaviour is the source of the following dependency conflicts.\n",
      "spyder 5.1.5 requires pyqtwebengine<5.13, which is not installed.\n",
      "pycaret 3.2.0 requires scipy~=1.10.1, but you have scipy 1.11.4 which is incompatible.\n",
      "spyder 5.1.5 requires pyqt5<5.13, but you have pyqt5 5.15.10 which is incompatible.\n",
      "WARNING: There was an error checking the latest version of pip.\n"
     ]
    },
    {
     "ename": "ModuleNotFoundError",
     "evalue": "No module named 'google.colab'",
     "output_type": "error",
     "traceback": [
      "\u001b[1;31m---------------------------------------------------------------------------\u001b[0m",
      "\u001b[1;31mModuleNotFoundError\u001b[0m                       Traceback (most recent call last)",
      "Input \u001b[1;32mIn [2]\u001b[0m, in \u001b[0;36m<cell line: 11>\u001b[1;34m()\u001b[0m\n\u001b[0;32m      9\u001b[0m \u001b[38;5;28;01mimport\u001b[39;00m \u001b[38;5;21;01mplotly\u001b[39;00m\u001b[38;5;21;01m.\u001b[39;00m\u001b[38;5;21;01mexpress\u001b[39;00m \u001b[38;5;28;01mas\u001b[39;00m \u001b[38;5;21;01mpx\u001b[39;00m\n\u001b[0;32m     10\u001b[0m get_ipython()\u001b[38;5;241m.\u001b[39msystem(\u001b[38;5;124m'\u001b[39m\u001b[38;5;124mpip install google colab\u001b[39m\u001b[38;5;124m'\u001b[39m)\n\u001b[1;32m---> 11\u001b[0m \u001b[38;5;28;01mfrom\u001b[39;00m \u001b[38;5;21;01mgoogle\u001b[39;00m\u001b[38;5;21;01m.\u001b[39;00m\u001b[38;5;21;01mcolab\u001b[39;00m \u001b[38;5;28;01mimport\u001b[39;00m files\n\u001b[0;32m     12\u001b[0m get_ipython()\u001b[38;5;241m.\u001b[39mrun_line_magic(\u001b[38;5;124m'\u001b[39m\u001b[38;5;124mpip\u001b[39m\u001b[38;5;124m'\u001b[39m, \u001b[38;5;124m'\u001b[39m\u001b[38;5;124minstall kaleido\u001b[39m\u001b[38;5;124m'\u001b[39m)\n\u001b[0;32m     13\u001b[0m \u001b[38;5;28;01mimport\u001b[39;00m \u001b[38;5;21;01mkaleido\u001b[39;00m\n",
      "\u001b[1;31mModuleNotFoundError\u001b[0m: No module named 'google.colab'"
     ]
    },
    {
     "name": "stdout",
     "output_type": "stream",
     "text": [
      "  Downloading django-haystack-2.4.1.tar.gz (160 kB)\n",
      "     ---------------------------------------- 160.8/160.8 kB ? eta 0:00:00\n",
      "  Preparing metadata (setup.py): started\n",
      "  Preparing metadata (setup.py): finished with status 'done'\n",
      "INFO: pip is looking at multiple versions of django-revproxy to determine which version is compatible with other requirements. This could take a while.\n",
      "Collecting django-revproxy>=0.9.9 (from django-revproxy[diazo]>=0.9.9->colab)\n",
      "  Downloading django_revproxy-0.11.0-py3-none-any.whl.metadata (3.1 kB)\n",
      "  Downloading django_revproxy-0.10.0-py3-none-any.whl (17 kB)\n",
      "Requirement already satisfied: urllib3>=1.12 in c:\\users\\gaurm\\anaconda3\\lib\\site-packages (from django-revproxy>=0.9.9->django-revproxy[diazo]>=0.9.9->colab) (1.26.9)\n",
      "INFO: pip is looking at multiple versions of django-revproxy[diazo] to determine which version is compatible with other requirements. This could take a while.\n",
      "Collecting diazo>=1.0.5 (from django-revproxy[diazo]>=0.9.9->colab)\n",
      "  Downloading diazo-1.5.0-py2.py3-none-any.whl (309 kB)\n",
      "     ------------------------------------- 309.5/309.5 kB 18.7 MB/s eta 0:00:00\n",
      "Requirement already satisfied: lxml>=3.4 in c:\\users\\gaurm\\anaconda3\\lib\\site-packages (from django-revproxy[diazo]>=0.9.9->colab) (4.8.0)\n",
      "INFO: pip is looking at multiple versions of django-taggit to determine which version is compatible with other requirements. This could take a while.\n",
      "Collecting django-taggit>=0.12.1 (from colab)\n",
      "  Downloading django_taggit-4.0.0-py3-none-any.whl (60 kB)\n",
      "     ---------------------------------------- 60.3/60.3 kB 3.3 MB/s eta 0:00:00\n",
      "  Downloading django_taggit-3.1.0-py3-none-any.whl (60 kB)\n",
      "     ---------------------------------------- 60.2/60.2 kB 3.1 MB/s eta 0:00:00\n",
      "  Downloading django_taggit-3.0.0-py3-none-any.whl (59 kB)\n",
      "     ---------------------------------------- 59.9/59.9 kB ? eta 0:00:00\n",
      "  Downloading django_taggit-2.1.0-py3-none-any.whl (59 kB)\n",
      "     ---------------------------------------- 59.1/59.1 kB 1.6 MB/s eta 0:00:00\n",
      "  Downloading django_taggit-2.0.0-py3-none-any.whl (58 kB)\n",
      "     ---------------------------------------- 58.3/58.3 kB 3.0 MB/s eta 0:00:00\n",
      "  Downloading django_taggit-1.5.1-py3-none-any.whl (53 kB)\n",
      "     ---------------------------------------- 53.1/53.1 kB 2.9 MB/s eta 0:00:00\n",
      "  Downloading django_taggit-1.5.0-py3-none-any.whl (52 kB)\n",
      "     ---------------------------------------- 52.6/52.6 kB 2.8 MB/s eta 0:00:00\n",
      "INFO: pip is still looking at multiple versions of django-taggit to determine which version is compatible with other requirements. This could take a while.\n",
      "  Downloading django_taggit-1.4.0-py3-none-any.whl (46 kB)\n",
      "     ---------------------------------------- 46.8/46.8 kB 2.3 MB/s eta 0:00:00\n",
      "  Downloading django_taggit-1.3.0-py3-none-any.whl (45 kB)\n",
      "     ---------------------------------------- 45.7/45.7 kB ? eta 0:00:00\n",
      "  Downloading django_taggit-1.2.0-py3-none-any.whl (45 kB)\n",
      "     ---------------------------------------- 45.5/45.5 kB 2.4 MB/s eta 0:00:00\n",
      "  Downloading django_taggit-1.1.0-py3-none-any.whl (44 kB)\n",
      "     ---------------------------------------- 44.9/44.9 kB 2.3 MB/s eta 0:00:00\n",
      "  Downloading django_taggit-1.0.0-py3-none-any.whl (42 kB)\n",
      "     ---------------------------------------- 42.9/42.9 kB 2.0 MB/s eta 0:00:00\n",
      "INFO: This is taking longer than usual. You might need to provide the dependency resolver with stricter constraints to reduce runtime. See https://pip.pypa.io/warnings/backtracking for guidance. If you want to abort this run, press Ctrl + C.\n",
      "  Downloading django_taggit-0.24.0-py2.py3-none-any.whl (42 kB)\n",
      "     ---------------------------------------- 42.7/42.7 kB 2.2 MB/s eta 0:00:00\n",
      "  Downloading django_taggit-0.23.0-py2.py3-none-any.whl (44 kB)\n",
      "     ---------------------------------------- 44.8/44.8 kB 2.2 MB/s eta 0:00:00\n",
      "  Downloading django_taggit-0.22.2-py2.py3-none-any.whl (45 kB)\n",
      "     ---------------------------------------- 45.2/45.2 kB ? eta 0:00:00\n",
      "Requirement already satisfied: certifi>=2017.4.17 in c:\\users\\gaurm\\anaconda3\\lib\\site-packages (from requests>=2.7.0->colab) (2021.10.8)\n",
      "Requirement already satisfied: charset-normalizer~=2.0.0 in c:\\users\\gaurm\\anaconda3\\lib\\site-packages (from requests>=2.7.0->colab) (2.0.4)\n",
      "Requirement already satisfied: idna<4,>=2.5 in c:\\users\\gaurm\\anaconda3\\lib\\site-packages (from requests>=2.7.0->colab) (3.3)\n",
      "Requirement already satisfied: soupsieve>1.2 in c:\\users\\gaurm\\anaconda3\\lib\\site-packages (from beautifulsoup4->google) (2.3.1)\n",
      "Requirement already satisfied: colorama in c:\\users\\gaurm\\anaconda3\\lib\\site-packages (from click<9.0,>=8.1.2->celery>=3.1.2->celery[redis]>=3.1.2->colab) (0.4.6)\n",
      "Collecting prompt-toolkit>=3.0.36 (from click-repl>=0.2.0->celery>=3.1.2->celery[redis]>=3.1.2->colab)\n",
      "  Downloading prompt_toolkit-3.0.43-py3-none-any.whl.metadata (6.5 kB)\n",
      "Requirement already satisfied: cssselect in c:\\users\\gaurm\\anaconda3\\lib\\site-packages (from diazo>=1.0.5->django-revproxy[diazo]>=0.9.9->colab) (1.1.0)\n",
      "Requirement already satisfied: six in c:\\users\\gaurm\\anaconda3\\lib\\site-packages (from diazo>=1.0.5->django-revproxy[diazo]>=0.9.9->colab) (1.16.0)\n",
      "Collecting amqp<6.0.0,>=5.1.1 (from kombu<6.0,>=5.3.4->celery>=3.1.2->celery[redis]>=3.1.2->colab)\n",
      "  Downloading amqp-5.2.0-py3-none-any.whl.metadata (8.9 kB)\n",
      "Requirement already satisfied: typing-extensions in c:\\users\\gaurm\\anaconda3\\lib\\site-packages (from kombu<6.0,>=5.3.4->celery>=3.1.2->celery[redis]>=3.1.2->colab) (4.1.1)\n",
      "Collecting async-timeout>=4.0.2 (from redis!=4.5.5,<6.0.0,>=4.5.2->celery[redis]>=3.1.2->colab)\n",
      "  Downloading async_timeout-4.0.3-py3-none-any.whl.metadata (4.2 kB)\n",
      "Requirement already satisfied: wcwidth in c:\\users\\gaurm\\anaconda3\\lib\\site-packages (from prompt-toolkit>=3.0.36->click-repl>=0.2.0->celery>=3.1.2->celery[redis]>=3.1.2->colab) (0.2.5)\n",
      "Downloading celery-5.3.6-py3-none-any.whl (422 kB)\n",
      "   ---------------------------------------- 422.0/422.0 kB 8.8 MB/s eta 0:00:00\n",
      "Downloading billiard-4.2.0-py3-none-any.whl (86 kB)\n",
      "   ---------------------------------------- 86.7/86.7 kB ? eta 0:00:00\n",
      "Downloading click-8.1.7-py3-none-any.whl (97 kB)\n",
      "   ---------------------------------------- 97.9/97.9 kB 5.5 MB/s eta 0:00:00\n",
      "Downloading click_repl-0.3.0-py3-none-any.whl (10 kB)\n",
      "Downloading kombu-5.3.4-py3-none-any.whl (199 kB)\n",
      "   --------------------------------------- 200.0/200.0 kB 11.9 MB/s eta 0:00:00\n",
      "Downloading redis-5.0.1-py3-none-any.whl (250 kB)\n",
      "   ---------------------------------------- 250.3/250.3 kB 7.7 MB/s eta 0:00:00\n",
      "Downloading tzdata-2023.4-py2.py3-none-any.whl (346 kB)\n",
      "   ---------------------------------------- 346.6/346.6 kB 7.2 MB/s eta 0:00:00\n",
      "Downloading vine-5.1.0-py3-none-any.whl (9.6 kB)\n",
      "Downloading amqp-5.2.0-py3-none-any.whl (50 kB)\n",
      "   ---------------------------------------- 50.9/50.9 kB 2.7 MB/s eta 0:00:00\n",
      "Downloading async_timeout-4.0.3-py3-none-any.whl (5.7 kB)\n",
      "Downloading prompt_toolkit-3.0.43-py3-none-any.whl (386 kB)\n",
      "   --------------------------------------- 386.1/386.1 kB 12.1 MB/s eta 0:00:00\n",
      "Building wheels for collected packages: colab, etiquetando, django-haystack, django-hitcounter, stemming\n",
      "  Building wheel for colab (setup.py): started\n",
      "  Building wheel for colab (setup.py): finished with status 'done'\n",
      "  Created wheel for colab: filename=colab-1.13.5-py3-none-any.whl size=647328 sha256=69131ae6ec7d9edfd46a286b198c0f23dd98c5acd711f5869d76f722a94781b2\n",
      "  Stored in directory: c:\\users\\gaurm\\appdata\\local\\pip\\cache\\wheels\\45\\e8\\86\\4e866e5996746ef5c82b6af55104446248c9acd4bc0fe8478d\n",
      "  Building wheel for etiquetando (setup.py): started\n",
      "  Building wheel for etiquetando (setup.py): finished with status 'done'\n",
      "  Created wheel for etiquetando: filename=etiquetando-0.1-py3-none-any.whl size=260801 sha256=eeaf8eccc2475507c9acf1f6bd811791a330117ec0caa7c0ec2f96ccbc50a734\n",
      "  Stored in directory: c:\\users\\gaurm\\appdata\\local\\pip\\cache\\wheels\\c9\\25\\c8\\44a91463a829118ee0d88b2e94a415926f3fdb989dc4857378\n",
      "  Building wheel for django-haystack (setup.py): started\n",
      "  Building wheel for django-haystack (setup.py): finished with status 'done'\n",
      "  Created wheel for django-haystack: filename=django_haystack-2.4.1-py3-none-any.whl size=97361 sha256=42d729fc51a7dc5a5ff55804bcd69aa00cbf6ad04d67d370450e6fcaed56d42a\n",
      "  Stored in directory: c:\\users\\gaurm\\appdata\\local\\pip\\cache\\wheels\\65\\1a\\a1\\529aa2425b36204e77a5daa01efa7e503ca3119a474aadcab0\n",
      "  Building wheel for django-hitcounter (setup.py): started\n",
      "  Building wheel for django-hitcounter (setup.py): finished with status 'done'\n",
      "  Created wheel for django-hitcounter: filename=django_hitcounter-0.1.1-py3-none-any.whl size=4451 sha256=3d8307501d3615786637465caea7813e89fd296c7c205b1d688026bc79833c2b\n",
      "  Stored in directory: c:\\users\\gaurm\\appdata\\local\\pip\\cache\\wheels\\50\\71\\02\\1fe402b38f781c423541bdea564a54bfacd5fbd97a07a8b534\n",
      "  Building wheel for stemming (setup.py): started\n",
      "  Building wheel for stemming (setup.py): finished with status 'done'\n",
      "  Created wheel for stemming: filename=stemming-1.0.1-py3-none-any.whl size=11138 sha256=19aadd8991d4d2947156fa41556e221d94fa11784de819dbf5ca690e839b3e85\n",
      "  Stored in directory: c:\\users\\gaurm\\appdata\\local\\pip\\cache\\wheels\\38\\a0\\21\\5155207a0e28e3ebce30d2df448a55c617aeece65409bb813f\n",
      "Successfully built colab etiquetando django-haystack django-hitcounter stemming\n",
      "Installing collected packages: Whoosh, stemming, repoze.lru, django-taggit, django-hitcounter, Django, vine, tzdata, prompt-toolkit, html2text, etiquetando, django-revproxy, django-haystack, diazo, click, billiard, async-timeout, redis, google, click-repl, click-didyoumean, amqp, kombu, celery, colab\n",
      "  Attempting uninstall: prompt-toolkit\n",
      "    Found existing installation: prompt-toolkit 3.0.20\n",
      "    Uninstalling prompt-toolkit-3.0.20:\n",
      "      Successfully uninstalled prompt-toolkit-3.0.20\n",
      "  Attempting uninstall: click\n",
      "    Found existing installation: click 8.0.4\n",
      "    Uninstalling click-8.0.4:\n",
      "      Successfully uninstalled click-8.0.4\n",
      "  Attempting uninstall: async-timeout\n",
      "    Found existing installation: async-timeout 4.0.1\n",
      "    Uninstalling async-timeout-4.0.1:\n",
      "      Successfully uninstalled async-timeout-4.0.1\n",
      "Successfully installed Django-1.7.11 Whoosh-2.7.4 amqp-5.2.0 async-timeout-4.0.3 billiard-4.2.0 celery-5.3.6 click-8.1.7 click-didyoumean-0.3.0 click-repl-0.3.0 colab-1.13.5 diazo-1.5.0 django-haystack-2.4.1 django-hitcounter-0.1.1 django-revproxy-0.10.0 django-taggit-0.22.2 etiquetando-0.1 google-3.0.0 html2text-2020.1.16 kombu-5.3.4 prompt-toolkit-3.0.43 redis-5.0.1 repoze.lru-0.7 stemming-1.0.1 tzdata-2023.4 vine-5.1.0\n"
     ]
    }
   ],
   "source": [
    "import numpy as np \n",
    "\n",
    "import pandas as pd\n",
    "import matplotlib.pyplot as plt\n",
    "%matplotlib inline\n",
    "from tqdm import tqdm\n",
    "import seaborn as sb\n",
    "import statsmodels.api as sm\n",
    "import plotly.express as px\n",
    "!pip install google colab\n",
    "from google.colab import files\n",
    "%pip install kaleido\n",
    "import kaleido\n",
    "from sklearn.preprocessing import StandardScaler,PowerTransformer\n",
    "from sklearn.decomposition import PCA\n",
    "from scipy.cluster.hierarchy import dendrogram, linkage\n",
    "from sklearn.cluster import KMeans, MeanShift, estimate_bandwidth\n",
    "from sklearn.datasets import make_blobs\n",
    "from yellowbrick.cluster import KElbowVisualizer, SilhouetteVisualizer, InterclusterDistance\n",
    "from collections import Counter\n",
    "from sklearn.model_selection import cross_validate,train_test_split\n",
    "from sklearn.linear_model import LinearRegression,LogisticRegression\n",
    "from sklearn import metrics\n",
    "from sklearn.metrics import r2_score,silhouette_score,confusion_matrix,accuracy_score\n",
    "pd.set_option(\"display.precision\",3)\n",
    "np.set_printoptions(precision=5, suppress=True)\n",
    "pd.options.display.float_format = '{:.4f}'.format\n",
    "import plotly.io as pio\n",
    "\n",
    "pio.renderers.default = \"svg\""
   ]
  },
  {
   "cell_type": "code",
   "execution_count": null,
   "id": "50d08969",
   "metadata": {},
   "outputs": [],
   "source": []
  },
  {
   "cell_type": "code",
   "execution_count": null,
   "id": "bc47713c",
   "metadata": {},
   "outputs": [],
   "source": [
    "df = pd.read_csv(\"C:/Users/gaurm/Desktop/Feynn labs/EV/data.csv\")"
   ]
  },
  {
   "cell_type": "code",
   "execution_count": 5,
   "id": "03f1e47b",
   "metadata": {},
   "outputs": [
    {
     "data": {
      "text/html": [
       "<div>\n",
       "<style scoped>\n",
       "    .dataframe tbody tr th:only-of-type {\n",
       "        vertical-align: middle;\n",
       "    }\n",
       "\n",
       "    .dataframe tbody tr th {\n",
       "        vertical-align: top;\n",
       "    }\n",
       "\n",
       "    .dataframe thead th {\n",
       "        text-align: right;\n",
       "    }\n",
       "</style>\n",
       "<table border=\"1\" class=\"dataframe\">\n",
       "  <thead>\n",
       "    <tr style=\"text-align: right;\">\n",
       "      <th></th>\n",
       "      <th>Brand</th>\n",
       "      <th>Model</th>\n",
       "      <th>Accel</th>\n",
       "      <th>TopSpeed</th>\n",
       "      <th>Range</th>\n",
       "      <th>Efficiency</th>\n",
       "      <th>FastCharge</th>\n",
       "      <th>RapidCharge</th>\n",
       "      <th>PowerTrain</th>\n",
       "      <th>PlugType</th>\n",
       "      <th>BodyStyle</th>\n",
       "      <th>Segment</th>\n",
       "      <th>Seats</th>\n",
       "      <th>PriceEuro</th>\n",
       "    </tr>\n",
       "  </thead>\n",
       "  <tbody>\n",
       "    <tr>\n",
       "      <th>0</th>\n",
       "      <td>Tesla</td>\n",
       "      <td>Model 3 Long Range Dual Motor</td>\n",
       "      <td>4.6 sec</td>\n",
       "      <td>233 km/h</td>\n",
       "      <td>450 km</td>\n",
       "      <td>161 Wh/km</td>\n",
       "      <td>940 km/h</td>\n",
       "      <td>Rapid charging possible</td>\n",
       "      <td>All Wheel Drive</td>\n",
       "      <td>Type 2 CCS</td>\n",
       "      <td>Sedan</td>\n",
       "      <td>D</td>\n",
       "      <td>5</td>\n",
       "      <td>55480</td>\n",
       "    </tr>\n",
       "    <tr>\n",
       "      <th>1</th>\n",
       "      <td>Volkswagen</td>\n",
       "      <td>ID.3 Pure</td>\n",
       "      <td>10.0 sec</td>\n",
       "      <td>160 km/h</td>\n",
       "      <td>270 km</td>\n",
       "      <td>167 Wh/km</td>\n",
       "      <td>250 km/h</td>\n",
       "      <td>Rapid charging possible</td>\n",
       "      <td>Rear Wheel Drive</td>\n",
       "      <td>Type 2 CCS</td>\n",
       "      <td>Hatchback</td>\n",
       "      <td>C</td>\n",
       "      <td>5</td>\n",
       "      <td>30000</td>\n",
       "    </tr>\n",
       "    <tr>\n",
       "      <th>2</th>\n",
       "      <td>Polestar</td>\n",
       "      <td>2</td>\n",
       "      <td>4.7 sec</td>\n",
       "      <td>210 km/h</td>\n",
       "      <td>400 km</td>\n",
       "      <td>181 Wh/km</td>\n",
       "      <td>620 km/h</td>\n",
       "      <td>Rapid charging possible</td>\n",
       "      <td>All Wheel Drive</td>\n",
       "      <td>Type 2 CCS</td>\n",
       "      <td>Liftback</td>\n",
       "      <td>D</td>\n",
       "      <td>5</td>\n",
       "      <td>56440</td>\n",
       "    </tr>\n",
       "    <tr>\n",
       "      <th>3</th>\n",
       "      <td>BMW</td>\n",
       "      <td>iX3</td>\n",
       "      <td>6.8 sec</td>\n",
       "      <td>180 km/h</td>\n",
       "      <td>360 km</td>\n",
       "      <td>206 Wh/km</td>\n",
       "      <td>560 km/h</td>\n",
       "      <td>Rapid charging possible</td>\n",
       "      <td>Rear Wheel Drive</td>\n",
       "      <td>Type 2 CCS</td>\n",
       "      <td>SUV</td>\n",
       "      <td>D</td>\n",
       "      <td>5</td>\n",
       "      <td>68040</td>\n",
       "    </tr>\n",
       "    <tr>\n",
       "      <th>4</th>\n",
       "      <td>Honda</td>\n",
       "      <td>e</td>\n",
       "      <td>9.5 sec</td>\n",
       "      <td>145 km/h</td>\n",
       "      <td>170 km</td>\n",
       "      <td>168 Wh/km</td>\n",
       "      <td>190 km/h</td>\n",
       "      <td>Rapid charging possible</td>\n",
       "      <td>Rear Wheel Drive</td>\n",
       "      <td>Type 2 CCS</td>\n",
       "      <td>Hatchback</td>\n",
       "      <td>B</td>\n",
       "      <td>4</td>\n",
       "      <td>32997</td>\n",
       "    </tr>\n",
       "    <tr>\n",
       "      <th>...</th>\n",
       "      <td>...</td>\n",
       "      <td>...</td>\n",
       "      <td>...</td>\n",
       "      <td>...</td>\n",
       "      <td>...</td>\n",
       "      <td>...</td>\n",
       "      <td>...</td>\n",
       "      <td>...</td>\n",
       "      <td>...</td>\n",
       "      <td>...</td>\n",
       "      <td>...</td>\n",
       "      <td>...</td>\n",
       "      <td>...</td>\n",
       "      <td>...</td>\n",
       "    </tr>\n",
       "    <tr>\n",
       "      <th>98</th>\n",
       "      <td>Nissan</td>\n",
       "      <td>Ariya 63kWh</td>\n",
       "      <td>7.5 sec</td>\n",
       "      <td>160 km/h</td>\n",
       "      <td>330 km</td>\n",
       "      <td>191 Wh/km</td>\n",
       "      <td>440 km/h</td>\n",
       "      <td>Rapid charging possible</td>\n",
       "      <td>Front Wheel Drive</td>\n",
       "      <td>Type 2 CCS</td>\n",
       "      <td>Hatchback</td>\n",
       "      <td>C</td>\n",
       "      <td>5</td>\n",
       "      <td>45000</td>\n",
       "    </tr>\n",
       "    <tr>\n",
       "      <th>99</th>\n",
       "      <td>Audi</td>\n",
       "      <td>e-tron S Sportback 55 quattro</td>\n",
       "      <td>4.5 sec</td>\n",
       "      <td>210 km/h</td>\n",
       "      <td>335 km</td>\n",
       "      <td>258 Wh/km</td>\n",
       "      <td>540 km/h</td>\n",
       "      <td>Rapid charging possible</td>\n",
       "      <td>All Wheel Drive</td>\n",
       "      <td>Type 2 CCS</td>\n",
       "      <td>SUV</td>\n",
       "      <td>E</td>\n",
       "      <td>5</td>\n",
       "      <td>96050</td>\n",
       "    </tr>\n",
       "    <tr>\n",
       "      <th>100</th>\n",
       "      <td>Nissan</td>\n",
       "      <td>Ariya e-4ORCE 63kWh</td>\n",
       "      <td>5.9 sec</td>\n",
       "      <td>200 km/h</td>\n",
       "      <td>325 km</td>\n",
       "      <td>194 Wh/km</td>\n",
       "      <td>440 km/h</td>\n",
       "      <td>Rapid charging possible</td>\n",
       "      <td>All Wheel Drive</td>\n",
       "      <td>Type 2 CCS</td>\n",
       "      <td>Hatchback</td>\n",
       "      <td>C</td>\n",
       "      <td>5</td>\n",
       "      <td>50000</td>\n",
       "    </tr>\n",
       "    <tr>\n",
       "      <th>101</th>\n",
       "      <td>Nissan</td>\n",
       "      <td>Ariya e-4ORCE 87kWh Performance</td>\n",
       "      <td>5.1 sec</td>\n",
       "      <td>200 km/h</td>\n",
       "      <td>375 km</td>\n",
       "      <td>232 Wh/km</td>\n",
       "      <td>450 km/h</td>\n",
       "      <td>Rapid charging possible</td>\n",
       "      <td>All Wheel Drive</td>\n",
       "      <td>Type 2 CCS</td>\n",
       "      <td>Hatchback</td>\n",
       "      <td>C</td>\n",
       "      <td>5</td>\n",
       "      <td>65000</td>\n",
       "    </tr>\n",
       "    <tr>\n",
       "      <th>102</th>\n",
       "      <td>Byton</td>\n",
       "      <td>M-Byte 95 kWh 2WD</td>\n",
       "      <td>7.5 sec</td>\n",
       "      <td>190 km/h</td>\n",
       "      <td>400 km</td>\n",
       "      <td>238 Wh/km</td>\n",
       "      <td>480 km/h</td>\n",
       "      <td>Rapid charging possible</td>\n",
       "      <td>All Wheel Drive</td>\n",
       "      <td>Type 2 CCS</td>\n",
       "      <td>SUV</td>\n",
       "      <td>E</td>\n",
       "      <td>5</td>\n",
       "      <td>62000</td>\n",
       "    </tr>\n",
       "  </tbody>\n",
       "</table>\n",
       "<p>103 rows × 14 columns</p>\n",
       "</div>"
      ],
      "text/plain": [
       "           Brand                            Model     Accel  TopSpeed   Range  \\\n",
       "0         Tesla     Model 3 Long Range Dual Motor   4.6 sec  233 km/h  450 km   \n",
       "1    Volkswagen                         ID.3 Pure  10.0 sec  160 km/h  270 km   \n",
       "2      Polestar                                 2   4.7 sec  210 km/h  400 km   \n",
       "3           BMW                              iX3    6.8 sec  180 km/h  360 km   \n",
       "4         Honda                                e    9.5 sec  145 km/h  170 km   \n",
       "..           ...                              ...       ...       ...     ...   \n",
       "98       Nissan                       Ariya 63kWh   7.5 sec  160 km/h  330 km   \n",
       "99         Audi     e-tron S Sportback 55 quattro   4.5 sec  210 km/h  335 km   \n",
       "100      Nissan               Ariya e-4ORCE 63kWh   5.9 sec  200 km/h  325 km   \n",
       "101      Nissan   Ariya e-4ORCE 87kWh Performance   5.1 sec  200 km/h  375 km   \n",
       "102       Byton                 M-Byte 95 kWh 2WD   7.5 sec  190 km/h  400 km   \n",
       "\n",
       "    Efficiency FastCharge              RapidCharge         PowerTrain  \\\n",
       "0    161 Wh/km   940 km/h  Rapid charging possible    All Wheel Drive   \n",
       "1    167 Wh/km   250 km/h  Rapid charging possible   Rear Wheel Drive   \n",
       "2    181 Wh/km   620 km/h  Rapid charging possible    All Wheel Drive   \n",
       "3    206 Wh/km   560 km/h  Rapid charging possible   Rear Wheel Drive   \n",
       "4    168 Wh/km   190 km/h  Rapid charging possible   Rear Wheel Drive   \n",
       "..         ...        ...                      ...                ...   \n",
       "98   191 Wh/km   440 km/h  Rapid charging possible  Front Wheel Drive   \n",
       "99   258 Wh/km   540 km/h  Rapid charging possible    All Wheel Drive   \n",
       "100  194 Wh/km   440 km/h  Rapid charging possible    All Wheel Drive   \n",
       "101  232 Wh/km   450 km/h  Rapid charging possible    All Wheel Drive   \n",
       "102  238 Wh/km   480 km/h  Rapid charging possible    All Wheel Drive   \n",
       "\n",
       "       PlugType  BodyStyle Segment  Seats  PriceEuro  \n",
       "0    Type 2 CCS      Sedan       D      5      55480  \n",
       "1    Type 2 CCS  Hatchback       C      5      30000  \n",
       "2    Type 2 CCS   Liftback       D      5      56440  \n",
       "3    Type 2 CCS        SUV       D      5      68040  \n",
       "4    Type 2 CCS  Hatchback       B      4      32997  \n",
       "..          ...        ...     ...    ...        ...  \n",
       "98   Type 2 CCS  Hatchback       C      5      45000  \n",
       "99   Type 2 CCS        SUV       E      5      96050  \n",
       "100  Type 2 CCS  Hatchback       C      5      50000  \n",
       "101  Type 2 CCS  Hatchback       C      5      65000  \n",
       "102  Type 2 CCS        SUV       E      5      62000  \n",
       "\n",
       "[103 rows x 14 columns]"
      ]
     },
     "execution_count": 5,
     "metadata": {},
     "output_type": "execute_result"
    }
   ],
   "source": [
    "df"
   ]
  },
  {
   "cell_type": "code",
   "execution_count": 6,
   "id": "23ef02fe",
   "metadata": {},
   "outputs": [
    {
     "data": {
      "text/html": [
       "<div>\n",
       "<style scoped>\n",
       "    .dataframe tbody tr th:only-of-type {\n",
       "        vertical-align: middle;\n",
       "    }\n",
       "\n",
       "    .dataframe tbody tr th {\n",
       "        vertical-align: top;\n",
       "    }\n",
       "\n",
       "    .dataframe thead th {\n",
       "        text-align: right;\n",
       "    }\n",
       "</style>\n",
       "<table border=\"1\" class=\"dataframe\">\n",
       "  <thead>\n",
       "    <tr style=\"text-align: right;\">\n",
       "      <th></th>\n",
       "      <th>Brand</th>\n",
       "      <th>Model</th>\n",
       "      <th>Accel</th>\n",
       "      <th>TopSpeed</th>\n",
       "      <th>Range</th>\n",
       "      <th>Efficiency</th>\n",
       "      <th>FastCharge</th>\n",
       "      <th>RapidCharge</th>\n",
       "      <th>PowerTrain</th>\n",
       "      <th>PlugType</th>\n",
       "      <th>BodyStyle</th>\n",
       "      <th>Segment</th>\n",
       "      <th>Seats</th>\n",
       "      <th>PriceEuro</th>\n",
       "      <th>inr(10e3)</th>\n",
       "    </tr>\n",
       "  </thead>\n",
       "  <tbody>\n",
       "    <tr>\n",
       "      <th>0</th>\n",
       "      <td>Tesla</td>\n",
       "      <td>Model 3 Long Range Dual Motor</td>\n",
       "      <td>4.6 sec</td>\n",
       "      <td>233 km/h</td>\n",
       "      <td>450 km</td>\n",
       "      <td>161 Wh/km</td>\n",
       "      <td>940 km/h</td>\n",
       "      <td>Rapid charging possible</td>\n",
       "      <td>All Wheel Drive</td>\n",
       "      <td>Type 2 CCS</td>\n",
       "      <td>Sedan</td>\n",
       "      <td>D</td>\n",
       "      <td>5</td>\n",
       "      <td>55480</td>\n",
       "      <td>4615.9360</td>\n",
       "    </tr>\n",
       "    <tr>\n",
       "      <th>1</th>\n",
       "      <td>Volkswagen</td>\n",
       "      <td>ID.3 Pure</td>\n",
       "      <td>10.0 sec</td>\n",
       "      <td>160 km/h</td>\n",
       "      <td>270 km</td>\n",
       "      <td>167 Wh/km</td>\n",
       "      <td>250 km/h</td>\n",
       "      <td>Rapid charging possible</td>\n",
       "      <td>Rear Wheel Drive</td>\n",
       "      <td>Type 2 CCS</td>\n",
       "      <td>Hatchback</td>\n",
       "      <td>C</td>\n",
       "      <td>5</td>\n",
       "      <td>30000</td>\n",
       "      <td>2496.0000</td>\n",
       "    </tr>\n",
       "    <tr>\n",
       "      <th>2</th>\n",
       "      <td>Polestar</td>\n",
       "      <td>2</td>\n",
       "      <td>4.7 sec</td>\n",
       "      <td>210 km/h</td>\n",
       "      <td>400 km</td>\n",
       "      <td>181 Wh/km</td>\n",
       "      <td>620 km/h</td>\n",
       "      <td>Rapid charging possible</td>\n",
       "      <td>All Wheel Drive</td>\n",
       "      <td>Type 2 CCS</td>\n",
       "      <td>Liftback</td>\n",
       "      <td>D</td>\n",
       "      <td>5</td>\n",
       "      <td>56440</td>\n",
       "      <td>4695.8080</td>\n",
       "    </tr>\n",
       "    <tr>\n",
       "      <th>3</th>\n",
       "      <td>BMW</td>\n",
       "      <td>iX3</td>\n",
       "      <td>6.8 sec</td>\n",
       "      <td>180 km/h</td>\n",
       "      <td>360 km</td>\n",
       "      <td>206 Wh/km</td>\n",
       "      <td>560 km/h</td>\n",
       "      <td>Rapid charging possible</td>\n",
       "      <td>Rear Wheel Drive</td>\n",
       "      <td>Type 2 CCS</td>\n",
       "      <td>SUV</td>\n",
       "      <td>D</td>\n",
       "      <td>5</td>\n",
       "      <td>68040</td>\n",
       "      <td>5660.9280</td>\n",
       "    </tr>\n",
       "    <tr>\n",
       "      <th>4</th>\n",
       "      <td>Honda</td>\n",
       "      <td>e</td>\n",
       "      <td>9.5 sec</td>\n",
       "      <td>145 km/h</td>\n",
       "      <td>170 km</td>\n",
       "      <td>168 Wh/km</td>\n",
       "      <td>190 km/h</td>\n",
       "      <td>Rapid charging possible</td>\n",
       "      <td>Rear Wheel Drive</td>\n",
       "      <td>Type 2 CCS</td>\n",
       "      <td>Hatchback</td>\n",
       "      <td>B</td>\n",
       "      <td>4</td>\n",
       "      <td>32997</td>\n",
       "      <td>2745.3504</td>\n",
       "    </tr>\n",
       "  </tbody>\n",
       "</table>\n",
       "</div>"
      ],
      "text/plain": [
       "         Brand                          Model     Accel  TopSpeed   Range  \\\n",
       "0       Tesla   Model 3 Long Range Dual Motor   4.6 sec  233 km/h  450 km   \n",
       "1  Volkswagen                       ID.3 Pure  10.0 sec  160 km/h  270 km   \n",
       "2    Polestar                               2   4.7 sec  210 km/h  400 km   \n",
       "3         BMW                            iX3    6.8 sec  180 km/h  360 km   \n",
       "4       Honda                              e    9.5 sec  145 km/h  170 km   \n",
       "\n",
       "  Efficiency FastCharge              RapidCharge        PowerTrain  \\\n",
       "0  161 Wh/km   940 km/h  Rapid charging possible   All Wheel Drive   \n",
       "1  167 Wh/km   250 km/h  Rapid charging possible  Rear Wheel Drive   \n",
       "2  181 Wh/km   620 km/h  Rapid charging possible   All Wheel Drive   \n",
       "3  206 Wh/km   560 km/h  Rapid charging possible  Rear Wheel Drive   \n",
       "4  168 Wh/km   190 km/h  Rapid charging possible  Rear Wheel Drive   \n",
       "\n",
       "     PlugType  BodyStyle Segment  Seats  PriceEuro  inr(10e3)  \n",
       "0  Type 2 CCS      Sedan       D      5      55480  4615.9360  \n",
       "1  Type 2 CCS  Hatchback       C      5      30000  2496.0000  \n",
       "2  Type 2 CCS   Liftback       D      5      56440  4695.8080  \n",
       "3  Type 2 CCS        SUV       D      5      68040  5660.9280  \n",
       "4  Type 2 CCS  Hatchback       B      4      32997  2745.3504  "
      ]
     },
     "execution_count": 6,
     "metadata": {},
     "output_type": "execute_result"
    }
   ],
   "source": [
    "\n",
    "df['inr(10e3)'] = df['PriceEuro']*0.08320\n",
    "df['RapidCharge'].replace(to_replace=['No','Yes'],value=[0, 1],inplace=True)\n",
    "df.head()"
   ]
  },
  {
   "cell_type": "code",
   "execution_count": 7,
   "id": "40ab269e",
   "metadata": {},
   "outputs": [
    {
     "data": {
      "text/html": [
       "<div>\n",
       "<style scoped>\n",
       "    .dataframe tbody tr th:only-of-type {\n",
       "        vertical-align: middle;\n",
       "    }\n",
       "\n",
       "    .dataframe tbody tr th {\n",
       "        vertical-align: top;\n",
       "    }\n",
       "\n",
       "    .dataframe thead th {\n",
       "        text-align: right;\n",
       "    }\n",
       "</style>\n",
       "<table border=\"1\" class=\"dataframe\">\n",
       "  <thead>\n",
       "    <tr style=\"text-align: right;\">\n",
       "      <th></th>\n",
       "      <th>Brand</th>\n",
       "      <th>Model</th>\n",
       "      <th>Accel</th>\n",
       "      <th>TopSpeed</th>\n",
       "      <th>Range</th>\n",
       "      <th>Efficiency</th>\n",
       "      <th>FastCharge</th>\n",
       "      <th>RapidCharge</th>\n",
       "      <th>PowerTrain</th>\n",
       "      <th>PlugType</th>\n",
       "      <th>BodyStyle</th>\n",
       "      <th>Segment</th>\n",
       "      <th>Seats</th>\n",
       "      <th>PriceEuro</th>\n",
       "      <th>inr(10e3)</th>\n",
       "    </tr>\n",
       "  </thead>\n",
       "  <tbody>\n",
       "    <tr>\n",
       "      <th>0</th>\n",
       "      <td>Tesla</td>\n",
       "      <td>Model 3 Long Range Dual Motor</td>\n",
       "      <td>4.6 sec</td>\n",
       "      <td>233 km/h</td>\n",
       "      <td>450 km</td>\n",
       "      <td>161 Wh/km</td>\n",
       "      <td>940 km/h</td>\n",
       "      <td>Rapid charging possible</td>\n",
       "      <td>All Wheel Drive</td>\n",
       "      <td>Type 2 CCS</td>\n",
       "      <td>Sedan</td>\n",
       "      <td>D</td>\n",
       "      <td>5</td>\n",
       "      <td>55480</td>\n",
       "      <td>4615.9360</td>\n",
       "    </tr>\n",
       "    <tr>\n",
       "      <th>3</th>\n",
       "      <td>BMW</td>\n",
       "      <td>iX3</td>\n",
       "      <td>6.8 sec</td>\n",
       "      <td>180 km/h</td>\n",
       "      <td>360 km</td>\n",
       "      <td>206 Wh/km</td>\n",
       "      <td>560 km/h</td>\n",
       "      <td>Rapid charging possible</td>\n",
       "      <td>Rear Wheel Drive</td>\n",
       "      <td>Type 2 CCS</td>\n",
       "      <td>SUV</td>\n",
       "      <td>D</td>\n",
       "      <td>5</td>\n",
       "      <td>68040</td>\n",
       "      <td>5660.9280</td>\n",
       "    </tr>\n",
       "    <tr>\n",
       "      <th>8</th>\n",
       "      <td>Tesla</td>\n",
       "      <td>Model 3 Standard Range Plus</td>\n",
       "      <td>5.6 sec</td>\n",
       "      <td>225 km/h</td>\n",
       "      <td>310 km</td>\n",
       "      <td>153 Wh/km</td>\n",
       "      <td>650 km/h</td>\n",
       "      <td>Rapid charging possible</td>\n",
       "      <td>Rear Wheel Drive</td>\n",
       "      <td>Type 2 CCS</td>\n",
       "      <td>Sedan</td>\n",
       "      <td>D</td>\n",
       "      <td>5</td>\n",
       "      <td>46380</td>\n",
       "      <td>3858.8160</td>\n",
       "    </tr>\n",
       "    <tr>\n",
       "      <th>13</th>\n",
       "      <td>BMW</td>\n",
       "      <td>i4</td>\n",
       "      <td>4.0 sec</td>\n",
       "      <td>200 km/h</td>\n",
       "      <td>450 km</td>\n",
       "      <td>178 Wh/km</td>\n",
       "      <td>650 km/h</td>\n",
       "      <td>Rapid charging possible</td>\n",
       "      <td>Rear Wheel Drive</td>\n",
       "      <td>Type 2 CCS</td>\n",
       "      <td>Sedan</td>\n",
       "      <td>D</td>\n",
       "      <td>5</td>\n",
       "      <td>65000</td>\n",
       "      <td>5408.0000</td>\n",
       "    </tr>\n",
       "    <tr>\n",
       "      <th>21</th>\n",
       "      <td>Tesla</td>\n",
       "      <td>Model Y Long Range Dual Motor</td>\n",
       "      <td>5.1 sec</td>\n",
       "      <td>217 km/h</td>\n",
       "      <td>425 km</td>\n",
       "      <td>171 Wh/km</td>\n",
       "      <td>930 km/h</td>\n",
       "      <td>Rapid charging possible</td>\n",
       "      <td>All Wheel Drive</td>\n",
       "      <td>Type 2 CCS</td>\n",
       "      <td>SUV</td>\n",
       "      <td>D</td>\n",
       "      <td>7</td>\n",
       "      <td>58620</td>\n",
       "      <td>4877.1840</td>\n",
       "    </tr>\n",
       "    <tr>\n",
       "      <th>24</th>\n",
       "      <td>Tesla</td>\n",
       "      <td>Model 3 Long Range Performance</td>\n",
       "      <td>3.4 sec</td>\n",
       "      <td>261 km/h</td>\n",
       "      <td>435 km</td>\n",
       "      <td>167 Wh/km</td>\n",
       "      <td>910 km/h</td>\n",
       "      <td>Rapid charging possible</td>\n",
       "      <td>All Wheel Drive</td>\n",
       "      <td>Type 2 CCS</td>\n",
       "      <td>Sedan</td>\n",
       "      <td>D</td>\n",
       "      <td>5</td>\n",
       "      <td>61480</td>\n",
       "      <td>5115.1360</td>\n",
       "    </tr>\n",
       "    <tr>\n",
       "      <th>28</th>\n",
       "      <td>BMW</td>\n",
       "      <td>i3 120 Ah</td>\n",
       "      <td>7.3 sec</td>\n",
       "      <td>150 km/h</td>\n",
       "      <td>235 km</td>\n",
       "      <td>161 Wh/km</td>\n",
       "      <td>270 km/h</td>\n",
       "      <td>Rapid charging possible</td>\n",
       "      <td>Rear Wheel Drive</td>\n",
       "      <td>Type 2 CCS</td>\n",
       "      <td>Hatchback</td>\n",
       "      <td>B</td>\n",
       "      <td>4</td>\n",
       "      <td>38017</td>\n",
       "      <td>3163.0144</td>\n",
       "    </tr>\n",
       "    <tr>\n",
       "      <th>33</th>\n",
       "      <td>Tesla</td>\n",
       "      <td>Cybertruck Tri Motor</td>\n",
       "      <td>3.0 sec</td>\n",
       "      <td>210 km/h</td>\n",
       "      <td>750 km</td>\n",
       "      <td>267 Wh/km</td>\n",
       "      <td>710 km/h</td>\n",
       "      <td>Rapid charging possible</td>\n",
       "      <td>All Wheel Drive</td>\n",
       "      <td>Type 2 CCS</td>\n",
       "      <td>Pickup</td>\n",
       "      <td>N</td>\n",
       "      <td>6</td>\n",
       "      <td>75000</td>\n",
       "      <td>6240.0000</td>\n",
       "    </tr>\n",
       "    <tr>\n",
       "      <th>40</th>\n",
       "      <td>Tesla</td>\n",
       "      <td>Model S Long Range</td>\n",
       "      <td>3.8 sec</td>\n",
       "      <td>250 km/h</td>\n",
       "      <td>515 km</td>\n",
       "      <td>184 Wh/km</td>\n",
       "      <td>560 km/h</td>\n",
       "      <td>Rapid charging possible</td>\n",
       "      <td>All Wheel Drive</td>\n",
       "      <td>Type 2</td>\n",
       "      <td>Liftback</td>\n",
       "      <td>F</td>\n",
       "      <td>5</td>\n",
       "      <td>79990</td>\n",
       "      <td>6655.1680</td>\n",
       "    </tr>\n",
       "    <tr>\n",
       "      <th>51</th>\n",
       "      <td>Tesla</td>\n",
       "      <td>Roadster</td>\n",
       "      <td>2.1 sec</td>\n",
       "      <td>410 km/h</td>\n",
       "      <td>970 km</td>\n",
       "      <td>206 Wh/km</td>\n",
       "      <td>920 km/h</td>\n",
       "      <td>Rapid charging possible</td>\n",
       "      <td>All Wheel Drive</td>\n",
       "      <td>Type 2 CCS</td>\n",
       "      <td>Cabrio</td>\n",
       "      <td>S</td>\n",
       "      <td>4</td>\n",
       "      <td>215000</td>\n",
       "      <td>17888.0000</td>\n",
       "    </tr>\n",
       "    <tr>\n",
       "      <th>54</th>\n",
       "      <td>Tesla</td>\n",
       "      <td>Model X Long Range</td>\n",
       "      <td>4.6 sec</td>\n",
       "      <td>250 km/h</td>\n",
       "      <td>450 km</td>\n",
       "      <td>211 Wh/km</td>\n",
       "      <td>490 km/h</td>\n",
       "      <td>Rapid charging possible</td>\n",
       "      <td>All Wheel Drive</td>\n",
       "      <td>Type 2</td>\n",
       "      <td>SUV</td>\n",
       "      <td>F</td>\n",
       "      <td>7</td>\n",
       "      <td>85990</td>\n",
       "      <td>7154.3680</td>\n",
       "    </tr>\n",
       "    <tr>\n",
       "      <th>59</th>\n",
       "      <td>Tesla</td>\n",
       "      <td>Model S Performance</td>\n",
       "      <td>2.5 sec</td>\n",
       "      <td>261 km/h</td>\n",
       "      <td>505 km</td>\n",
       "      <td>188 Wh/km</td>\n",
       "      <td>550 km/h</td>\n",
       "      <td>Rapid charging possible</td>\n",
       "      <td>All Wheel Drive</td>\n",
       "      <td>Type 2</td>\n",
       "      <td>Liftback</td>\n",
       "      <td>F</td>\n",
       "      <td>5</td>\n",
       "      <td>96990</td>\n",
       "      <td>8069.5680</td>\n",
       "    </tr>\n",
       "    <tr>\n",
       "      <th>61</th>\n",
       "      <td>Tesla</td>\n",
       "      <td>Model Y Long Range Performance</td>\n",
       "      <td>3.7 sec</td>\n",
       "      <td>241 km/h</td>\n",
       "      <td>410 km</td>\n",
       "      <td>177 Wh/km</td>\n",
       "      <td>900 km/h</td>\n",
       "      <td>Rapid charging possible</td>\n",
       "      <td>All Wheel Drive</td>\n",
       "      <td>Type 2 CCS</td>\n",
       "      <td>SUV</td>\n",
       "      <td>D</td>\n",
       "      <td>7</td>\n",
       "      <td>65620</td>\n",
       "      <td>5459.5840</td>\n",
       "    </tr>\n",
       "    <tr>\n",
       "      <th>67</th>\n",
       "      <td>Tesla</td>\n",
       "      <td>Cybertruck Dual Motor</td>\n",
       "      <td>5.0 sec</td>\n",
       "      <td>190 km/h</td>\n",
       "      <td>460 km</td>\n",
       "      <td>261 Wh/km</td>\n",
       "      <td>710 km/h</td>\n",
       "      <td>Rapid charging possible</td>\n",
       "      <td>All Wheel Drive</td>\n",
       "      <td>Type 2 CCS</td>\n",
       "      <td>Pickup</td>\n",
       "      <td>N</td>\n",
       "      <td>6</td>\n",
       "      <td>55000</td>\n",
       "      <td>4576.0000</td>\n",
       "    </tr>\n",
       "    <tr>\n",
       "      <th>70</th>\n",
       "      <td>BMW</td>\n",
       "      <td>i3s 120 Ah</td>\n",
       "      <td>6.9 sec</td>\n",
       "      <td>160 km/h</td>\n",
       "      <td>230 km</td>\n",
       "      <td>165 Wh/km</td>\n",
       "      <td>260 km/h</td>\n",
       "      <td>Rapid charging possible</td>\n",
       "      <td>Rear Wheel Drive</td>\n",
       "      <td>Type 2 CCS</td>\n",
       "      <td>Hatchback</td>\n",
       "      <td>B</td>\n",
       "      <td>4</td>\n",
       "      <td>41526</td>\n",
       "      <td>3454.9632</td>\n",
       "    </tr>\n",
       "    <tr>\n",
       "      <th>81</th>\n",
       "      <td>Tesla</td>\n",
       "      <td>Model X Performance</td>\n",
       "      <td>2.8 sec</td>\n",
       "      <td>250 km/h</td>\n",
       "      <td>440 km</td>\n",
       "      <td>216 Wh/km</td>\n",
       "      <td>480 km/h</td>\n",
       "      <td>Rapid charging possible</td>\n",
       "      <td>All Wheel Drive</td>\n",
       "      <td>Type 2</td>\n",
       "      <td>SUV</td>\n",
       "      <td>F</td>\n",
       "      <td>7</td>\n",
       "      <td>102990</td>\n",
       "      <td>8568.7680</td>\n",
       "    </tr>\n",
       "    <tr>\n",
       "      <th>86</th>\n",
       "      <td>Tesla</td>\n",
       "      <td>Cybertruck Single Motor</td>\n",
       "      <td>7.0 sec</td>\n",
       "      <td>180 km/h</td>\n",
       "      <td>390 km</td>\n",
       "      <td>256 Wh/km</td>\n",
       "      <td>740 km/h</td>\n",
       "      <td>Rapid charging possible</td>\n",
       "      <td>Rear Wheel Drive</td>\n",
       "      <td>Type 2 CCS</td>\n",
       "      <td>Pickup</td>\n",
       "      <td>N</td>\n",
       "      <td>6</td>\n",
       "      <td>45000</td>\n",
       "      <td>3744.0000</td>\n",
       "    </tr>\n",
       "  </tbody>\n",
       "</table>\n",
       "</div>"
      ],
      "text/plain": [
       "     Brand                           Model    Accel  TopSpeed   Range  \\\n",
       "0   Tesla    Model 3 Long Range Dual Motor  4.6 sec  233 km/h  450 km   \n",
       "3     BMW                             iX3   6.8 sec  180 km/h  360 km   \n",
       "8   Tesla      Model 3 Standard Range Plus  5.6 sec  225 km/h  310 km   \n",
       "13    BMW                              i4   4.0 sec  200 km/h  450 km   \n",
       "21  Tesla    Model Y Long Range Dual Motor  5.1 sec  217 km/h  425 km   \n",
       "24  Tesla   Model 3 Long Range Performance  3.4 sec  261 km/h  435 km   \n",
       "28    BMW                        i3 120 Ah  7.3 sec  150 km/h  235 km   \n",
       "33  Tesla             Cybertruck Tri Motor  3.0 sec  210 km/h  750 km   \n",
       "40  Tesla               Model S Long Range  3.8 sec  250 km/h  515 km   \n",
       "51  Tesla                        Roadster   2.1 sec  410 km/h  970 km   \n",
       "54  Tesla               Model X Long Range  4.6 sec  250 km/h  450 km   \n",
       "59  Tesla              Model S Performance  2.5 sec  261 km/h  505 km   \n",
       "61  Tesla   Model Y Long Range Performance  3.7 sec  241 km/h  410 km   \n",
       "67  Tesla            Cybertruck Dual Motor  5.0 sec  190 km/h  460 km   \n",
       "70    BMW                       i3s 120 Ah  6.9 sec  160 km/h  230 km   \n",
       "81  Tesla              Model X Performance  2.8 sec  250 km/h  440 km   \n",
       "86  Tesla          Cybertruck Single Motor  7.0 sec  180 km/h  390 km   \n",
       "\n",
       "   Efficiency FastCharge              RapidCharge        PowerTrain  \\\n",
       "0   161 Wh/km   940 km/h  Rapid charging possible   All Wheel Drive   \n",
       "3   206 Wh/km   560 km/h  Rapid charging possible  Rear Wheel Drive   \n",
       "8   153 Wh/km   650 km/h  Rapid charging possible  Rear Wheel Drive   \n",
       "13  178 Wh/km   650 km/h  Rapid charging possible  Rear Wheel Drive   \n",
       "21  171 Wh/km   930 km/h  Rapid charging possible   All Wheel Drive   \n",
       "24  167 Wh/km   910 km/h  Rapid charging possible   All Wheel Drive   \n",
       "28  161 Wh/km   270 km/h  Rapid charging possible  Rear Wheel Drive   \n",
       "33  267 Wh/km   710 km/h  Rapid charging possible   All Wheel Drive   \n",
       "40  184 Wh/km   560 km/h  Rapid charging possible   All Wheel Drive   \n",
       "51  206 Wh/km   920 km/h  Rapid charging possible   All Wheel Drive   \n",
       "54  211 Wh/km   490 km/h  Rapid charging possible   All Wheel Drive   \n",
       "59  188 Wh/km   550 km/h  Rapid charging possible   All Wheel Drive   \n",
       "61  177 Wh/km   900 km/h  Rapid charging possible   All Wheel Drive   \n",
       "67  261 Wh/km   710 km/h  Rapid charging possible   All Wheel Drive   \n",
       "70  165 Wh/km   260 km/h  Rapid charging possible  Rear Wheel Drive   \n",
       "81  216 Wh/km   480 km/h  Rapid charging possible   All Wheel Drive   \n",
       "86  256 Wh/km   740 km/h  Rapid charging possible  Rear Wheel Drive   \n",
       "\n",
       "      PlugType  BodyStyle Segment  Seats  PriceEuro   inr(10e3)  \n",
       "0   Type 2 CCS      Sedan       D      5      55480   4615.9360  \n",
       "3   Type 2 CCS        SUV       D      5      68040   5660.9280  \n",
       "8   Type 2 CCS      Sedan       D      5      46380   3858.8160  \n",
       "13  Type 2 CCS      Sedan       D      5      65000   5408.0000  \n",
       "21  Type 2 CCS        SUV       D      7      58620   4877.1840  \n",
       "24  Type 2 CCS      Sedan       D      5      61480   5115.1360  \n",
       "28  Type 2 CCS  Hatchback       B      4      38017   3163.0144  \n",
       "33  Type 2 CCS     Pickup       N      6      75000   6240.0000  \n",
       "40      Type 2   Liftback       F      5      79990   6655.1680  \n",
       "51  Type 2 CCS     Cabrio       S      4     215000  17888.0000  \n",
       "54      Type 2        SUV       F      7      85990   7154.3680  \n",
       "59      Type 2   Liftback       F      5      96990   8069.5680  \n",
       "61  Type 2 CCS        SUV       D      7      65620   5459.5840  \n",
       "67  Type 2 CCS     Pickup       N      6      55000   4576.0000  \n",
       "70  Type 2 CCS  Hatchback       B      4      41526   3454.9632  \n",
       "81      Type 2        SUV       F      7     102990   8568.7680  \n",
       "86  Type 2 CCS     Pickup       N      6      45000   3744.0000  "
      ]
     },
     "execution_count": 7,
     "metadata": {},
     "output_type": "execute_result"
    }
   ],
   "source": [
    "df[(df['Brand'] == 'Tesla ') | (df['Brand'] == 'BMW ')]\n",
    "     "
   ]
  },
  {
   "cell_type": "code",
   "execution_count": 8,
   "id": "f9f99128",
   "metadata": {},
   "outputs": [
    {
     "name": "stdout",
     "output_type": "stream",
     "text": [
      "<class 'pandas.core.frame.DataFrame'>\n",
      "RangeIndex: 103 entries, 0 to 102\n",
      "Data columns (total 15 columns):\n",
      " #   Column       Non-Null Count  Dtype  \n",
      "---  ------       --------------  -----  \n",
      " 0   Brand        103 non-null    object \n",
      " 1   Model        103 non-null    object \n",
      " 2   Accel        103 non-null    object \n",
      " 3   TopSpeed     103 non-null    object \n",
      " 4   Range        103 non-null    object \n",
      " 5   Efficiency   103 non-null    object \n",
      " 6   FastCharge   103 non-null    object \n",
      " 7   RapidCharge  103 non-null    object \n",
      " 8   PowerTrain   103 non-null    object \n",
      " 9   PlugType     103 non-null    object \n",
      " 10  BodyStyle    103 non-null    object \n",
      " 11  Segment      103 non-null    object \n",
      " 12  Seats        103 non-null    int64  \n",
      " 13  PriceEuro    103 non-null    int64  \n",
      " 14  inr(10e3)    103 non-null    float64\n",
      "dtypes: float64(1), int64(2), object(12)\n",
      "memory usage: 12.2+ KB\n"
     ]
    }
   ],
   "source": [
    "df.info()"
   ]
  },
  {
   "cell_type": "code",
   "execution_count": 9,
   "id": "f3f9dc11",
   "metadata": {},
   "outputs": [
    {
     "data": {
      "text/html": [
       "<div>\n",
       "<style scoped>\n",
       "    .dataframe tbody tr th:only-of-type {\n",
       "        vertical-align: middle;\n",
       "    }\n",
       "\n",
       "    .dataframe tbody tr th {\n",
       "        vertical-align: top;\n",
       "    }\n",
       "\n",
       "    .dataframe thead th {\n",
       "        text-align: right;\n",
       "    }\n",
       "</style>\n",
       "<table border=\"1\" class=\"dataframe\">\n",
       "  <thead>\n",
       "    <tr style=\"text-align: right;\">\n",
       "      <th></th>\n",
       "      <th>Seats</th>\n",
       "      <th>PriceEuro</th>\n",
       "      <th>inr(10e3)</th>\n",
       "    </tr>\n",
       "  </thead>\n",
       "  <tbody>\n",
       "    <tr>\n",
       "      <th>count</th>\n",
       "      <td>103.000000</td>\n",
       "      <td>103.000000</td>\n",
       "      <td>103.000000</td>\n",
       "    </tr>\n",
       "    <tr>\n",
       "      <th>mean</th>\n",
       "      <td>4.883495</td>\n",
       "      <td>55811.563107</td>\n",
       "      <td>4643.522050</td>\n",
       "    </tr>\n",
       "    <tr>\n",
       "      <th>std</th>\n",
       "      <td>0.795834</td>\n",
       "      <td>34134.665280</td>\n",
       "      <td>2840.004151</td>\n",
       "    </tr>\n",
       "    <tr>\n",
       "      <th>min</th>\n",
       "      <td>2.000000</td>\n",
       "      <td>20129.000000</td>\n",
       "      <td>1674.732800</td>\n",
       "    </tr>\n",
       "    <tr>\n",
       "      <th>25%</th>\n",
       "      <td>5.000000</td>\n",
       "      <td>34429.500000</td>\n",
       "      <td>2864.534400</td>\n",
       "    </tr>\n",
       "    <tr>\n",
       "      <th>50%</th>\n",
       "      <td>5.000000</td>\n",
       "      <td>45000.000000</td>\n",
       "      <td>3744.000000</td>\n",
       "    </tr>\n",
       "    <tr>\n",
       "      <th>75%</th>\n",
       "      <td>5.000000</td>\n",
       "      <td>65000.000000</td>\n",
       "      <td>5408.000000</td>\n",
       "    </tr>\n",
       "    <tr>\n",
       "      <th>max</th>\n",
       "      <td>7.000000</td>\n",
       "      <td>215000.000000</td>\n",
       "      <td>17888.000000</td>\n",
       "    </tr>\n",
       "  </tbody>\n",
       "</table>\n",
       "</div>"
      ],
      "text/plain": [
       "            Seats      PriceEuro     inr(10e3)\n",
       "count  103.000000     103.000000    103.000000\n",
       "mean     4.883495   55811.563107   4643.522050\n",
       "std      0.795834   34134.665280   2840.004151\n",
       "min      2.000000   20129.000000   1674.732800\n",
       "25%      5.000000   34429.500000   2864.534400\n",
       "50%      5.000000   45000.000000   3744.000000\n",
       "75%      5.000000   65000.000000   5408.000000\n",
       "max      7.000000  215000.000000  17888.000000"
      ]
     },
     "execution_count": 9,
     "metadata": {},
     "output_type": "execute_result"
    }
   ],
   "source": [
    "df.isnull().sum()\n",
    "df.describe()"
   ]
  },
  {
   "cell_type": "code",
   "execution_count": 17,
   "id": "bd38a772",
   "metadata": {},
   "outputs": [
    {
     "data": {
      "application/vnd.plotly.v1+json": {
       "config": {
        "plotlyServerURL": "https://plot.ly"
       },
       "data": [
        {
         "alignmentgroup": "True",
         "hovertemplate": "Brand=%{y}<br>TopSpeed=%{x}<extra></extra>",
         "legendgroup": "Tesla ",
         "marker": {
          "color": "#636efa",
          "pattern": {
           "shape": ""
          }
         },
         "name": "Tesla ",
         "offsetgroup": "Tesla ",
         "orientation": "v",
         "showlegend": true,
         "textposition": "auto",
         "type": "bar",
         "x": [
          "233 km/h",
          "225 km/h",
          "217 km/h",
          "261 km/h",
          "210 km/h",
          "250 km/h",
          "410 km/h",
          "250 km/h",
          "261 km/h",
          "241 km/h",
          "190 km/h",
          "250 km/h",
          "180 km/h"
         ],
         "xaxis": "x",
         "y": [
          "Tesla ",
          "Tesla ",
          "Tesla ",
          "Tesla ",
          "Tesla ",
          "Tesla ",
          "Tesla ",
          "Tesla ",
          "Tesla ",
          "Tesla ",
          "Tesla ",
          "Tesla ",
          "Tesla "
         ],
         "yaxis": "y"
        },
        {
         "alignmentgroup": "True",
         "hovertemplate": "Brand=%{y}<br>TopSpeed=%{x}<extra></extra>",
         "legendgroup": "Volkswagen ",
         "marker": {
          "color": "#EF553B",
          "pattern": {
           "shape": ""
          }
         },
         "name": "Volkswagen ",
         "offsetgroup": "Volkswagen ",
         "orientation": "v",
         "showlegend": true,
         "textposition": "auto",
         "type": "bar",
         "x": [
          "160 km/h",
          "150 km/h",
          "160 km/h",
          "130 km/h",
          "160 km/h",
          "160 km/h",
          "160 km/h",
          "160 km/h"
         ],
         "xaxis": "x",
         "y": [
          "Volkswagen ",
          "Volkswagen ",
          "Volkswagen ",
          "Volkswagen ",
          "Volkswagen ",
          "Volkswagen ",
          "Volkswagen ",
          "Volkswagen "
         ],
         "yaxis": "y"
        },
        {
         "alignmentgroup": "True",
         "hovertemplate": "Brand=%{y}<br>TopSpeed=%{x}<extra></extra>",
         "legendgroup": "Polestar ",
         "marker": {
          "color": "#00cc96",
          "pattern": {
           "shape": ""
          }
         },
         "name": "Polestar ",
         "offsetgroup": "Polestar ",
         "orientation": "v",
         "showlegend": true,
         "textposition": "auto",
         "type": "bar",
         "x": [
          "210 km/h"
         ],
         "xaxis": "x",
         "y": [
          "Polestar "
         ],
         "yaxis": "y"
        },
        {
         "alignmentgroup": "True",
         "hovertemplate": "Brand=%{y}<br>TopSpeed=%{x}<extra></extra>",
         "legendgroup": "BMW ",
         "marker": {
          "color": "#ab63fa",
          "pattern": {
           "shape": ""
          }
         },
         "name": "BMW ",
         "offsetgroup": "BMW ",
         "orientation": "v",
         "showlegend": true,
         "textposition": "auto",
         "type": "bar",
         "x": [
          "180 km/h",
          "200 km/h",
          "150 km/h",
          "160 km/h"
         ],
         "xaxis": "x",
         "y": [
          "BMW ",
          "BMW ",
          "BMW ",
          "BMW "
         ],
         "yaxis": "y"
        },
        {
         "alignmentgroup": "True",
         "hovertemplate": "Brand=%{y}<br>TopSpeed=%{x}<extra></extra>",
         "legendgroup": "Honda ",
         "marker": {
          "color": "#FFA15A",
          "pattern": {
           "shape": ""
          }
         },
         "name": "Honda ",
         "offsetgroup": "Honda ",
         "orientation": "v",
         "showlegend": true,
         "textposition": "auto",
         "type": "bar",
         "x": [
          "145 km/h",
          "145 km/h"
         ],
         "xaxis": "x",
         "y": [
          "Honda ",
          "Honda "
         ],
         "yaxis": "y"
        },
        {
         "alignmentgroup": "True",
         "hovertemplate": "Brand=%{y}<br>TopSpeed=%{x}<extra></extra>",
         "legendgroup": "Lucid ",
         "marker": {
          "color": "#19d3f3",
          "pattern": {
           "shape": ""
          }
         },
         "name": "Lucid ",
         "offsetgroup": "Lucid ",
         "orientation": "v",
         "showlegend": true,
         "textposition": "auto",
         "type": "bar",
         "x": [
          "250 km/h"
         ],
         "xaxis": "x",
         "y": [
          "Lucid "
         ],
         "yaxis": "y"
        },
        {
         "alignmentgroup": "True",
         "hovertemplate": "Brand=%{y}<br>TopSpeed=%{x}<extra></extra>",
         "legendgroup": "Peugeot ",
         "marker": {
          "color": "#FF6692",
          "pattern": {
           "shape": ""
          }
         },
         "name": "Peugeot ",
         "offsetgroup": "Peugeot ",
         "orientation": "v",
         "showlegend": true,
         "textposition": "auto",
         "type": "bar",
         "x": [
          "150 km/h",
          "150 km/h"
         ],
         "xaxis": "x",
         "y": [
          "Peugeot ",
          "Peugeot "
         ],
         "yaxis": "y"
        },
        {
         "alignmentgroup": "True",
         "hovertemplate": "Brand=%{y}<br>TopSpeed=%{x}<extra></extra>",
         "legendgroup": "Audi ",
         "marker": {
          "color": "#B6E880",
          "pattern": {
           "shape": ""
          }
         },
         "name": "Audi ",
         "offsetgroup": "Audi ",
         "orientation": "v",
         "showlegend": true,
         "textposition": "auto",
         "type": "bar",
         "x": [
          "180 km/h",
          "240 km/h",
          "190 km/h",
          "200 km/h",
          "200 km/h",
          "180 km/h",
          "190 km/h",
          "210 km/h",
          "210 km/h"
         ],
         "xaxis": "x",
         "y": [
          "Audi ",
          "Audi ",
          "Audi ",
          "Audi ",
          "Audi ",
          "Audi ",
          "Audi ",
          "Audi ",
          "Audi "
         ],
         "yaxis": "y"
        },
        {
         "alignmentgroup": "True",
         "hovertemplate": "Brand=%{y}<br>TopSpeed=%{x}<extra></extra>",
         "legendgroup": "Mercedes ",
         "marker": {
          "color": "#FF97FF",
          "pattern": {
           "shape": ""
          }
         },
         "name": "Mercedes ",
         "offsetgroup": "Mercedes ",
         "orientation": "v",
         "showlegend": true,
         "textposition": "auto",
         "type": "bar",
         "x": [
          "180 km/h",
          "200 km/h",
          "140 km/h"
         ],
         "xaxis": "x",
         "y": [
          "Mercedes ",
          "Mercedes ",
          "Mercedes "
         ],
         "yaxis": "y"
        },
        {
         "alignmentgroup": "True",
         "hovertemplate": "Brand=%{y}<br>TopSpeed=%{x}<extra></extra>",
         "legendgroup": "Nissan ",
         "marker": {
          "color": "#FECB52",
          "pattern": {
           "shape": ""
          }
         },
         "name": "Nissan ",
         "offsetgroup": "Nissan ",
         "orientation": "v",
         "showlegend": true,
         "textposition": "auto",
         "type": "bar",
         "x": [
          "144 km/h",
          "157 km/h",
          "160 km/h",
          "123 km/h",
          "200 km/h",
          "160 km/h",
          "200 km/h",
          "200 km/h"
         ],
         "xaxis": "x",
         "y": [
          "Nissan ",
          "Nissan ",
          "Nissan ",
          "Nissan ",
          "Nissan ",
          "Nissan ",
          "Nissan ",
          "Nissan "
         ],
         "yaxis": "y"
        },
        {
         "alignmentgroup": "True",
         "hovertemplate": "Brand=%{y}<br>TopSpeed=%{x}<extra></extra>",
         "legendgroup": "Hyundai ",
         "marker": {
          "color": "#636efa",
          "pattern": {
           "shape": ""
          }
         },
         "name": "Hyundai ",
         "offsetgroup": "Hyundai ",
         "orientation": "v",
         "showlegend": true,
         "textposition": "auto",
         "type": "bar",
         "x": [
          "167 km/h",
          "165 km/h",
          "155 km/h"
         ],
         "xaxis": "x",
         "y": [
          "Hyundai ",
          "Hyundai ",
          "Hyundai "
         ],
         "yaxis": "y"
        },
        {
         "alignmentgroup": "True",
         "hovertemplate": "Brand=%{y}<br>TopSpeed=%{x}<extra></extra>",
         "legendgroup": "Porsche ",
         "marker": {
          "color": "#EF553B",
          "pattern": {
           "shape": ""
          }
         },
         "name": "Porsche ",
         "offsetgroup": "Porsche ",
         "orientation": "v",
         "showlegend": true,
         "textposition": "auto",
         "type": "bar",
         "x": [
          "260 km/h",
          "250 km/h",
          "250 km/h",
          "250 km/h",
          "260 km/h"
         ],
         "xaxis": "x",
         "y": [
          "Porsche ",
          "Porsche ",
          "Porsche ",
          "Porsche ",
          "Porsche "
         ],
         "yaxis": "y"
        },
        {
         "alignmentgroup": "True",
         "hovertemplate": "Brand=%{y}<br>TopSpeed=%{x}<extra></extra>",
         "legendgroup": "MG ",
         "marker": {
          "color": "#00cc96",
          "pattern": {
           "shape": ""
          }
         },
         "name": "MG ",
         "offsetgroup": "MG ",
         "orientation": "v",
         "showlegend": true,
         "textposition": "auto",
         "type": "bar",
         "x": [
          "140 km/h"
         ],
         "xaxis": "x",
         "y": [
          "MG "
         ],
         "yaxis": "y"
        },
        {
         "alignmentgroup": "True",
         "hovertemplate": "Brand=%{y}<br>TopSpeed=%{x}<extra></extra>",
         "legendgroup": "Mini ",
         "marker": {
          "color": "#ab63fa",
          "pattern": {
           "shape": ""
          }
         },
         "name": "Mini ",
         "offsetgroup": "Mini ",
         "orientation": "v",
         "showlegend": true,
         "textposition": "auto",
         "type": "bar",
         "x": [
          "150 km/h"
         ],
         "xaxis": "x",
         "y": [
          "Mini "
         ],
         "yaxis": "y"
        },
        {
         "alignmentgroup": "True",
         "hovertemplate": "Brand=%{y}<br>TopSpeed=%{x}<extra></extra>",
         "legendgroup": "Opel ",
         "marker": {
          "color": "#FFA15A",
          "pattern": {
           "shape": ""
          }
         },
         "name": "Opel ",
         "offsetgroup": "Opel ",
         "orientation": "v",
         "showlegend": true,
         "textposition": "auto",
         "type": "bar",
         "x": [
          "150 km/h",
          "150 km/h",
          "150 km/h"
         ],
         "xaxis": "x",
         "y": [
          "Opel ",
          "Opel ",
          "Opel "
         ],
         "yaxis": "y"
        },
        {
         "alignmentgroup": "True",
         "hovertemplate": "Brand=%{y}<br>TopSpeed=%{x}<extra></extra>",
         "legendgroup": "Skoda ",
         "marker": {
          "color": "#19d3f3",
          "pattern": {
           "shape": ""
          }
         },
         "name": "Skoda ",
         "offsetgroup": "Skoda ",
         "orientation": "v",
         "showlegend": true,
         "textposition": "auto",
         "type": "bar",
         "x": [
          "160 km/h",
          "130 km/h",
          "160 km/h",
          "160 km/h",
          "180 km/h",
          "160 km/h"
         ],
         "xaxis": "x",
         "y": [
          "Skoda ",
          "Skoda ",
          "Skoda ",
          "Skoda ",
          "Skoda ",
          "Skoda "
         ],
         "yaxis": "y"
        },
        {
         "alignmentgroup": "True",
         "hovertemplate": "Brand=%{y}<br>TopSpeed=%{x}<extra></extra>",
         "legendgroup": "Volvo ",
         "marker": {
          "color": "#FF6692",
          "pattern": {
           "shape": ""
          }
         },
         "name": "Volvo ",
         "offsetgroup": "Volvo ",
         "orientation": "v",
         "showlegend": true,
         "textposition": "auto",
         "type": "bar",
         "x": [
          "180 km/h"
         ],
         "xaxis": "x",
         "y": [
          "Volvo "
         ],
         "yaxis": "y"
        },
        {
         "alignmentgroup": "True",
         "hovertemplate": "Brand=%{y}<br>TopSpeed=%{x}<extra></extra>",
         "legendgroup": "Kia ",
         "marker": {
          "color": "#B6E880",
          "pattern": {
           "shape": ""
          }
         },
         "name": "Kia ",
         "offsetgroup": "Kia ",
         "orientation": "v",
         "showlegend": true,
         "textposition": "auto",
         "type": "bar",
         "x": [
          "167 km/h",
          "167 km/h",
          "155 km/h",
          "167 km/h",
          "157 km/h"
         ],
         "xaxis": "x",
         "y": [
          "Kia ",
          "Kia ",
          "Kia ",
          "Kia ",
          "Kia "
         ],
         "yaxis": "y"
        },
        {
         "alignmentgroup": "True",
         "hovertemplate": "Brand=%{y}<br>TopSpeed=%{x}<extra></extra>",
         "legendgroup": "Renault ",
         "marker": {
          "color": "#FF97FF",
          "pattern": {
           "shape": ""
          }
         },
         "name": "Renault ",
         "offsetgroup": "Renault ",
         "orientation": "v",
         "showlegend": true,
         "textposition": "auto",
         "type": "bar",
         "x": [
          "135 km/h",
          "140 km/h",
          "135 km/h",
          "135 km/h",
          "130 km/h"
         ],
         "xaxis": "x",
         "y": [
          "Renault ",
          "Renault ",
          "Renault ",
          "Renault ",
          "Renault "
         ],
         "yaxis": "y"
        },
        {
         "alignmentgroup": "True",
         "hovertemplate": "Brand=%{y}<br>TopSpeed=%{x}<extra></extra>",
         "legendgroup": "Mazda ",
         "marker": {
          "color": "#FECB52",
          "pattern": {
           "shape": ""
          }
         },
         "name": "Mazda ",
         "offsetgroup": "Mazda ",
         "orientation": "v",
         "showlegend": true,
         "textposition": "auto",
         "type": "bar",
         "x": [
          "150 km/h"
         ],
         "xaxis": "x",
         "y": [
          "Mazda "
         ],
         "yaxis": "y"
        },
        {
         "alignmentgroup": "True",
         "hovertemplate": "Brand=%{y}<br>TopSpeed=%{x}<extra></extra>",
         "legendgroup": "Lexus ",
         "marker": {
          "color": "#636efa",
          "pattern": {
           "shape": ""
          }
         },
         "name": "Lexus ",
         "offsetgroup": "Lexus ",
         "orientation": "v",
         "showlegend": true,
         "textposition": "auto",
         "type": "bar",
         "x": [
          "160 km/h"
         ],
         "xaxis": "x",
         "y": [
          "Lexus "
         ],
         "yaxis": "y"
        },
        {
         "alignmentgroup": "True",
         "hovertemplate": "Brand=%{y}<br>TopSpeed=%{x}<extra></extra>",
         "legendgroup": "CUPRA ",
         "marker": {
          "color": "#EF553B",
          "pattern": {
           "shape": ""
          }
         },
         "name": "CUPRA ",
         "offsetgroup": "CUPRA ",
         "orientation": "v",
         "showlegend": true,
         "textposition": "auto",
         "type": "bar",
         "x": [
          "160 km/h"
         ],
         "xaxis": "x",
         "y": [
          "CUPRA "
         ],
         "yaxis": "y"
        },
        {
         "alignmentgroup": "True",
         "hovertemplate": "Brand=%{y}<br>TopSpeed=%{x}<extra></extra>",
         "legendgroup": "SEAT ",
         "marker": {
          "color": "#00cc96",
          "pattern": {
           "shape": ""
          }
         },
         "name": "SEAT ",
         "offsetgroup": "SEAT ",
         "orientation": "v",
         "showlegend": true,
         "textposition": "auto",
         "type": "bar",
         "x": [
          "130 km/h"
         ],
         "xaxis": "x",
         "y": [
          "SEAT "
         ],
         "yaxis": "y"
        },
        {
         "alignmentgroup": "True",
         "hovertemplate": "Brand=%{y}<br>TopSpeed=%{x}<extra></extra>",
         "legendgroup": "Lightyear ",
         "marker": {
          "color": "#ab63fa",
          "pattern": {
           "shape": ""
          }
         },
         "name": "Lightyear ",
         "offsetgroup": "Lightyear ",
         "orientation": "v",
         "showlegend": true,
         "textposition": "auto",
         "type": "bar",
         "x": [
          "150 km/h"
         ],
         "xaxis": "x",
         "y": [
          "Lightyear "
         ],
         "yaxis": "y"
        },
        {
         "alignmentgroup": "True",
         "hovertemplate": "Brand=%{y}<br>TopSpeed=%{x}<extra></extra>",
         "legendgroup": "Aiways ",
         "marker": {
          "color": "#FFA15A",
          "pattern": {
           "shape": ""
          }
         },
         "name": "Aiways ",
         "offsetgroup": "Aiways ",
         "orientation": "v",
         "showlegend": true,
         "textposition": "auto",
         "type": "bar",
         "x": [
          "150 km/h"
         ],
         "xaxis": "x",
         "y": [
          "Aiways "
         ],
         "yaxis": "y"
        },
        {
         "alignmentgroup": "True",
         "hovertemplate": "Brand=%{y}<br>TopSpeed=%{x}<extra></extra>",
         "legendgroup": "DS ",
         "marker": {
          "color": "#19d3f3",
          "pattern": {
           "shape": ""
          }
         },
         "name": "DS ",
         "offsetgroup": "DS ",
         "orientation": "v",
         "showlegend": true,
         "textposition": "auto",
         "type": "bar",
         "x": [
          "150 km/h"
         ],
         "xaxis": "x",
         "y": [
          "DS "
         ],
         "yaxis": "y"
        },
        {
         "alignmentgroup": "True",
         "hovertemplate": "Brand=%{y}<br>TopSpeed=%{x}<extra></extra>",
         "legendgroup": "Citroen ",
         "marker": {
          "color": "#FF6692",
          "pattern": {
           "shape": ""
          }
         },
         "name": "Citroen ",
         "offsetgroup": "Citroen ",
         "orientation": "v",
         "showlegend": true,
         "textposition": "auto",
         "type": "bar",
         "x": [
          "150 km/h"
         ],
         "xaxis": "x",
         "y": [
          "Citroen "
         ],
         "yaxis": "y"
        },
        {
         "alignmentgroup": "True",
         "hovertemplate": "Brand=%{y}<br>TopSpeed=%{x}<extra></extra>",
         "legendgroup": "Jaguar ",
         "marker": {
          "color": "#B6E880",
          "pattern": {
           "shape": ""
          }
         },
         "name": "Jaguar ",
         "offsetgroup": "Jaguar ",
         "orientation": "v",
         "showlegend": true,
         "textposition": "auto",
         "type": "bar",
         "x": [
          "200 km/h"
         ],
         "xaxis": "x",
         "y": [
          "Jaguar "
         ],
         "yaxis": "y"
        },
        {
         "alignmentgroup": "True",
         "hovertemplate": "Brand=%{y}<br>TopSpeed=%{x}<extra></extra>",
         "legendgroup": "Ford ",
         "marker": {
          "color": "#FF97FF",
          "pattern": {
           "shape": ""
          }
         },
         "name": "Ford ",
         "offsetgroup": "Ford ",
         "orientation": "v",
         "showlegend": true,
         "textposition": "auto",
         "type": "bar",
         "x": [
          "180 km/h",
          "180 km/h",
          "180 km/h",
          "180 km/h"
         ],
         "xaxis": "x",
         "y": [
          "Ford ",
          "Ford ",
          "Ford ",
          "Ford "
         ],
         "yaxis": "y"
        },
        {
         "alignmentgroup": "True",
         "hovertemplate": "Brand=%{y}<br>TopSpeed=%{x}<extra></extra>",
         "legendgroup": "Byton ",
         "marker": {
          "color": "#FECB52",
          "pattern": {
           "shape": ""
          }
         },
         "name": "Byton ",
         "offsetgroup": "Byton ",
         "orientation": "v",
         "showlegend": true,
         "textposition": "auto",
         "type": "bar",
         "x": [
          "190 km/h",
          "190 km/h",
          "190 km/h"
         ],
         "xaxis": "x",
         "y": [
          "Byton ",
          "Byton ",
          "Byton "
         ],
         "yaxis": "y"
        },
        {
         "alignmentgroup": "True",
         "hovertemplate": "Brand=%{y}<br>TopSpeed=%{x}<extra></extra>",
         "legendgroup": "Sono ",
         "marker": {
          "color": "#636efa",
          "pattern": {
           "shape": ""
          }
         },
         "name": "Sono ",
         "offsetgroup": "Sono ",
         "orientation": "v",
         "showlegend": true,
         "textposition": "auto",
         "type": "bar",
         "x": [
          "140 km/h"
         ],
         "xaxis": "x",
         "y": [
          "Sono "
         ],
         "yaxis": "y"
        },
        {
         "alignmentgroup": "True",
         "hovertemplate": "Brand=%{y}<br>TopSpeed=%{x}<extra></extra>",
         "legendgroup": "Smart ",
         "marker": {
          "color": "#EF553B",
          "pattern": {
           "shape": ""
          }
         },
         "name": "Smart ",
         "offsetgroup": "Smart ",
         "orientation": "v",
         "showlegend": true,
         "textposition": "auto",
         "type": "bar",
         "x": [
          "130 km/h",
          "130 km/h",
          "130 km/h"
         ],
         "xaxis": "x",
         "y": [
          "Smart ",
          "Smart ",
          "Smart "
         ],
         "yaxis": "y"
        },
        {
         "alignmentgroup": "True",
         "hovertemplate": "Brand=%{y}<br>TopSpeed=%{x}<extra></extra>",
         "legendgroup": "Fiat ",
         "marker": {
          "color": "#00cc96",
          "pattern": {
           "shape": ""
          }
         },
         "name": "Fiat ",
         "offsetgroup": "Fiat ",
         "orientation": "v",
         "showlegend": true,
         "textposition": "auto",
         "type": "bar",
         "x": [
          "150 km/h",
          "150 km/h"
         ],
         "xaxis": "x",
         "y": [
          "Fiat ",
          "Fiat "
         ],
         "yaxis": "y"
        }
       ],
       "layout": {
        "barmode": "relative",
        "legend": {
         "title": {
          "text": "Brand"
         },
         "tracegroupgap": 0
        },
        "template": {
         "data": {
          "bar": [
           {
            "error_x": {
             "color": "#2a3f5f"
            },
            "error_y": {
             "color": "#2a3f5f"
            },
            "marker": {
             "line": {
              "color": "#E5ECF6",
              "width": 0.5
             },
             "pattern": {
              "fillmode": "overlay",
              "size": 10,
              "solidity": 0.2
             }
            },
            "type": "bar"
           }
          ],
          "barpolar": [
           {
            "marker": {
             "line": {
              "color": "#E5ECF6",
              "width": 0.5
             },
             "pattern": {
              "fillmode": "overlay",
              "size": 10,
              "solidity": 0.2
             }
            },
            "type": "barpolar"
           }
          ],
          "carpet": [
           {
            "aaxis": {
             "endlinecolor": "#2a3f5f",
             "gridcolor": "white",
             "linecolor": "white",
             "minorgridcolor": "white",
             "startlinecolor": "#2a3f5f"
            },
            "baxis": {
             "endlinecolor": "#2a3f5f",
             "gridcolor": "white",
             "linecolor": "white",
             "minorgridcolor": "white",
             "startlinecolor": "#2a3f5f"
            },
            "type": "carpet"
           }
          ],
          "choropleth": [
           {
            "colorbar": {
             "outlinewidth": 0,
             "ticks": ""
            },
            "type": "choropleth"
           }
          ],
          "contour": [
           {
            "colorbar": {
             "outlinewidth": 0,
             "ticks": ""
            },
            "colorscale": [
             [
              0,
              "#0d0887"
             ],
             [
              0.1111111111111111,
              "#46039f"
             ],
             [
              0.2222222222222222,
              "#7201a8"
             ],
             [
              0.3333333333333333,
              "#9c179e"
             ],
             [
              0.4444444444444444,
              "#bd3786"
             ],
             [
              0.5555555555555556,
              "#d8576b"
             ],
             [
              0.6666666666666666,
              "#ed7953"
             ],
             [
              0.7777777777777778,
              "#fb9f3a"
             ],
             [
              0.8888888888888888,
              "#fdca26"
             ],
             [
              1,
              "#f0f921"
             ]
            ],
            "type": "contour"
           }
          ],
          "contourcarpet": [
           {
            "colorbar": {
             "outlinewidth": 0,
             "ticks": ""
            },
            "type": "contourcarpet"
           }
          ],
          "heatmap": [
           {
            "colorbar": {
             "outlinewidth": 0,
             "ticks": ""
            },
            "colorscale": [
             [
              0,
              "#0d0887"
             ],
             [
              0.1111111111111111,
              "#46039f"
             ],
             [
              0.2222222222222222,
              "#7201a8"
             ],
             [
              0.3333333333333333,
              "#9c179e"
             ],
             [
              0.4444444444444444,
              "#bd3786"
             ],
             [
              0.5555555555555556,
              "#d8576b"
             ],
             [
              0.6666666666666666,
              "#ed7953"
             ],
             [
              0.7777777777777778,
              "#fb9f3a"
             ],
             [
              0.8888888888888888,
              "#fdca26"
             ],
             [
              1,
              "#f0f921"
             ]
            ],
            "type": "heatmap"
           }
          ],
          "heatmapgl": [
           {
            "colorbar": {
             "outlinewidth": 0,
             "ticks": ""
            },
            "colorscale": [
             [
              0,
              "#0d0887"
             ],
             [
              0.1111111111111111,
              "#46039f"
             ],
             [
              0.2222222222222222,
              "#7201a8"
             ],
             [
              0.3333333333333333,
              "#9c179e"
             ],
             [
              0.4444444444444444,
              "#bd3786"
             ],
             [
              0.5555555555555556,
              "#d8576b"
             ],
             [
              0.6666666666666666,
              "#ed7953"
             ],
             [
              0.7777777777777778,
              "#fb9f3a"
             ],
             [
              0.8888888888888888,
              "#fdca26"
             ],
             [
              1,
              "#f0f921"
             ]
            ],
            "type": "heatmapgl"
           }
          ],
          "histogram": [
           {
            "marker": {
             "pattern": {
              "fillmode": "overlay",
              "size": 10,
              "solidity": 0.2
             }
            },
            "type": "histogram"
           }
          ],
          "histogram2d": [
           {
            "colorbar": {
             "outlinewidth": 0,
             "ticks": ""
            },
            "colorscale": [
             [
              0,
              "#0d0887"
             ],
             [
              0.1111111111111111,
              "#46039f"
             ],
             [
              0.2222222222222222,
              "#7201a8"
             ],
             [
              0.3333333333333333,
              "#9c179e"
             ],
             [
              0.4444444444444444,
              "#bd3786"
             ],
             [
              0.5555555555555556,
              "#d8576b"
             ],
             [
              0.6666666666666666,
              "#ed7953"
             ],
             [
              0.7777777777777778,
              "#fb9f3a"
             ],
             [
              0.8888888888888888,
              "#fdca26"
             ],
             [
              1,
              "#f0f921"
             ]
            ],
            "type": "histogram2d"
           }
          ],
          "histogram2dcontour": [
           {
            "colorbar": {
             "outlinewidth": 0,
             "ticks": ""
            },
            "colorscale": [
             [
              0,
              "#0d0887"
             ],
             [
              0.1111111111111111,
              "#46039f"
             ],
             [
              0.2222222222222222,
              "#7201a8"
             ],
             [
              0.3333333333333333,
              "#9c179e"
             ],
             [
              0.4444444444444444,
              "#bd3786"
             ],
             [
              0.5555555555555556,
              "#d8576b"
             ],
             [
              0.6666666666666666,
              "#ed7953"
             ],
             [
              0.7777777777777778,
              "#fb9f3a"
             ],
             [
              0.8888888888888888,
              "#fdca26"
             ],
             [
              1,
              "#f0f921"
             ]
            ],
            "type": "histogram2dcontour"
           }
          ],
          "mesh3d": [
           {
            "colorbar": {
             "outlinewidth": 0,
             "ticks": ""
            },
            "type": "mesh3d"
           }
          ],
          "parcoords": [
           {
            "line": {
             "colorbar": {
              "outlinewidth": 0,
              "ticks": ""
             }
            },
            "type": "parcoords"
           }
          ],
          "pie": [
           {
            "automargin": true,
            "type": "pie"
           }
          ],
          "scatter": [
           {
            "marker": {
             "colorbar": {
              "outlinewidth": 0,
              "ticks": ""
             }
            },
            "type": "scatter"
           }
          ],
          "scatter3d": [
           {
            "line": {
             "colorbar": {
              "outlinewidth": 0,
              "ticks": ""
             }
            },
            "marker": {
             "colorbar": {
              "outlinewidth": 0,
              "ticks": ""
             }
            },
            "type": "scatter3d"
           }
          ],
          "scattercarpet": [
           {
            "marker": {
             "colorbar": {
              "outlinewidth": 0,
              "ticks": ""
             }
            },
            "type": "scattercarpet"
           }
          ],
          "scattergeo": [
           {
            "marker": {
             "colorbar": {
              "outlinewidth": 0,
              "ticks": ""
             }
            },
            "type": "scattergeo"
           }
          ],
          "scattergl": [
           {
            "marker": {
             "colorbar": {
              "outlinewidth": 0,
              "ticks": ""
             }
            },
            "type": "scattergl"
           }
          ],
          "scattermapbox": [
           {
            "marker": {
             "colorbar": {
              "outlinewidth": 0,
              "ticks": ""
             }
            },
            "type": "scattermapbox"
           }
          ],
          "scatterpolar": [
           {
            "marker": {
             "colorbar": {
              "outlinewidth": 0,
              "ticks": ""
             }
            },
            "type": "scatterpolar"
           }
          ],
          "scatterpolargl": [
           {
            "marker": {
             "colorbar": {
              "outlinewidth": 0,
              "ticks": ""
             }
            },
            "type": "scatterpolargl"
           }
          ],
          "scatterternary": [
           {
            "marker": {
             "colorbar": {
              "outlinewidth": 0,
              "ticks": ""
             }
            },
            "type": "scatterternary"
           }
          ],
          "surface": [
           {
            "colorbar": {
             "outlinewidth": 0,
             "ticks": ""
            },
            "colorscale": [
             [
              0,
              "#0d0887"
             ],
             [
              0.1111111111111111,
              "#46039f"
             ],
             [
              0.2222222222222222,
              "#7201a8"
             ],
             [
              0.3333333333333333,
              "#9c179e"
             ],
             [
              0.4444444444444444,
              "#bd3786"
             ],
             [
              0.5555555555555556,
              "#d8576b"
             ],
             [
              0.6666666666666666,
              "#ed7953"
             ],
             [
              0.7777777777777778,
              "#fb9f3a"
             ],
             [
              0.8888888888888888,
              "#fdca26"
             ],
             [
              1,
              "#f0f921"
             ]
            ],
            "type": "surface"
           }
          ],
          "table": [
           {
            "cells": {
             "fill": {
              "color": "#EBF0F8"
             },
             "line": {
              "color": "white"
             }
            },
            "header": {
             "fill": {
              "color": "#C8D4E3"
             },
             "line": {
              "color": "white"
             }
            },
            "type": "table"
           }
          ]
         },
         "layout": {
          "annotationdefaults": {
           "arrowcolor": "#2a3f5f",
           "arrowhead": 0,
           "arrowwidth": 1
          },
          "autotypenumbers": "strict",
          "coloraxis": {
           "colorbar": {
            "outlinewidth": 0,
            "ticks": ""
           }
          },
          "colorscale": {
           "diverging": [
            [
             0,
             "#8e0152"
            ],
            [
             0.1,
             "#c51b7d"
            ],
            [
             0.2,
             "#de77ae"
            ],
            [
             0.3,
             "#f1b6da"
            ],
            [
             0.4,
             "#fde0ef"
            ],
            [
             0.5,
             "#f7f7f7"
            ],
            [
             0.6,
             "#e6f5d0"
            ],
            [
             0.7,
             "#b8e186"
            ],
            [
             0.8,
             "#7fbc41"
            ],
            [
             0.9,
             "#4d9221"
            ],
            [
             1,
             "#276419"
            ]
           ],
           "sequential": [
            [
             0,
             "#0d0887"
            ],
            [
             0.1111111111111111,
             "#46039f"
            ],
            [
             0.2222222222222222,
             "#7201a8"
            ],
            [
             0.3333333333333333,
             "#9c179e"
            ],
            [
             0.4444444444444444,
             "#bd3786"
            ],
            [
             0.5555555555555556,
             "#d8576b"
            ],
            [
             0.6666666666666666,
             "#ed7953"
            ],
            [
             0.7777777777777778,
             "#fb9f3a"
            ],
            [
             0.8888888888888888,
             "#fdca26"
            ],
            [
             1,
             "#f0f921"
            ]
           ],
           "sequentialminus": [
            [
             0,
             "#0d0887"
            ],
            [
             0.1111111111111111,
             "#46039f"
            ],
            [
             0.2222222222222222,
             "#7201a8"
            ],
            [
             0.3333333333333333,
             "#9c179e"
            ],
            [
             0.4444444444444444,
             "#bd3786"
            ],
            [
             0.5555555555555556,
             "#d8576b"
            ],
            [
             0.6666666666666666,
             "#ed7953"
            ],
            [
             0.7777777777777778,
             "#fb9f3a"
            ],
            [
             0.8888888888888888,
             "#fdca26"
            ],
            [
             1,
             "#f0f921"
            ]
           ]
          },
          "colorway": [
           "#636efa",
           "#EF553B",
           "#00cc96",
           "#ab63fa",
           "#FFA15A",
           "#19d3f3",
           "#FF6692",
           "#B6E880",
           "#FF97FF",
           "#FECB52"
          ],
          "font": {
           "color": "#2a3f5f"
          },
          "geo": {
           "bgcolor": "white",
           "lakecolor": "white",
           "landcolor": "#E5ECF6",
           "showlakes": true,
           "showland": true,
           "subunitcolor": "white"
          },
          "hoverlabel": {
           "align": "left"
          },
          "hovermode": "closest",
          "mapbox": {
           "style": "light"
          },
          "paper_bgcolor": "white",
          "plot_bgcolor": "#E5ECF6",
          "polar": {
           "angularaxis": {
            "gridcolor": "white",
            "linecolor": "white",
            "ticks": ""
           },
           "bgcolor": "#E5ECF6",
           "radialaxis": {
            "gridcolor": "white",
            "linecolor": "white",
            "ticks": ""
           }
          },
          "scene": {
           "xaxis": {
            "backgroundcolor": "#E5ECF6",
            "gridcolor": "white",
            "gridwidth": 2,
            "linecolor": "white",
            "showbackground": true,
            "ticks": "",
            "zerolinecolor": "white"
           },
           "yaxis": {
            "backgroundcolor": "#E5ECF6",
            "gridcolor": "white",
            "gridwidth": 2,
            "linecolor": "white",
            "showbackground": true,
            "ticks": "",
            "zerolinecolor": "white"
           },
           "zaxis": {
            "backgroundcolor": "#E5ECF6",
            "gridcolor": "white",
            "gridwidth": 2,
            "linecolor": "white",
            "showbackground": true,
            "ticks": "",
            "zerolinecolor": "white"
           }
          },
          "shapedefaults": {
           "line": {
            "color": "#2a3f5f"
           }
          },
          "ternary": {
           "aaxis": {
            "gridcolor": "white",
            "linecolor": "white",
            "ticks": ""
           },
           "baxis": {
            "gridcolor": "white",
            "linecolor": "white",
            "ticks": ""
           },
           "bgcolor": "#E5ECF6",
           "caxis": {
            "gridcolor": "white",
            "linecolor": "white",
            "ticks": ""
           }
          },
          "title": {
           "x": 0.05
          },
          "xaxis": {
           "automargin": true,
           "gridcolor": "white",
           "linecolor": "white",
           "ticks": "",
           "title": {
            "standoff": 15
           },
           "zerolinecolor": "white",
           "zerolinewidth": 2
          },
          "yaxis": {
           "automargin": true,
           "gridcolor": "white",
           "linecolor": "white",
           "ticks": "",
           "title": {
            "standoff": 15
           },
           "zerolinecolor": "white",
           "zerolinewidth": 2
          }
         }
        },
        "title": {
         "text": "Which Car Has a Top speed?"
        },
        "xaxis": {
         "anchor": "y",
         "domain": [
          0,
          1
         ],
         "title": {
          "text": "TopSpeed"
         }
        },
        "yaxis": {
         "anchor": "x",
         "categoryarray": [
          "Fiat ",
          "Smart ",
          "Sono ",
          "Byton ",
          "Ford ",
          "Jaguar ",
          "Citroen ",
          "DS ",
          "Aiways ",
          "Lightyear ",
          "SEAT ",
          "CUPRA ",
          "Lexus ",
          "Mazda ",
          "Renault ",
          "Kia ",
          "Volvo ",
          "Skoda ",
          "Opel ",
          "Mini ",
          "MG ",
          "Porsche ",
          "Hyundai ",
          "Nissan ",
          "Mercedes ",
          "Audi ",
          "Peugeot ",
          "Lucid ",
          "Honda ",
          "BMW ",
          "Polestar ",
          "Volkswagen ",
          "Tesla "
         ],
         "categoryorder": "array",
         "domain": [
          0,
          1
         ],
         "title": {
          "text": "Brand"
         }
        }
       }
      },
      "text/html": [
       "<div>                            <div id=\"be3f4e47-e8dd-4a0f-b6dd-4abda25911ac\" class=\"plotly-graph-div\" style=\"height:525px; width:100%;\"></div>            <script type=\"text/javascript\">                require([\"plotly\"], function(Plotly) {                    window.PLOTLYENV=window.PLOTLYENV || {};                                    if (document.getElementById(\"be3f4e47-e8dd-4a0f-b6dd-4abda25911ac\")) {                    Plotly.newPlot(                        \"be3f4e47-e8dd-4a0f-b6dd-4abda25911ac\",                        [{\"alignmentgroup\":\"True\",\"hovertemplate\":\"Brand=%{y}<br>TopSpeed=%{x}<extra></extra>\",\"legendgroup\":\"Tesla \",\"marker\":{\"color\":\"#636efa\",\"pattern\":{\"shape\":\"\"}},\"name\":\"Tesla \",\"offsetgroup\":\"Tesla \",\"orientation\":\"v\",\"showlegend\":true,\"textposition\":\"auto\",\"x\":[\"233 km/h\",\"225 km/h\",\"217 km/h\",\"261 km/h\",\"210 km/h\",\"250 km/h\",\"410 km/h\",\"250 km/h\",\"261 km/h\",\"241 km/h\",\"190 km/h\",\"250 km/h\",\"180 km/h\"],\"xaxis\":\"x\",\"y\":[\"Tesla \",\"Tesla \",\"Tesla \",\"Tesla \",\"Tesla \",\"Tesla \",\"Tesla \",\"Tesla \",\"Tesla \",\"Tesla \",\"Tesla \",\"Tesla \",\"Tesla \"],\"yaxis\":\"y\",\"type\":\"bar\"},{\"alignmentgroup\":\"True\",\"hovertemplate\":\"Brand=%{y}<br>TopSpeed=%{x}<extra></extra>\",\"legendgroup\":\"Volkswagen \",\"marker\":{\"color\":\"#EF553B\",\"pattern\":{\"shape\":\"\"}},\"name\":\"Volkswagen \",\"offsetgroup\":\"Volkswagen \",\"orientation\":\"v\",\"showlegend\":true,\"textposition\":\"auto\",\"x\":[\"160 km/h\",\"150 km/h\",\"160 km/h\",\"130 km/h\",\"160 km/h\",\"160 km/h\",\"160 km/h\",\"160 km/h\"],\"xaxis\":\"x\",\"y\":[\"Volkswagen \",\"Volkswagen \",\"Volkswagen \",\"Volkswagen \",\"Volkswagen \",\"Volkswagen \",\"Volkswagen \",\"Volkswagen \"],\"yaxis\":\"y\",\"type\":\"bar\"},{\"alignmentgroup\":\"True\",\"hovertemplate\":\"Brand=%{y}<br>TopSpeed=%{x}<extra></extra>\",\"legendgroup\":\"Polestar \",\"marker\":{\"color\":\"#00cc96\",\"pattern\":{\"shape\":\"\"}},\"name\":\"Polestar \",\"offsetgroup\":\"Polestar \",\"orientation\":\"v\",\"showlegend\":true,\"textposition\":\"auto\",\"x\":[\"210 km/h\"],\"xaxis\":\"x\",\"y\":[\"Polestar \"],\"yaxis\":\"y\",\"type\":\"bar\"},{\"alignmentgroup\":\"True\",\"hovertemplate\":\"Brand=%{y}<br>TopSpeed=%{x}<extra></extra>\",\"legendgroup\":\"BMW \",\"marker\":{\"color\":\"#ab63fa\",\"pattern\":{\"shape\":\"\"}},\"name\":\"BMW \",\"offsetgroup\":\"BMW \",\"orientation\":\"v\",\"showlegend\":true,\"textposition\":\"auto\",\"x\":[\"180 km/h\",\"200 km/h\",\"150 km/h\",\"160 km/h\"],\"xaxis\":\"x\",\"y\":[\"BMW \",\"BMW \",\"BMW \",\"BMW \"],\"yaxis\":\"y\",\"type\":\"bar\"},{\"alignmentgroup\":\"True\",\"hovertemplate\":\"Brand=%{y}<br>TopSpeed=%{x}<extra></extra>\",\"legendgroup\":\"Honda \",\"marker\":{\"color\":\"#FFA15A\",\"pattern\":{\"shape\":\"\"}},\"name\":\"Honda \",\"offsetgroup\":\"Honda \",\"orientation\":\"v\",\"showlegend\":true,\"textposition\":\"auto\",\"x\":[\"145 km/h\",\"145 km/h\"],\"xaxis\":\"x\",\"y\":[\"Honda \",\"Honda \"],\"yaxis\":\"y\",\"type\":\"bar\"},{\"alignmentgroup\":\"True\",\"hovertemplate\":\"Brand=%{y}<br>TopSpeed=%{x}<extra></extra>\",\"legendgroup\":\"Lucid \",\"marker\":{\"color\":\"#19d3f3\",\"pattern\":{\"shape\":\"\"}},\"name\":\"Lucid \",\"offsetgroup\":\"Lucid \",\"orientation\":\"v\",\"showlegend\":true,\"textposition\":\"auto\",\"x\":[\"250 km/h\"],\"xaxis\":\"x\",\"y\":[\"Lucid \"],\"yaxis\":\"y\",\"type\":\"bar\"},{\"alignmentgroup\":\"True\",\"hovertemplate\":\"Brand=%{y}<br>TopSpeed=%{x}<extra></extra>\",\"legendgroup\":\"Peugeot \",\"marker\":{\"color\":\"#FF6692\",\"pattern\":{\"shape\":\"\"}},\"name\":\"Peugeot \",\"offsetgroup\":\"Peugeot \",\"orientation\":\"v\",\"showlegend\":true,\"textposition\":\"auto\",\"x\":[\"150 km/h\",\"150 km/h\"],\"xaxis\":\"x\",\"y\":[\"Peugeot \",\"Peugeot \"],\"yaxis\":\"y\",\"type\":\"bar\"},{\"alignmentgroup\":\"True\",\"hovertemplate\":\"Brand=%{y}<br>TopSpeed=%{x}<extra></extra>\",\"legendgroup\":\"Audi \",\"marker\":{\"color\":\"#B6E880\",\"pattern\":{\"shape\":\"\"}},\"name\":\"Audi \",\"offsetgroup\":\"Audi \",\"orientation\":\"v\",\"showlegend\":true,\"textposition\":\"auto\",\"x\":[\"180 km/h\",\"240 km/h\",\"190 km/h\",\"200 km/h\",\"200 km/h\",\"180 km/h\",\"190 km/h\",\"210 km/h\",\"210 km/h\"],\"xaxis\":\"x\",\"y\":[\"Audi \",\"Audi \",\"Audi \",\"Audi \",\"Audi \",\"Audi \",\"Audi \",\"Audi \",\"Audi \"],\"yaxis\":\"y\",\"type\":\"bar\"},{\"alignmentgroup\":\"True\",\"hovertemplate\":\"Brand=%{y}<br>TopSpeed=%{x}<extra></extra>\",\"legendgroup\":\"Mercedes \",\"marker\":{\"color\":\"#FF97FF\",\"pattern\":{\"shape\":\"\"}},\"name\":\"Mercedes \",\"offsetgroup\":\"Mercedes \",\"orientation\":\"v\",\"showlegend\":true,\"textposition\":\"auto\",\"x\":[\"180 km/h\",\"200 km/h\",\"140 km/h\"],\"xaxis\":\"x\",\"y\":[\"Mercedes \",\"Mercedes \",\"Mercedes \"],\"yaxis\":\"y\",\"type\":\"bar\"},{\"alignmentgroup\":\"True\",\"hovertemplate\":\"Brand=%{y}<br>TopSpeed=%{x}<extra></extra>\",\"legendgroup\":\"Nissan \",\"marker\":{\"color\":\"#FECB52\",\"pattern\":{\"shape\":\"\"}},\"name\":\"Nissan \",\"offsetgroup\":\"Nissan \",\"orientation\":\"v\",\"showlegend\":true,\"textposition\":\"auto\",\"x\":[\"144 km/h\",\"157 km/h\",\"160 km/h\",\"123 km/h\",\"200 km/h\",\"160 km/h\",\"200 km/h\",\"200 km/h\"],\"xaxis\":\"x\",\"y\":[\"Nissan \",\"Nissan \",\"Nissan \",\"Nissan \",\"Nissan \",\"Nissan \",\"Nissan \",\"Nissan \"],\"yaxis\":\"y\",\"type\":\"bar\"},{\"alignmentgroup\":\"True\",\"hovertemplate\":\"Brand=%{y}<br>TopSpeed=%{x}<extra></extra>\",\"legendgroup\":\"Hyundai \",\"marker\":{\"color\":\"#636efa\",\"pattern\":{\"shape\":\"\"}},\"name\":\"Hyundai \",\"offsetgroup\":\"Hyundai \",\"orientation\":\"v\",\"showlegend\":true,\"textposition\":\"auto\",\"x\":[\"167 km/h\",\"165 km/h\",\"155 km/h\"],\"xaxis\":\"x\",\"y\":[\"Hyundai \",\"Hyundai \",\"Hyundai \"],\"yaxis\":\"y\",\"type\":\"bar\"},{\"alignmentgroup\":\"True\",\"hovertemplate\":\"Brand=%{y}<br>TopSpeed=%{x}<extra></extra>\",\"legendgroup\":\"Porsche \",\"marker\":{\"color\":\"#EF553B\",\"pattern\":{\"shape\":\"\"}},\"name\":\"Porsche \",\"offsetgroup\":\"Porsche \",\"orientation\":\"v\",\"showlegend\":true,\"textposition\":\"auto\",\"x\":[\"260 km/h\",\"250 km/h\",\"250 km/h\",\"250 km/h\",\"260 km/h\"],\"xaxis\":\"x\",\"y\":[\"Porsche \",\"Porsche \",\"Porsche \",\"Porsche \",\"Porsche \"],\"yaxis\":\"y\",\"type\":\"bar\"},{\"alignmentgroup\":\"True\",\"hovertemplate\":\"Brand=%{y}<br>TopSpeed=%{x}<extra></extra>\",\"legendgroup\":\"MG \",\"marker\":{\"color\":\"#00cc96\",\"pattern\":{\"shape\":\"\"}},\"name\":\"MG \",\"offsetgroup\":\"MG \",\"orientation\":\"v\",\"showlegend\":true,\"textposition\":\"auto\",\"x\":[\"140 km/h\"],\"xaxis\":\"x\",\"y\":[\"MG \"],\"yaxis\":\"y\",\"type\":\"bar\"},{\"alignmentgroup\":\"True\",\"hovertemplate\":\"Brand=%{y}<br>TopSpeed=%{x}<extra></extra>\",\"legendgroup\":\"Mini \",\"marker\":{\"color\":\"#ab63fa\",\"pattern\":{\"shape\":\"\"}},\"name\":\"Mini \",\"offsetgroup\":\"Mini \",\"orientation\":\"v\",\"showlegend\":true,\"textposition\":\"auto\",\"x\":[\"150 km/h\"],\"xaxis\":\"x\",\"y\":[\"Mini \"],\"yaxis\":\"y\",\"type\":\"bar\"},{\"alignmentgroup\":\"True\",\"hovertemplate\":\"Brand=%{y}<br>TopSpeed=%{x}<extra></extra>\",\"legendgroup\":\"Opel \",\"marker\":{\"color\":\"#FFA15A\",\"pattern\":{\"shape\":\"\"}},\"name\":\"Opel \",\"offsetgroup\":\"Opel \",\"orientation\":\"v\",\"showlegend\":true,\"textposition\":\"auto\",\"x\":[\"150 km/h\",\"150 km/h\",\"150 km/h\"],\"xaxis\":\"x\",\"y\":[\"Opel \",\"Opel \",\"Opel \"],\"yaxis\":\"y\",\"type\":\"bar\"},{\"alignmentgroup\":\"True\",\"hovertemplate\":\"Brand=%{y}<br>TopSpeed=%{x}<extra></extra>\",\"legendgroup\":\"Skoda \",\"marker\":{\"color\":\"#19d3f3\",\"pattern\":{\"shape\":\"\"}},\"name\":\"Skoda \",\"offsetgroup\":\"Skoda \",\"orientation\":\"v\",\"showlegend\":true,\"textposition\":\"auto\",\"x\":[\"160 km/h\",\"130 km/h\",\"160 km/h\",\"160 km/h\",\"180 km/h\",\"160 km/h\"],\"xaxis\":\"x\",\"y\":[\"Skoda \",\"Skoda \",\"Skoda \",\"Skoda \",\"Skoda \",\"Skoda \"],\"yaxis\":\"y\",\"type\":\"bar\"},{\"alignmentgroup\":\"True\",\"hovertemplate\":\"Brand=%{y}<br>TopSpeed=%{x}<extra></extra>\",\"legendgroup\":\"Volvo \",\"marker\":{\"color\":\"#FF6692\",\"pattern\":{\"shape\":\"\"}},\"name\":\"Volvo \",\"offsetgroup\":\"Volvo \",\"orientation\":\"v\",\"showlegend\":true,\"textposition\":\"auto\",\"x\":[\"180 km/h\"],\"xaxis\":\"x\",\"y\":[\"Volvo \"],\"yaxis\":\"y\",\"type\":\"bar\"},{\"alignmentgroup\":\"True\",\"hovertemplate\":\"Brand=%{y}<br>TopSpeed=%{x}<extra></extra>\",\"legendgroup\":\"Kia \",\"marker\":{\"color\":\"#B6E880\",\"pattern\":{\"shape\":\"\"}},\"name\":\"Kia \",\"offsetgroup\":\"Kia \",\"orientation\":\"v\",\"showlegend\":true,\"textposition\":\"auto\",\"x\":[\"167 km/h\",\"167 km/h\",\"155 km/h\",\"167 km/h\",\"157 km/h\"],\"xaxis\":\"x\",\"y\":[\"Kia \",\"Kia \",\"Kia \",\"Kia \",\"Kia \"],\"yaxis\":\"y\",\"type\":\"bar\"},{\"alignmentgroup\":\"True\",\"hovertemplate\":\"Brand=%{y}<br>TopSpeed=%{x}<extra></extra>\",\"legendgroup\":\"Renault \",\"marker\":{\"color\":\"#FF97FF\",\"pattern\":{\"shape\":\"\"}},\"name\":\"Renault \",\"offsetgroup\":\"Renault \",\"orientation\":\"v\",\"showlegend\":true,\"textposition\":\"auto\",\"x\":[\"135 km/h\",\"140 km/h\",\"135 km/h\",\"135 km/h\",\"130 km/h\"],\"xaxis\":\"x\",\"y\":[\"Renault \",\"Renault \",\"Renault \",\"Renault \",\"Renault \"],\"yaxis\":\"y\",\"type\":\"bar\"},{\"alignmentgroup\":\"True\",\"hovertemplate\":\"Brand=%{y}<br>TopSpeed=%{x}<extra></extra>\",\"legendgroup\":\"Mazda \",\"marker\":{\"color\":\"#FECB52\",\"pattern\":{\"shape\":\"\"}},\"name\":\"Mazda \",\"offsetgroup\":\"Mazda \",\"orientation\":\"v\",\"showlegend\":true,\"textposition\":\"auto\",\"x\":[\"150 km/h\"],\"xaxis\":\"x\",\"y\":[\"Mazda \"],\"yaxis\":\"y\",\"type\":\"bar\"},{\"alignmentgroup\":\"True\",\"hovertemplate\":\"Brand=%{y}<br>TopSpeed=%{x}<extra></extra>\",\"legendgroup\":\"Lexus \",\"marker\":{\"color\":\"#636efa\",\"pattern\":{\"shape\":\"\"}},\"name\":\"Lexus \",\"offsetgroup\":\"Lexus \",\"orientation\":\"v\",\"showlegend\":true,\"textposition\":\"auto\",\"x\":[\"160 km/h\"],\"xaxis\":\"x\",\"y\":[\"Lexus \"],\"yaxis\":\"y\",\"type\":\"bar\"},{\"alignmentgroup\":\"True\",\"hovertemplate\":\"Brand=%{y}<br>TopSpeed=%{x}<extra></extra>\",\"legendgroup\":\"CUPRA \",\"marker\":{\"color\":\"#EF553B\",\"pattern\":{\"shape\":\"\"}},\"name\":\"CUPRA \",\"offsetgroup\":\"CUPRA \",\"orientation\":\"v\",\"showlegend\":true,\"textposition\":\"auto\",\"x\":[\"160 km/h\"],\"xaxis\":\"x\",\"y\":[\"CUPRA \"],\"yaxis\":\"y\",\"type\":\"bar\"},{\"alignmentgroup\":\"True\",\"hovertemplate\":\"Brand=%{y}<br>TopSpeed=%{x}<extra></extra>\",\"legendgroup\":\"SEAT \",\"marker\":{\"color\":\"#00cc96\",\"pattern\":{\"shape\":\"\"}},\"name\":\"SEAT \",\"offsetgroup\":\"SEAT \",\"orientation\":\"v\",\"showlegend\":true,\"textposition\":\"auto\",\"x\":[\"130 km/h\"],\"xaxis\":\"x\",\"y\":[\"SEAT \"],\"yaxis\":\"y\",\"type\":\"bar\"},{\"alignmentgroup\":\"True\",\"hovertemplate\":\"Brand=%{y}<br>TopSpeed=%{x}<extra></extra>\",\"legendgroup\":\"Lightyear \",\"marker\":{\"color\":\"#ab63fa\",\"pattern\":{\"shape\":\"\"}},\"name\":\"Lightyear \",\"offsetgroup\":\"Lightyear \",\"orientation\":\"v\",\"showlegend\":true,\"textposition\":\"auto\",\"x\":[\"150 km/h\"],\"xaxis\":\"x\",\"y\":[\"Lightyear \"],\"yaxis\":\"y\",\"type\":\"bar\"},{\"alignmentgroup\":\"True\",\"hovertemplate\":\"Brand=%{y}<br>TopSpeed=%{x}<extra></extra>\",\"legendgroup\":\"Aiways \",\"marker\":{\"color\":\"#FFA15A\",\"pattern\":{\"shape\":\"\"}},\"name\":\"Aiways \",\"offsetgroup\":\"Aiways \",\"orientation\":\"v\",\"showlegend\":true,\"textposition\":\"auto\",\"x\":[\"150 km/h\"],\"xaxis\":\"x\",\"y\":[\"Aiways \"],\"yaxis\":\"y\",\"type\":\"bar\"},{\"alignmentgroup\":\"True\",\"hovertemplate\":\"Brand=%{y}<br>TopSpeed=%{x}<extra></extra>\",\"legendgroup\":\"DS \",\"marker\":{\"color\":\"#19d3f3\",\"pattern\":{\"shape\":\"\"}},\"name\":\"DS \",\"offsetgroup\":\"DS \",\"orientation\":\"v\",\"showlegend\":true,\"textposition\":\"auto\",\"x\":[\"150 km/h\"],\"xaxis\":\"x\",\"y\":[\"DS \"],\"yaxis\":\"y\",\"type\":\"bar\"},{\"alignmentgroup\":\"True\",\"hovertemplate\":\"Brand=%{y}<br>TopSpeed=%{x}<extra></extra>\",\"legendgroup\":\"Citroen \",\"marker\":{\"color\":\"#FF6692\",\"pattern\":{\"shape\":\"\"}},\"name\":\"Citroen \",\"offsetgroup\":\"Citroen \",\"orientation\":\"v\",\"showlegend\":true,\"textposition\":\"auto\",\"x\":[\"150 km/h\"],\"xaxis\":\"x\",\"y\":[\"Citroen \"],\"yaxis\":\"y\",\"type\":\"bar\"},{\"alignmentgroup\":\"True\",\"hovertemplate\":\"Brand=%{y}<br>TopSpeed=%{x}<extra></extra>\",\"legendgroup\":\"Jaguar \",\"marker\":{\"color\":\"#B6E880\",\"pattern\":{\"shape\":\"\"}},\"name\":\"Jaguar \",\"offsetgroup\":\"Jaguar \",\"orientation\":\"v\",\"showlegend\":true,\"textposition\":\"auto\",\"x\":[\"200 km/h\"],\"xaxis\":\"x\",\"y\":[\"Jaguar \"],\"yaxis\":\"y\",\"type\":\"bar\"},{\"alignmentgroup\":\"True\",\"hovertemplate\":\"Brand=%{y}<br>TopSpeed=%{x}<extra></extra>\",\"legendgroup\":\"Ford \",\"marker\":{\"color\":\"#FF97FF\",\"pattern\":{\"shape\":\"\"}},\"name\":\"Ford \",\"offsetgroup\":\"Ford \",\"orientation\":\"v\",\"showlegend\":true,\"textposition\":\"auto\",\"x\":[\"180 km/h\",\"180 km/h\",\"180 km/h\",\"180 km/h\"],\"xaxis\":\"x\",\"y\":[\"Ford \",\"Ford \",\"Ford \",\"Ford \"],\"yaxis\":\"y\",\"type\":\"bar\"},{\"alignmentgroup\":\"True\",\"hovertemplate\":\"Brand=%{y}<br>TopSpeed=%{x}<extra></extra>\",\"legendgroup\":\"Byton \",\"marker\":{\"color\":\"#FECB52\",\"pattern\":{\"shape\":\"\"}},\"name\":\"Byton \",\"offsetgroup\":\"Byton \",\"orientation\":\"v\",\"showlegend\":true,\"textposition\":\"auto\",\"x\":[\"190 km/h\",\"190 km/h\",\"190 km/h\"],\"xaxis\":\"x\",\"y\":[\"Byton \",\"Byton \",\"Byton \"],\"yaxis\":\"y\",\"type\":\"bar\"},{\"alignmentgroup\":\"True\",\"hovertemplate\":\"Brand=%{y}<br>TopSpeed=%{x}<extra></extra>\",\"legendgroup\":\"Sono \",\"marker\":{\"color\":\"#636efa\",\"pattern\":{\"shape\":\"\"}},\"name\":\"Sono \",\"offsetgroup\":\"Sono \",\"orientation\":\"v\",\"showlegend\":true,\"textposition\":\"auto\",\"x\":[\"140 km/h\"],\"xaxis\":\"x\",\"y\":[\"Sono \"],\"yaxis\":\"y\",\"type\":\"bar\"},{\"alignmentgroup\":\"True\",\"hovertemplate\":\"Brand=%{y}<br>TopSpeed=%{x}<extra></extra>\",\"legendgroup\":\"Smart \",\"marker\":{\"color\":\"#EF553B\",\"pattern\":{\"shape\":\"\"}},\"name\":\"Smart \",\"offsetgroup\":\"Smart \",\"orientation\":\"v\",\"showlegend\":true,\"textposition\":\"auto\",\"x\":[\"130 km/h\",\"130 km/h\",\"130 km/h\"],\"xaxis\":\"x\",\"y\":[\"Smart \",\"Smart \",\"Smart \"],\"yaxis\":\"y\",\"type\":\"bar\"},{\"alignmentgroup\":\"True\",\"hovertemplate\":\"Brand=%{y}<br>TopSpeed=%{x}<extra></extra>\",\"legendgroup\":\"Fiat \",\"marker\":{\"color\":\"#00cc96\",\"pattern\":{\"shape\":\"\"}},\"name\":\"Fiat \",\"offsetgroup\":\"Fiat \",\"orientation\":\"v\",\"showlegend\":true,\"textposition\":\"auto\",\"x\":[\"150 km/h\",\"150 km/h\"],\"xaxis\":\"x\",\"y\":[\"Fiat \",\"Fiat \"],\"yaxis\":\"y\",\"type\":\"bar\"}],                        {\"template\":{\"data\":{\"bar\":[{\"error_x\":{\"color\":\"#2a3f5f\"},\"error_y\":{\"color\":\"#2a3f5f\"},\"marker\":{\"line\":{\"color\":\"#E5ECF6\",\"width\":0.5},\"pattern\":{\"fillmode\":\"overlay\",\"size\":10,\"solidity\":0.2}},\"type\":\"bar\"}],\"barpolar\":[{\"marker\":{\"line\":{\"color\":\"#E5ECF6\",\"width\":0.5},\"pattern\":{\"fillmode\":\"overlay\",\"size\":10,\"solidity\":0.2}},\"type\":\"barpolar\"}],\"carpet\":[{\"aaxis\":{\"endlinecolor\":\"#2a3f5f\",\"gridcolor\":\"white\",\"linecolor\":\"white\",\"minorgridcolor\":\"white\",\"startlinecolor\":\"#2a3f5f\"},\"baxis\":{\"endlinecolor\":\"#2a3f5f\",\"gridcolor\":\"white\",\"linecolor\":\"white\",\"minorgridcolor\":\"white\",\"startlinecolor\":\"#2a3f5f\"},\"type\":\"carpet\"}],\"choropleth\":[{\"colorbar\":{\"outlinewidth\":0,\"ticks\":\"\"},\"type\":\"choropleth\"}],\"contour\":[{\"colorbar\":{\"outlinewidth\":0,\"ticks\":\"\"},\"colorscale\":[[0.0,\"#0d0887\"],[0.1111111111111111,\"#46039f\"],[0.2222222222222222,\"#7201a8\"],[0.3333333333333333,\"#9c179e\"],[0.4444444444444444,\"#bd3786\"],[0.5555555555555556,\"#d8576b\"],[0.6666666666666666,\"#ed7953\"],[0.7777777777777778,\"#fb9f3a\"],[0.8888888888888888,\"#fdca26\"],[1.0,\"#f0f921\"]],\"type\":\"contour\"}],\"contourcarpet\":[{\"colorbar\":{\"outlinewidth\":0,\"ticks\":\"\"},\"type\":\"contourcarpet\"}],\"heatmap\":[{\"colorbar\":{\"outlinewidth\":0,\"ticks\":\"\"},\"colorscale\":[[0.0,\"#0d0887\"],[0.1111111111111111,\"#46039f\"],[0.2222222222222222,\"#7201a8\"],[0.3333333333333333,\"#9c179e\"],[0.4444444444444444,\"#bd3786\"],[0.5555555555555556,\"#d8576b\"],[0.6666666666666666,\"#ed7953\"],[0.7777777777777778,\"#fb9f3a\"],[0.8888888888888888,\"#fdca26\"],[1.0,\"#f0f921\"]],\"type\":\"heatmap\"}],\"heatmapgl\":[{\"colorbar\":{\"outlinewidth\":0,\"ticks\":\"\"},\"colorscale\":[[0.0,\"#0d0887\"],[0.1111111111111111,\"#46039f\"],[0.2222222222222222,\"#7201a8\"],[0.3333333333333333,\"#9c179e\"],[0.4444444444444444,\"#bd3786\"],[0.5555555555555556,\"#d8576b\"],[0.6666666666666666,\"#ed7953\"],[0.7777777777777778,\"#fb9f3a\"],[0.8888888888888888,\"#fdca26\"],[1.0,\"#f0f921\"]],\"type\":\"heatmapgl\"}],\"histogram\":[{\"marker\":{\"pattern\":{\"fillmode\":\"overlay\",\"size\":10,\"solidity\":0.2}},\"type\":\"histogram\"}],\"histogram2d\":[{\"colorbar\":{\"outlinewidth\":0,\"ticks\":\"\"},\"colorscale\":[[0.0,\"#0d0887\"],[0.1111111111111111,\"#46039f\"],[0.2222222222222222,\"#7201a8\"],[0.3333333333333333,\"#9c179e\"],[0.4444444444444444,\"#bd3786\"],[0.5555555555555556,\"#d8576b\"],[0.6666666666666666,\"#ed7953\"],[0.7777777777777778,\"#fb9f3a\"],[0.8888888888888888,\"#fdca26\"],[1.0,\"#f0f921\"]],\"type\":\"histogram2d\"}],\"histogram2dcontour\":[{\"colorbar\":{\"outlinewidth\":0,\"ticks\":\"\"},\"colorscale\":[[0.0,\"#0d0887\"],[0.1111111111111111,\"#46039f\"],[0.2222222222222222,\"#7201a8\"],[0.3333333333333333,\"#9c179e\"],[0.4444444444444444,\"#bd3786\"],[0.5555555555555556,\"#d8576b\"],[0.6666666666666666,\"#ed7953\"],[0.7777777777777778,\"#fb9f3a\"],[0.8888888888888888,\"#fdca26\"],[1.0,\"#f0f921\"]],\"type\":\"histogram2dcontour\"}],\"mesh3d\":[{\"colorbar\":{\"outlinewidth\":0,\"ticks\":\"\"},\"type\":\"mesh3d\"}],\"parcoords\":[{\"line\":{\"colorbar\":{\"outlinewidth\":0,\"ticks\":\"\"}},\"type\":\"parcoords\"}],\"pie\":[{\"automargin\":true,\"type\":\"pie\"}],\"scatter\":[{\"marker\":{\"colorbar\":{\"outlinewidth\":0,\"ticks\":\"\"}},\"type\":\"scatter\"}],\"scatter3d\":[{\"line\":{\"colorbar\":{\"outlinewidth\":0,\"ticks\":\"\"}},\"marker\":{\"colorbar\":{\"outlinewidth\":0,\"ticks\":\"\"}},\"type\":\"scatter3d\"}],\"scattercarpet\":[{\"marker\":{\"colorbar\":{\"outlinewidth\":0,\"ticks\":\"\"}},\"type\":\"scattercarpet\"}],\"scattergeo\":[{\"marker\":{\"colorbar\":{\"outlinewidth\":0,\"ticks\":\"\"}},\"type\":\"scattergeo\"}],\"scattergl\":[{\"marker\":{\"colorbar\":{\"outlinewidth\":0,\"ticks\":\"\"}},\"type\":\"scattergl\"}],\"scattermapbox\":[{\"marker\":{\"colorbar\":{\"outlinewidth\":0,\"ticks\":\"\"}},\"type\":\"scattermapbox\"}],\"scatterpolar\":[{\"marker\":{\"colorbar\":{\"outlinewidth\":0,\"ticks\":\"\"}},\"type\":\"scatterpolar\"}],\"scatterpolargl\":[{\"marker\":{\"colorbar\":{\"outlinewidth\":0,\"ticks\":\"\"}},\"type\":\"scatterpolargl\"}],\"scatterternary\":[{\"marker\":{\"colorbar\":{\"outlinewidth\":0,\"ticks\":\"\"}},\"type\":\"scatterternary\"}],\"surface\":[{\"colorbar\":{\"outlinewidth\":0,\"ticks\":\"\"},\"colorscale\":[[0.0,\"#0d0887\"],[0.1111111111111111,\"#46039f\"],[0.2222222222222222,\"#7201a8\"],[0.3333333333333333,\"#9c179e\"],[0.4444444444444444,\"#bd3786\"],[0.5555555555555556,\"#d8576b\"],[0.6666666666666666,\"#ed7953\"],[0.7777777777777778,\"#fb9f3a\"],[0.8888888888888888,\"#fdca26\"],[1.0,\"#f0f921\"]],\"type\":\"surface\"}],\"table\":[{\"cells\":{\"fill\":{\"color\":\"#EBF0F8\"},\"line\":{\"color\":\"white\"}},\"header\":{\"fill\":{\"color\":\"#C8D4E3\"},\"line\":{\"color\":\"white\"}},\"type\":\"table\"}]},\"layout\":{\"annotationdefaults\":{\"arrowcolor\":\"#2a3f5f\",\"arrowhead\":0,\"arrowwidth\":1},\"autotypenumbers\":\"strict\",\"coloraxis\":{\"colorbar\":{\"outlinewidth\":0,\"ticks\":\"\"}},\"colorscale\":{\"diverging\":[[0,\"#8e0152\"],[0.1,\"#c51b7d\"],[0.2,\"#de77ae\"],[0.3,\"#f1b6da\"],[0.4,\"#fde0ef\"],[0.5,\"#f7f7f7\"],[0.6,\"#e6f5d0\"],[0.7,\"#b8e186\"],[0.8,\"#7fbc41\"],[0.9,\"#4d9221\"],[1,\"#276419\"]],\"sequential\":[[0.0,\"#0d0887\"],[0.1111111111111111,\"#46039f\"],[0.2222222222222222,\"#7201a8\"],[0.3333333333333333,\"#9c179e\"],[0.4444444444444444,\"#bd3786\"],[0.5555555555555556,\"#d8576b\"],[0.6666666666666666,\"#ed7953\"],[0.7777777777777778,\"#fb9f3a\"],[0.8888888888888888,\"#fdca26\"],[1.0,\"#f0f921\"]],\"sequentialminus\":[[0.0,\"#0d0887\"],[0.1111111111111111,\"#46039f\"],[0.2222222222222222,\"#7201a8\"],[0.3333333333333333,\"#9c179e\"],[0.4444444444444444,\"#bd3786\"],[0.5555555555555556,\"#d8576b\"],[0.6666666666666666,\"#ed7953\"],[0.7777777777777778,\"#fb9f3a\"],[0.8888888888888888,\"#fdca26\"],[1.0,\"#f0f921\"]]},\"colorway\":[\"#636efa\",\"#EF553B\",\"#00cc96\",\"#ab63fa\",\"#FFA15A\",\"#19d3f3\",\"#FF6692\",\"#B6E880\",\"#FF97FF\",\"#FECB52\"],\"font\":{\"color\":\"#2a3f5f\"},\"geo\":{\"bgcolor\":\"white\",\"lakecolor\":\"white\",\"landcolor\":\"#E5ECF6\",\"showlakes\":true,\"showland\":true,\"subunitcolor\":\"white\"},\"hoverlabel\":{\"align\":\"left\"},\"hovermode\":\"closest\",\"mapbox\":{\"style\":\"light\"},\"paper_bgcolor\":\"white\",\"plot_bgcolor\":\"#E5ECF6\",\"polar\":{\"angularaxis\":{\"gridcolor\":\"white\",\"linecolor\":\"white\",\"ticks\":\"\"},\"bgcolor\":\"#E5ECF6\",\"radialaxis\":{\"gridcolor\":\"white\",\"linecolor\":\"white\",\"ticks\":\"\"}},\"scene\":{\"xaxis\":{\"backgroundcolor\":\"#E5ECF6\",\"gridcolor\":\"white\",\"gridwidth\":2,\"linecolor\":\"white\",\"showbackground\":true,\"ticks\":\"\",\"zerolinecolor\":\"white\"},\"yaxis\":{\"backgroundcolor\":\"#E5ECF6\",\"gridcolor\":\"white\",\"gridwidth\":2,\"linecolor\":\"white\",\"showbackground\":true,\"ticks\":\"\",\"zerolinecolor\":\"white\"},\"zaxis\":{\"backgroundcolor\":\"#E5ECF6\",\"gridcolor\":\"white\",\"gridwidth\":2,\"linecolor\":\"white\",\"showbackground\":true,\"ticks\":\"\",\"zerolinecolor\":\"white\"}},\"shapedefaults\":{\"line\":{\"color\":\"#2a3f5f\"}},\"ternary\":{\"aaxis\":{\"gridcolor\":\"white\",\"linecolor\":\"white\",\"ticks\":\"\"},\"baxis\":{\"gridcolor\":\"white\",\"linecolor\":\"white\",\"ticks\":\"\"},\"bgcolor\":\"#E5ECF6\",\"caxis\":{\"gridcolor\":\"white\",\"linecolor\":\"white\",\"ticks\":\"\"}},\"title\":{\"x\":0.05},\"xaxis\":{\"automargin\":true,\"gridcolor\":\"white\",\"linecolor\":\"white\",\"ticks\":\"\",\"title\":{\"standoff\":15},\"zerolinecolor\":\"white\",\"zerolinewidth\":2},\"yaxis\":{\"automargin\":true,\"gridcolor\":\"white\",\"linecolor\":\"white\",\"ticks\":\"\",\"title\":{\"standoff\":15},\"zerolinecolor\":\"white\",\"zerolinewidth\":2}}},\"xaxis\":{\"anchor\":\"y\",\"domain\":[0.0,1.0],\"title\":{\"text\":\"TopSpeed\"}},\"yaxis\":{\"anchor\":\"x\",\"domain\":[0.0,1.0],\"title\":{\"text\":\"Brand\"},\"categoryorder\":\"array\",\"categoryarray\":[\"Fiat \",\"Smart \",\"Sono \",\"Byton \",\"Ford \",\"Jaguar \",\"Citroen \",\"DS \",\"Aiways \",\"Lightyear \",\"SEAT \",\"CUPRA \",\"Lexus \",\"Mazda \",\"Renault \",\"Kia \",\"Volvo \",\"Skoda \",\"Opel \",\"Mini \",\"MG \",\"Porsche \",\"Hyundai \",\"Nissan \",\"Mercedes \",\"Audi \",\"Peugeot \",\"Lucid \",\"Honda \",\"BMW \",\"Polestar \",\"Volkswagen \",\"Tesla \"]},\"legend\":{\"title\":{\"text\":\"Brand\"},\"tracegroupgap\":0},\"title\":{\"text\":\"Which Car Has a Top speed?\"},\"barmode\":\"relative\"},                        {\"responsive\": true}                    ).then(function(){\n",
       "                            \n",
       "var gd = document.getElementById('be3f4e47-e8dd-4a0f-b6dd-4abda25911ac');\n",
       "var x = new MutationObserver(function (mutations, observer) {{\n",
       "        var display = window.getComputedStyle(gd).display;\n",
       "        if (!display || display === 'none') {{\n",
       "            console.log([gd, 'removed!']);\n",
       "            Plotly.purge(gd);\n",
       "            observer.disconnect();\n",
       "        }}\n",
       "}});\n",
       "\n",
       "// Listen for the removal of the full notebook cells\n",
       "var notebookContainer = gd.closest('#notebook-container');\n",
       "if (notebookContainer) {{\n",
       "    x.observe(notebookContainer, {childList: true});\n",
       "}}\n",
       "\n",
       "// Listen for the clearing of the current output cell\n",
       "var outputEl = gd.closest('.output');\n",
       "if (outputEl) {{\n",
       "    x.observe(outputEl, {childList: true});\n",
       "}}\n",
       "\n",
       "                        })                };                });            </script>        </div>"
      ]
     },
     "metadata": {},
     "output_type": "display_data"
    }
   ],
   "source": [
    "import plotly.io as pio\n",
    "fig = px.bar(df,y='Brand',x = 'TopSpeed',color = 'Brand',title = 'Which Car Has a Top speed?',labels = {'x':'Car Brands','y':'TopSpeed'})\n",
    "pio.show(fig)"
   ]
  },
  {
   "cell_type": "code",
   "execution_count": 21,
   "id": "479b0677",
   "metadata": {},
   "outputs": [
    {
     "data": {
      "application/vnd.plotly.v1+json": {
       "config": {
        "plotlyServerURL": "https://plot.ly"
       },
       "data": [
        {
         "alignmentgroup": "True",
         "hovertemplate": "Brand=%{x}<br>Accel=%{y}<extra></extra>",
         "legendgroup": "Tesla ",
         "marker": {
          "color": "#636efa",
          "pattern": {
           "shape": ""
          }
         },
         "name": "Tesla ",
         "offsetgroup": "Tesla ",
         "orientation": "v",
         "showlegend": true,
         "textposition": "auto",
         "type": "bar",
         "x": [
          "Tesla ",
          "Tesla ",
          "Tesla ",
          "Tesla ",
          "Tesla ",
          "Tesla ",
          "Tesla ",
          "Tesla ",
          "Tesla ",
          "Tesla ",
          "Tesla ",
          "Tesla ",
          "Tesla "
         ],
         "xaxis": "x",
         "y": [
          "4.6 sec",
          "5.6 sec",
          "5.1 sec",
          "3.4 sec",
          "3.0 sec",
          "3.8 sec",
          "2.1 sec",
          "4.6 sec",
          "2.5 sec",
          "3.7 sec",
          "5.0 sec",
          "2.8 sec",
          "7.0 sec"
         ],
         "yaxis": "y"
        },
        {
         "alignmentgroup": "True",
         "hovertemplate": "Brand=%{x}<br>Accel=%{y}<extra></extra>",
         "legendgroup": "Volkswagen ",
         "marker": {
          "color": "#EF553B",
          "pattern": {
           "shape": ""
          }
         },
         "name": "Volkswagen ",
         "offsetgroup": "Volkswagen ",
         "orientation": "v",
         "showlegend": true,
         "textposition": "auto",
         "type": "bar",
         "x": [
          "Volkswagen ",
          "Volkswagen ",
          "Volkswagen ",
          "Volkswagen ",
          "Volkswagen ",
          "Volkswagen ",
          "Volkswagen ",
          "Volkswagen "
         ],
         "xaxis": "x",
         "y": [
          "10.0 sec",
          "9.6 sec",
          "7.9 sec",
          "11.9 sec",
          "7.5 sec",
          "9.0 sec",
          "7.3 sec",
          "7.3 sec"
         ],
         "yaxis": "y"
        },
        {
         "alignmentgroup": "True",
         "hovertemplate": "Brand=%{x}<br>Accel=%{y}<extra></extra>",
         "legendgroup": "Polestar ",
         "marker": {
          "color": "#00cc96",
          "pattern": {
           "shape": ""
          }
         },
         "name": "Polestar ",
         "offsetgroup": "Polestar ",
         "orientation": "v",
         "showlegend": true,
         "textposition": "auto",
         "type": "bar",
         "x": [
          "Polestar "
         ],
         "xaxis": "x",
         "y": [
          "4.7 sec"
         ],
         "yaxis": "y"
        },
        {
         "alignmentgroup": "True",
         "hovertemplate": "Brand=%{x}<br>Accel=%{y}<extra></extra>",
         "legendgroup": "BMW ",
         "marker": {
          "color": "#ab63fa",
          "pattern": {
           "shape": ""
          }
         },
         "name": "BMW ",
         "offsetgroup": "BMW ",
         "orientation": "v",
         "showlegend": true,
         "textposition": "auto",
         "type": "bar",
         "x": [
          "BMW ",
          "BMW ",
          "BMW ",
          "BMW "
         ],
         "xaxis": "x",
         "y": [
          "6.8 sec",
          "4.0 sec",
          "7.3 sec",
          "6.9 sec"
         ],
         "yaxis": "y"
        },
        {
         "alignmentgroup": "True",
         "hovertemplate": "Brand=%{x}<br>Accel=%{y}<extra></extra>",
         "legendgroup": "Honda ",
         "marker": {
          "color": "#FFA15A",
          "pattern": {
           "shape": ""
          }
         },
         "name": "Honda ",
         "offsetgroup": "Honda ",
         "orientation": "v",
         "showlegend": true,
         "textposition": "auto",
         "type": "bar",
         "x": [
          "Honda ",
          "Honda "
         ],
         "xaxis": "x",
         "y": [
          "9.5 sec",
          "8.3 sec"
         ],
         "yaxis": "y"
        },
        {
         "alignmentgroup": "True",
         "hovertemplate": "Brand=%{x}<br>Accel=%{y}<extra></extra>",
         "legendgroup": "Lucid ",
         "marker": {
          "color": "#19d3f3",
          "pattern": {
           "shape": ""
          }
         },
         "name": "Lucid ",
         "offsetgroup": "Lucid ",
         "orientation": "v",
         "showlegend": true,
         "textposition": "auto",
         "type": "bar",
         "x": [
          "Lucid "
         ],
         "xaxis": "x",
         "y": [
          "2.8 sec"
         ],
         "yaxis": "y"
        },
        {
         "alignmentgroup": "True",
         "hovertemplate": "Brand=%{x}<br>Accel=%{y}<extra></extra>",
         "legendgroup": "Peugeot ",
         "marker": {
          "color": "#FF6692",
          "pattern": {
           "shape": ""
          }
         },
         "name": "Peugeot ",
         "offsetgroup": "Peugeot ",
         "orientation": "v",
         "showlegend": true,
         "textposition": "auto",
         "type": "bar",
         "x": [
          "Peugeot ",
          "Peugeot "
         ],
         "xaxis": "x",
         "y": [
          "8.1 sec",
          "8.5 sec"
         ],
         "yaxis": "y"
        },
        {
         "alignmentgroup": "True",
         "hovertemplate": "Brand=%{x}<br>Accel=%{y}<extra></extra>",
         "legendgroup": "Audi ",
         "marker": {
          "color": "#B6E880",
          "pattern": {
           "shape": ""
          }
         },
         "name": "Audi ",
         "offsetgroup": "Audi ",
         "orientation": "v",
         "showlegend": true,
         "textposition": "auto",
         "type": "bar",
         "x": [
          "Audi ",
          "Audi ",
          "Audi ",
          "Audi ",
          "Audi ",
          "Audi ",
          "Audi ",
          "Audi ",
          "Audi "
         ],
         "xaxis": "x",
         "y": [
          "6.3 sec",
          "3.5 sec",
          "6.8 sec",
          "5.7 sec",
          "5.7 sec",
          "6.3 sec",
          "6.8 sec",
          "4.5 sec",
          "4.5 sec"
         ],
         "yaxis": "y"
        },
        {
         "alignmentgroup": "True",
         "hovertemplate": "Brand=%{x}<br>Accel=%{y}<extra></extra>",
         "legendgroup": "Mercedes ",
         "marker": {
          "color": "#FF97FF",
          "pattern": {
           "shape": ""
          }
         },
         "name": "Mercedes ",
         "offsetgroup": "Mercedes ",
         "orientation": "v",
         "showlegend": true,
         "textposition": "auto",
         "type": "bar",
         "x": [
          "Mercedes ",
          "Mercedes ",
          "Mercedes "
         ],
         "xaxis": "x",
         "y": [
          "5.1 sec",
          "5.0 sec",
          "10.0 sec"
         ],
         "yaxis": "y"
        },
        {
         "alignmentgroup": "True",
         "hovertemplate": "Brand=%{x}<br>Accel=%{y}<extra></extra>",
         "legendgroup": "Nissan ",
         "marker": {
          "color": "#FECB52",
          "pattern": {
           "shape": ""
          }
         },
         "name": "Nissan ",
         "offsetgroup": "Nissan ",
         "orientation": "v",
         "showlegend": true,
         "textposition": "auto",
         "type": "bar",
         "x": [
          "Nissan ",
          "Nissan ",
          "Nissan ",
          "Nissan ",
          "Nissan ",
          "Nissan ",
          "Nissan ",
          "Nissan "
         ],
         "xaxis": "x",
         "y": [
          "7.9 sec",
          "7.3 sec",
          "7.6 sec",
          "14.0 sec",
          "5.7 sec",
          "7.5 sec",
          "5.9 sec",
          "5.1 sec"
         ],
         "yaxis": "y"
        },
        {
         "alignmentgroup": "True",
         "hovertemplate": "Brand=%{x}<br>Accel=%{y}<extra></extra>",
         "legendgroup": "Hyundai ",
         "marker": {
          "color": "#636efa",
          "pattern": {
           "shape": ""
          }
         },
         "name": "Hyundai ",
         "offsetgroup": "Hyundai ",
         "orientation": "v",
         "showlegend": true,
         "textposition": "auto",
         "type": "bar",
         "x": [
          "Hyundai ",
          "Hyundai ",
          "Hyundai "
         ],
         "xaxis": "x",
         "y": [
          "7.9 sec",
          "9.7 sec",
          "9.9 sec"
         ],
         "yaxis": "y"
        },
        {
         "alignmentgroup": "True",
         "hovertemplate": "Brand=%{x}<br>Accel=%{y}<extra></extra>",
         "legendgroup": "Porsche ",
         "marker": {
          "color": "#EF553B",
          "pattern": {
           "shape": ""
          }
         },
         "name": "Porsche ",
         "offsetgroup": "Porsche ",
         "orientation": "v",
         "showlegend": true,
         "textposition": "auto",
         "type": "bar",
         "x": [
          "Porsche ",
          "Porsche ",
          "Porsche ",
          "Porsche ",
          "Porsche "
         ],
         "xaxis": "x",
         "y": [
          "2.8 sec",
          "4.0 sec",
          "4.0 sec",
          "3.5 sec",
          "3.2 sec"
         ],
         "yaxis": "y"
        },
        {
         "alignmentgroup": "True",
         "hovertemplate": "Brand=%{x}<br>Accel=%{y}<extra></extra>",
         "legendgroup": "MG ",
         "marker": {
          "color": "#00cc96",
          "pattern": {
           "shape": ""
          }
         },
         "name": "MG ",
         "offsetgroup": "MG ",
         "orientation": "v",
         "showlegend": true,
         "textposition": "auto",
         "type": "bar",
         "x": [
          "MG "
         ],
         "xaxis": "x",
         "y": [
          "8.2 sec"
         ],
         "yaxis": "y"
        },
        {
         "alignmentgroup": "True",
         "hovertemplate": "Brand=%{x}<br>Accel=%{y}<extra></extra>",
         "legendgroup": "Mini ",
         "marker": {
          "color": "#ab63fa",
          "pattern": {
           "shape": ""
          }
         },
         "name": "Mini ",
         "offsetgroup": "Mini ",
         "orientation": "v",
         "showlegend": true,
         "textposition": "auto",
         "type": "bar",
         "x": [
          "Mini "
         ],
         "xaxis": "x",
         "y": [
          "7.3 sec"
         ],
         "yaxis": "y"
        },
        {
         "alignmentgroup": "True",
         "hovertemplate": "Brand=%{x}<br>Accel=%{y}<extra></extra>",
         "legendgroup": "Opel ",
         "marker": {
          "color": "#FFA15A",
          "pattern": {
           "shape": ""
          }
         },
         "name": "Opel ",
         "offsetgroup": "Opel ",
         "orientation": "v",
         "showlegend": true,
         "textposition": "auto",
         "type": "bar",
         "x": [
          "Opel ",
          "Opel ",
          "Opel "
         ],
         "xaxis": "x",
         "y": [
          "8.1 sec",
          "7.3 sec",
          "8.5 sec"
         ],
         "yaxis": "y"
        },
        {
         "alignmentgroup": "True",
         "hovertemplate": "Brand=%{x}<br>Accel=%{y}<extra></extra>",
         "legendgroup": "Skoda ",
         "marker": {
          "color": "#19d3f3",
          "pattern": {
           "shape": ""
          }
         },
         "name": "Skoda ",
         "offsetgroup": "Skoda ",
         "orientation": "v",
         "showlegend": true,
         "textposition": "auto",
         "type": "bar",
         "x": [
          "Skoda ",
          "Skoda ",
          "Skoda ",
          "Skoda ",
          "Skoda ",
          "Skoda "
         ],
         "xaxis": "x",
         "y": [
          "10.0 sec",
          "12.3 sec",
          "8.8 sec",
          "7.0 sec",
          "6.2 sec",
          "9.0 sec"
         ],
         "yaxis": "y"
        },
        {
         "alignmentgroup": "True",
         "hovertemplate": "Brand=%{x}<br>Accel=%{y}<extra></extra>",
         "legendgroup": "Volvo ",
         "marker": {
          "color": "#FF6692",
          "pattern": {
           "shape": ""
          }
         },
         "name": "Volvo ",
         "offsetgroup": "Volvo ",
         "orientation": "v",
         "showlegend": true,
         "textposition": "auto",
         "type": "bar",
         "x": [
          "Volvo "
         ],
         "xaxis": "x",
         "y": [
          "4.9 sec"
         ],
         "yaxis": "y"
        },
        {
         "alignmentgroup": "True",
         "hovertemplate": "Brand=%{x}<br>Accel=%{y}<extra></extra>",
         "legendgroup": "Kia ",
         "marker": {
          "color": "#B6E880",
          "pattern": {
           "shape": ""
          }
         },
         "name": "Kia ",
         "offsetgroup": "Kia ",
         "orientation": "v",
         "showlegend": true,
         "textposition": "auto",
         "type": "bar",
         "x": [
          "Kia ",
          "Kia ",
          "Kia ",
          "Kia ",
          "Kia "
         ],
         "xaxis": "x",
         "y": [
          "7.8 sec",
          "7.9 sec",
          "9.8 sec",
          "7.9 sec",
          "9.9 sec"
         ],
         "yaxis": "y"
        },
        {
         "alignmentgroup": "True",
         "hovertemplate": "Brand=%{x}<br>Accel=%{y}<extra></extra>",
         "legendgroup": "Renault ",
         "marker": {
          "color": "#FF97FF",
          "pattern": {
           "shape": ""
          }
         },
         "name": "Renault ",
         "offsetgroup": "Renault ",
         "orientation": "v",
         "showlegend": true,
         "textposition": "auto",
         "type": "bar",
         "x": [
          "Renault ",
          "Renault ",
          "Renault ",
          "Renault ",
          "Renault "
         ],
         "xaxis": "x",
         "y": [
          "11.4 sec",
          "9.5 sec",
          "12.6 sec",
          "11.4 sec",
          "22.4 sec"
         ],
         "yaxis": "y"
        },
        {
         "alignmentgroup": "True",
         "hovertemplate": "Brand=%{x}<br>Accel=%{y}<extra></extra>",
         "legendgroup": "Mazda ",
         "marker": {
          "color": "#FECB52",
          "pattern": {
           "shape": ""
          }
         },
         "name": "Mazda ",
         "offsetgroup": "Mazda ",
         "orientation": "v",
         "showlegend": true,
         "textposition": "auto",
         "type": "bar",
         "x": [
          "Mazda "
         ],
         "xaxis": "x",
         "y": [
          "9.0 sec"
         ],
         "yaxis": "y"
        },
        {
         "alignmentgroup": "True",
         "hovertemplate": "Brand=%{x}<br>Accel=%{y}<extra></extra>",
         "legendgroup": "Lexus ",
         "marker": {
          "color": "#636efa",
          "pattern": {
           "shape": ""
          }
         },
         "name": "Lexus ",
         "offsetgroup": "Lexus ",
         "orientation": "v",
         "showlegend": true,
         "textposition": "auto",
         "type": "bar",
         "x": [
          "Lexus "
         ],
         "xaxis": "x",
         "y": [
          "7.5 sec"
         ],
         "yaxis": "y"
        },
        {
         "alignmentgroup": "True",
         "hovertemplate": "Brand=%{x}<br>Accel=%{y}<extra></extra>",
         "legendgroup": "CUPRA ",
         "marker": {
          "color": "#EF553B",
          "pattern": {
           "shape": ""
          }
         },
         "name": "CUPRA ",
         "offsetgroup": "CUPRA ",
         "orientation": "v",
         "showlegend": true,
         "textposition": "auto",
         "type": "bar",
         "x": [
          "CUPRA "
         ],
         "xaxis": "x",
         "y": [
          "6.5 sec"
         ],
         "yaxis": "y"
        },
        {
         "alignmentgroup": "True",
         "hovertemplate": "Brand=%{x}<br>Accel=%{y}<extra></extra>",
         "legendgroup": "SEAT ",
         "marker": {
          "color": "#00cc96",
          "pattern": {
           "shape": ""
          }
         },
         "name": "SEAT ",
         "offsetgroup": "SEAT ",
         "orientation": "v",
         "showlegend": true,
         "textposition": "auto",
         "type": "bar",
         "x": [
          "SEAT "
         ],
         "xaxis": "x",
         "y": [
          "12.3 sec"
         ],
         "yaxis": "y"
        },
        {
         "alignmentgroup": "True",
         "hovertemplate": "Brand=%{x}<br>Accel=%{y}<extra></extra>",
         "legendgroup": "Lightyear ",
         "marker": {
          "color": "#ab63fa",
          "pattern": {
           "shape": ""
          }
         },
         "name": "Lightyear ",
         "offsetgroup": "Lightyear ",
         "orientation": "v",
         "showlegend": true,
         "textposition": "auto",
         "type": "bar",
         "x": [
          "Lightyear "
         ],
         "xaxis": "x",
         "y": [
          "10.0 sec"
         ],
         "yaxis": "y"
        },
        {
         "alignmentgroup": "True",
         "hovertemplate": "Brand=%{x}<br>Accel=%{y}<extra></extra>",
         "legendgroup": "Aiways ",
         "marker": {
          "color": "#FFA15A",
          "pattern": {
           "shape": ""
          }
         },
         "name": "Aiways ",
         "offsetgroup": "Aiways ",
         "orientation": "v",
         "showlegend": true,
         "textposition": "auto",
         "type": "bar",
         "x": [
          "Aiways "
         ],
         "xaxis": "x",
         "y": [
          "9.0 sec"
         ],
         "yaxis": "y"
        },
        {
         "alignmentgroup": "True",
         "hovertemplate": "Brand=%{x}<br>Accel=%{y}<extra></extra>",
         "legendgroup": "DS ",
         "marker": {
          "color": "#19d3f3",
          "pattern": {
           "shape": ""
          }
         },
         "name": "DS ",
         "offsetgroup": "DS ",
         "orientation": "v",
         "showlegend": true,
         "textposition": "auto",
         "type": "bar",
         "x": [
          "DS "
         ],
         "xaxis": "x",
         "y": [
          "8.7 sec"
         ],
         "yaxis": "y"
        },
        {
         "alignmentgroup": "True",
         "hovertemplate": "Brand=%{x}<br>Accel=%{y}<extra></extra>",
         "legendgroup": "Citroen ",
         "marker": {
          "color": "#FF6692",
          "pattern": {
           "shape": ""
          }
         },
         "name": "Citroen ",
         "offsetgroup": "Citroen ",
         "orientation": "v",
         "showlegend": true,
         "textposition": "auto",
         "type": "bar",
         "x": [
          "Citroen "
         ],
         "xaxis": "x",
         "y": [
          "9.7 sec"
         ],
         "yaxis": "y"
        },
        {
         "alignmentgroup": "True",
         "hovertemplate": "Brand=%{x}<br>Accel=%{y}<extra></extra>",
         "legendgroup": "Jaguar ",
         "marker": {
          "color": "#B6E880",
          "pattern": {
           "shape": ""
          }
         },
         "name": "Jaguar ",
         "offsetgroup": "Jaguar ",
         "orientation": "v",
         "showlegend": true,
         "textposition": "auto",
         "type": "bar",
         "x": [
          "Jaguar "
         ],
         "xaxis": "x",
         "y": [
          "4.8 sec"
         ],
         "yaxis": "y"
        },
        {
         "alignmentgroup": "True",
         "hovertemplate": "Brand=%{x}<br>Accel=%{y}<extra></extra>",
         "legendgroup": "Ford ",
         "marker": {
          "color": "#FF97FF",
          "pattern": {
           "shape": ""
          }
         },
         "name": "Ford ",
         "offsetgroup": "Ford ",
         "orientation": "v",
         "showlegend": true,
         "textposition": "auto",
         "type": "bar",
         "x": [
          "Ford ",
          "Ford ",
          "Ford ",
          "Ford "
         ],
         "xaxis": "x",
         "y": [
          "7.0 sec",
          "6.0 sec",
          "6.0 sec",
          "6.6 sec"
         ],
         "yaxis": "y"
        },
        {
         "alignmentgroup": "True",
         "hovertemplate": "Brand=%{x}<br>Accel=%{y}<extra></extra>",
         "legendgroup": "Byton ",
         "marker": {
          "color": "#FECB52",
          "pattern": {
           "shape": ""
          }
         },
         "name": "Byton ",
         "offsetgroup": "Byton ",
         "orientation": "v",
         "showlegend": true,
         "textposition": "auto",
         "type": "bar",
         "x": [
          "Byton ",
          "Byton ",
          "Byton "
         ],
         "xaxis": "x",
         "y": [
          "5.5 sec",
          "7.5 sec",
          "7.5 sec"
         ],
         "yaxis": "y"
        },
        {
         "alignmentgroup": "True",
         "hovertemplate": "Brand=%{x}<br>Accel=%{y}<extra></extra>",
         "legendgroup": "Sono ",
         "marker": {
          "color": "#636efa",
          "pattern": {
           "shape": ""
          }
         },
         "name": "Sono ",
         "offsetgroup": "Sono ",
         "orientation": "v",
         "showlegend": true,
         "textposition": "auto",
         "type": "bar",
         "x": [
          "Sono "
         ],
         "xaxis": "x",
         "y": [
          "9.0 sec"
         ],
         "yaxis": "y"
        },
        {
         "alignmentgroup": "True",
         "hovertemplate": "Brand=%{x}<br>Accel=%{y}<extra></extra>",
         "legendgroup": "Smart ",
         "marker": {
          "color": "#EF553B",
          "pattern": {
           "shape": ""
          }
         },
         "name": "Smart ",
         "offsetgroup": "Smart ",
         "orientation": "v",
         "showlegend": true,
         "textposition": "auto",
         "type": "bar",
         "x": [
          "Smart ",
          "Smart ",
          "Smart "
         ],
         "xaxis": "x",
         "y": [
          "12.7 sec",
          "11.6 sec",
          "11.9 sec"
         ],
         "yaxis": "y"
        },
        {
         "alignmentgroup": "True",
         "hovertemplate": "Brand=%{x}<br>Accel=%{y}<extra></extra>",
         "legendgroup": "Fiat ",
         "marker": {
          "color": "#00cc96",
          "pattern": {
           "shape": ""
          }
         },
         "name": "Fiat ",
         "offsetgroup": "Fiat ",
         "orientation": "v",
         "showlegend": true,
         "textposition": "auto",
         "type": "bar",
         "x": [
          "Fiat ",
          "Fiat "
         ],
         "xaxis": "x",
         "y": [
          "9.0 sec",
          "9.0 sec"
         ],
         "yaxis": "y"
        }
       ],
       "layout": {
        "barmode": "relative",
        "legend": {
         "title": {
          "text": "Brand"
         },
         "tracegroupgap": 0
        },
        "template": {
         "data": {
          "bar": [
           {
            "error_x": {
             "color": "#2a3f5f"
            },
            "error_y": {
             "color": "#2a3f5f"
            },
            "marker": {
             "line": {
              "color": "#E5ECF6",
              "width": 0.5
             },
             "pattern": {
              "fillmode": "overlay",
              "size": 10,
              "solidity": 0.2
             }
            },
            "type": "bar"
           }
          ],
          "barpolar": [
           {
            "marker": {
             "line": {
              "color": "#E5ECF6",
              "width": 0.5
             },
             "pattern": {
              "fillmode": "overlay",
              "size": 10,
              "solidity": 0.2
             }
            },
            "type": "barpolar"
           }
          ],
          "carpet": [
           {
            "aaxis": {
             "endlinecolor": "#2a3f5f",
             "gridcolor": "white",
             "linecolor": "white",
             "minorgridcolor": "white",
             "startlinecolor": "#2a3f5f"
            },
            "baxis": {
             "endlinecolor": "#2a3f5f",
             "gridcolor": "white",
             "linecolor": "white",
             "minorgridcolor": "white",
             "startlinecolor": "#2a3f5f"
            },
            "type": "carpet"
           }
          ],
          "choropleth": [
           {
            "colorbar": {
             "outlinewidth": 0,
             "ticks": ""
            },
            "type": "choropleth"
           }
          ],
          "contour": [
           {
            "colorbar": {
             "outlinewidth": 0,
             "ticks": ""
            },
            "colorscale": [
             [
              0,
              "#0d0887"
             ],
             [
              0.1111111111111111,
              "#46039f"
             ],
             [
              0.2222222222222222,
              "#7201a8"
             ],
             [
              0.3333333333333333,
              "#9c179e"
             ],
             [
              0.4444444444444444,
              "#bd3786"
             ],
             [
              0.5555555555555556,
              "#d8576b"
             ],
             [
              0.6666666666666666,
              "#ed7953"
             ],
             [
              0.7777777777777778,
              "#fb9f3a"
             ],
             [
              0.8888888888888888,
              "#fdca26"
             ],
             [
              1,
              "#f0f921"
             ]
            ],
            "type": "contour"
           }
          ],
          "contourcarpet": [
           {
            "colorbar": {
             "outlinewidth": 0,
             "ticks": ""
            },
            "type": "contourcarpet"
           }
          ],
          "heatmap": [
           {
            "colorbar": {
             "outlinewidth": 0,
             "ticks": ""
            },
            "colorscale": [
             [
              0,
              "#0d0887"
             ],
             [
              0.1111111111111111,
              "#46039f"
             ],
             [
              0.2222222222222222,
              "#7201a8"
             ],
             [
              0.3333333333333333,
              "#9c179e"
             ],
             [
              0.4444444444444444,
              "#bd3786"
             ],
             [
              0.5555555555555556,
              "#d8576b"
             ],
             [
              0.6666666666666666,
              "#ed7953"
             ],
             [
              0.7777777777777778,
              "#fb9f3a"
             ],
             [
              0.8888888888888888,
              "#fdca26"
             ],
             [
              1,
              "#f0f921"
             ]
            ],
            "type": "heatmap"
           }
          ],
          "heatmapgl": [
           {
            "colorbar": {
             "outlinewidth": 0,
             "ticks": ""
            },
            "colorscale": [
             [
              0,
              "#0d0887"
             ],
             [
              0.1111111111111111,
              "#46039f"
             ],
             [
              0.2222222222222222,
              "#7201a8"
             ],
             [
              0.3333333333333333,
              "#9c179e"
             ],
             [
              0.4444444444444444,
              "#bd3786"
             ],
             [
              0.5555555555555556,
              "#d8576b"
             ],
             [
              0.6666666666666666,
              "#ed7953"
             ],
             [
              0.7777777777777778,
              "#fb9f3a"
             ],
             [
              0.8888888888888888,
              "#fdca26"
             ],
             [
              1,
              "#f0f921"
             ]
            ],
            "type": "heatmapgl"
           }
          ],
          "histogram": [
           {
            "marker": {
             "pattern": {
              "fillmode": "overlay",
              "size": 10,
              "solidity": 0.2
             }
            },
            "type": "histogram"
           }
          ],
          "histogram2d": [
           {
            "colorbar": {
             "outlinewidth": 0,
             "ticks": ""
            },
            "colorscale": [
             [
              0,
              "#0d0887"
             ],
             [
              0.1111111111111111,
              "#46039f"
             ],
             [
              0.2222222222222222,
              "#7201a8"
             ],
             [
              0.3333333333333333,
              "#9c179e"
             ],
             [
              0.4444444444444444,
              "#bd3786"
             ],
             [
              0.5555555555555556,
              "#d8576b"
             ],
             [
              0.6666666666666666,
              "#ed7953"
             ],
             [
              0.7777777777777778,
              "#fb9f3a"
             ],
             [
              0.8888888888888888,
              "#fdca26"
             ],
             [
              1,
              "#f0f921"
             ]
            ],
            "type": "histogram2d"
           }
          ],
          "histogram2dcontour": [
           {
            "colorbar": {
             "outlinewidth": 0,
             "ticks": ""
            },
            "colorscale": [
             [
              0,
              "#0d0887"
             ],
             [
              0.1111111111111111,
              "#46039f"
             ],
             [
              0.2222222222222222,
              "#7201a8"
             ],
             [
              0.3333333333333333,
              "#9c179e"
             ],
             [
              0.4444444444444444,
              "#bd3786"
             ],
             [
              0.5555555555555556,
              "#d8576b"
             ],
             [
              0.6666666666666666,
              "#ed7953"
             ],
             [
              0.7777777777777778,
              "#fb9f3a"
             ],
             [
              0.8888888888888888,
              "#fdca26"
             ],
             [
              1,
              "#f0f921"
             ]
            ],
            "type": "histogram2dcontour"
           }
          ],
          "mesh3d": [
           {
            "colorbar": {
             "outlinewidth": 0,
             "ticks": ""
            },
            "type": "mesh3d"
           }
          ],
          "parcoords": [
           {
            "line": {
             "colorbar": {
              "outlinewidth": 0,
              "ticks": ""
             }
            },
            "type": "parcoords"
           }
          ],
          "pie": [
           {
            "automargin": true,
            "type": "pie"
           }
          ],
          "scatter": [
           {
            "marker": {
             "colorbar": {
              "outlinewidth": 0,
              "ticks": ""
             }
            },
            "type": "scatter"
           }
          ],
          "scatter3d": [
           {
            "line": {
             "colorbar": {
              "outlinewidth": 0,
              "ticks": ""
             }
            },
            "marker": {
             "colorbar": {
              "outlinewidth": 0,
              "ticks": ""
             }
            },
            "type": "scatter3d"
           }
          ],
          "scattercarpet": [
           {
            "marker": {
             "colorbar": {
              "outlinewidth": 0,
              "ticks": ""
             }
            },
            "type": "scattercarpet"
           }
          ],
          "scattergeo": [
           {
            "marker": {
             "colorbar": {
              "outlinewidth": 0,
              "ticks": ""
             }
            },
            "type": "scattergeo"
           }
          ],
          "scattergl": [
           {
            "marker": {
             "colorbar": {
              "outlinewidth": 0,
              "ticks": ""
             }
            },
            "type": "scattergl"
           }
          ],
          "scattermapbox": [
           {
            "marker": {
             "colorbar": {
              "outlinewidth": 0,
              "ticks": ""
             }
            },
            "type": "scattermapbox"
           }
          ],
          "scatterpolar": [
           {
            "marker": {
             "colorbar": {
              "outlinewidth": 0,
              "ticks": ""
             }
            },
            "type": "scatterpolar"
           }
          ],
          "scatterpolargl": [
           {
            "marker": {
             "colorbar": {
              "outlinewidth": 0,
              "ticks": ""
             }
            },
            "type": "scatterpolargl"
           }
          ],
          "scatterternary": [
           {
            "marker": {
             "colorbar": {
              "outlinewidth": 0,
              "ticks": ""
             }
            },
            "type": "scatterternary"
           }
          ],
          "surface": [
           {
            "colorbar": {
             "outlinewidth": 0,
             "ticks": ""
            },
            "colorscale": [
             [
              0,
              "#0d0887"
             ],
             [
              0.1111111111111111,
              "#46039f"
             ],
             [
              0.2222222222222222,
              "#7201a8"
             ],
             [
              0.3333333333333333,
              "#9c179e"
             ],
             [
              0.4444444444444444,
              "#bd3786"
             ],
             [
              0.5555555555555556,
              "#d8576b"
             ],
             [
              0.6666666666666666,
              "#ed7953"
             ],
             [
              0.7777777777777778,
              "#fb9f3a"
             ],
             [
              0.8888888888888888,
              "#fdca26"
             ],
             [
              1,
              "#f0f921"
             ]
            ],
            "type": "surface"
           }
          ],
          "table": [
           {
            "cells": {
             "fill": {
              "color": "#EBF0F8"
             },
             "line": {
              "color": "white"
             }
            },
            "header": {
             "fill": {
              "color": "#C8D4E3"
             },
             "line": {
              "color": "white"
             }
            },
            "type": "table"
           }
          ]
         },
         "layout": {
          "annotationdefaults": {
           "arrowcolor": "#2a3f5f",
           "arrowhead": 0,
           "arrowwidth": 1
          },
          "autotypenumbers": "strict",
          "coloraxis": {
           "colorbar": {
            "outlinewidth": 0,
            "ticks": ""
           }
          },
          "colorscale": {
           "diverging": [
            [
             0,
             "#8e0152"
            ],
            [
             0.1,
             "#c51b7d"
            ],
            [
             0.2,
             "#de77ae"
            ],
            [
             0.3,
             "#f1b6da"
            ],
            [
             0.4,
             "#fde0ef"
            ],
            [
             0.5,
             "#f7f7f7"
            ],
            [
             0.6,
             "#e6f5d0"
            ],
            [
             0.7,
             "#b8e186"
            ],
            [
             0.8,
             "#7fbc41"
            ],
            [
             0.9,
             "#4d9221"
            ],
            [
             1,
             "#276419"
            ]
           ],
           "sequential": [
            [
             0,
             "#0d0887"
            ],
            [
             0.1111111111111111,
             "#46039f"
            ],
            [
             0.2222222222222222,
             "#7201a8"
            ],
            [
             0.3333333333333333,
             "#9c179e"
            ],
            [
             0.4444444444444444,
             "#bd3786"
            ],
            [
             0.5555555555555556,
             "#d8576b"
            ],
            [
             0.6666666666666666,
             "#ed7953"
            ],
            [
             0.7777777777777778,
             "#fb9f3a"
            ],
            [
             0.8888888888888888,
             "#fdca26"
            ],
            [
             1,
             "#f0f921"
            ]
           ],
           "sequentialminus": [
            [
             0,
             "#0d0887"
            ],
            [
             0.1111111111111111,
             "#46039f"
            ],
            [
             0.2222222222222222,
             "#7201a8"
            ],
            [
             0.3333333333333333,
             "#9c179e"
            ],
            [
             0.4444444444444444,
             "#bd3786"
            ],
            [
             0.5555555555555556,
             "#d8576b"
            ],
            [
             0.6666666666666666,
             "#ed7953"
            ],
            [
             0.7777777777777778,
             "#fb9f3a"
            ],
            [
             0.8888888888888888,
             "#fdca26"
            ],
            [
             1,
             "#f0f921"
            ]
           ]
          },
          "colorway": [
           "#636efa",
           "#EF553B",
           "#00cc96",
           "#ab63fa",
           "#FFA15A",
           "#19d3f3",
           "#FF6692",
           "#B6E880",
           "#FF97FF",
           "#FECB52"
          ],
          "font": {
           "color": "#2a3f5f"
          },
          "geo": {
           "bgcolor": "white",
           "lakecolor": "white",
           "landcolor": "#E5ECF6",
           "showlakes": true,
           "showland": true,
           "subunitcolor": "white"
          },
          "hoverlabel": {
           "align": "left"
          },
          "hovermode": "closest",
          "mapbox": {
           "style": "light"
          },
          "paper_bgcolor": "white",
          "plot_bgcolor": "#E5ECF6",
          "polar": {
           "angularaxis": {
            "gridcolor": "white",
            "linecolor": "white",
            "ticks": ""
           },
           "bgcolor": "#E5ECF6",
           "radialaxis": {
            "gridcolor": "white",
            "linecolor": "white",
            "ticks": ""
           }
          },
          "scene": {
           "xaxis": {
            "backgroundcolor": "#E5ECF6",
            "gridcolor": "white",
            "gridwidth": 2,
            "linecolor": "white",
            "showbackground": true,
            "ticks": "",
            "zerolinecolor": "white"
           },
           "yaxis": {
            "backgroundcolor": "#E5ECF6",
            "gridcolor": "white",
            "gridwidth": 2,
            "linecolor": "white",
            "showbackground": true,
            "ticks": "",
            "zerolinecolor": "white"
           },
           "zaxis": {
            "backgroundcolor": "#E5ECF6",
            "gridcolor": "white",
            "gridwidth": 2,
            "linecolor": "white",
            "showbackground": true,
            "ticks": "",
            "zerolinecolor": "white"
           }
          },
          "shapedefaults": {
           "line": {
            "color": "#2a3f5f"
           }
          },
          "ternary": {
           "aaxis": {
            "gridcolor": "white",
            "linecolor": "white",
            "ticks": ""
           },
           "baxis": {
            "gridcolor": "white",
            "linecolor": "white",
            "ticks": ""
           },
           "bgcolor": "#E5ECF6",
           "caxis": {
            "gridcolor": "white",
            "linecolor": "white",
            "ticks": ""
           }
          },
          "title": {
           "x": 0.05
          },
          "xaxis": {
           "automargin": true,
           "gridcolor": "white",
           "linecolor": "white",
           "ticks": "",
           "title": {
            "standoff": 15
           },
           "zerolinecolor": "white",
           "zerolinewidth": 2
          },
          "yaxis": {
           "automargin": true,
           "gridcolor": "white",
           "linecolor": "white",
           "ticks": "",
           "title": {
            "standoff": 15
           },
           "zerolinecolor": "white",
           "zerolinewidth": 2
          }
         }
        },
        "title": {
         "text": "Which car has fastest accelaration?"
        },
        "xaxis": {
         "anchor": "y",
         "categoryarray": [
          "Tesla ",
          "Volkswagen ",
          "Polestar ",
          "BMW ",
          "Honda ",
          "Lucid ",
          "Peugeot ",
          "Audi ",
          "Mercedes ",
          "Nissan ",
          "Hyundai ",
          "Porsche ",
          "MG ",
          "Mini ",
          "Opel ",
          "Skoda ",
          "Volvo ",
          "Kia ",
          "Renault ",
          "Mazda ",
          "Lexus ",
          "CUPRA ",
          "SEAT ",
          "Lightyear ",
          "Aiways ",
          "DS ",
          "Citroen ",
          "Jaguar ",
          "Ford ",
          "Byton ",
          "Sono ",
          "Smart ",
          "Fiat "
         ],
         "categoryorder": "array",
         "domain": [
          0,
          1
         ],
         "title": {
          "text": "Brand"
         }
        },
        "yaxis": {
         "anchor": "x",
         "domain": [
          0,
          1
         ],
         "title": {
          "text": "Accel"
         }
        }
       }
      },
      "text/html": [
       "<div>                            <div id=\"d647876d-f69c-4338-9ef8-c9a0c12fcc2d\" class=\"plotly-graph-div\" style=\"height:525px; width:100%;\"></div>            <script type=\"text/javascript\">                require([\"plotly\"], function(Plotly) {                    window.PLOTLYENV=window.PLOTLYENV || {};                                    if (document.getElementById(\"d647876d-f69c-4338-9ef8-c9a0c12fcc2d\")) {                    Plotly.newPlot(                        \"d647876d-f69c-4338-9ef8-c9a0c12fcc2d\",                        [{\"alignmentgroup\":\"True\",\"hovertemplate\":\"Brand=%{x}<br>Accel=%{y}<extra></extra>\",\"legendgroup\":\"Tesla \",\"marker\":{\"color\":\"#636efa\",\"pattern\":{\"shape\":\"\"}},\"name\":\"Tesla \",\"offsetgroup\":\"Tesla \",\"orientation\":\"v\",\"showlegend\":true,\"textposition\":\"auto\",\"x\":[\"Tesla \",\"Tesla \",\"Tesla \",\"Tesla \",\"Tesla \",\"Tesla \",\"Tesla \",\"Tesla \",\"Tesla \",\"Tesla \",\"Tesla \",\"Tesla \",\"Tesla \"],\"xaxis\":\"x\",\"y\":[\"4.6 sec\",\"5.6 sec\",\"5.1 sec\",\"3.4 sec\",\"3.0 sec\",\"3.8 sec\",\"2.1 sec\",\"4.6 sec\",\"2.5 sec\",\"3.7 sec\",\"5.0 sec\",\"2.8 sec\",\"7.0 sec\"],\"yaxis\":\"y\",\"type\":\"bar\"},{\"alignmentgroup\":\"True\",\"hovertemplate\":\"Brand=%{x}<br>Accel=%{y}<extra></extra>\",\"legendgroup\":\"Volkswagen \",\"marker\":{\"color\":\"#EF553B\",\"pattern\":{\"shape\":\"\"}},\"name\":\"Volkswagen \",\"offsetgroup\":\"Volkswagen \",\"orientation\":\"v\",\"showlegend\":true,\"textposition\":\"auto\",\"x\":[\"Volkswagen \",\"Volkswagen \",\"Volkswagen \",\"Volkswagen \",\"Volkswagen \",\"Volkswagen \",\"Volkswagen \",\"Volkswagen \"],\"xaxis\":\"x\",\"y\":[\"10.0 sec\",\"9.6 sec\",\"7.9 sec\",\"11.9 sec\",\"7.5 sec\",\"9.0 sec\",\"7.3 sec\",\"7.3 sec\"],\"yaxis\":\"y\",\"type\":\"bar\"},{\"alignmentgroup\":\"True\",\"hovertemplate\":\"Brand=%{x}<br>Accel=%{y}<extra></extra>\",\"legendgroup\":\"Polestar \",\"marker\":{\"color\":\"#00cc96\",\"pattern\":{\"shape\":\"\"}},\"name\":\"Polestar \",\"offsetgroup\":\"Polestar \",\"orientation\":\"v\",\"showlegend\":true,\"textposition\":\"auto\",\"x\":[\"Polestar \"],\"xaxis\":\"x\",\"y\":[\"4.7 sec\"],\"yaxis\":\"y\",\"type\":\"bar\"},{\"alignmentgroup\":\"True\",\"hovertemplate\":\"Brand=%{x}<br>Accel=%{y}<extra></extra>\",\"legendgroup\":\"BMW \",\"marker\":{\"color\":\"#ab63fa\",\"pattern\":{\"shape\":\"\"}},\"name\":\"BMW \",\"offsetgroup\":\"BMW \",\"orientation\":\"v\",\"showlegend\":true,\"textposition\":\"auto\",\"x\":[\"BMW \",\"BMW \",\"BMW \",\"BMW \"],\"xaxis\":\"x\",\"y\":[\"6.8 sec\",\"4.0 sec\",\"7.3 sec\",\"6.9 sec\"],\"yaxis\":\"y\",\"type\":\"bar\"},{\"alignmentgroup\":\"True\",\"hovertemplate\":\"Brand=%{x}<br>Accel=%{y}<extra></extra>\",\"legendgroup\":\"Honda \",\"marker\":{\"color\":\"#FFA15A\",\"pattern\":{\"shape\":\"\"}},\"name\":\"Honda \",\"offsetgroup\":\"Honda \",\"orientation\":\"v\",\"showlegend\":true,\"textposition\":\"auto\",\"x\":[\"Honda \",\"Honda \"],\"xaxis\":\"x\",\"y\":[\"9.5 sec\",\"8.3 sec\"],\"yaxis\":\"y\",\"type\":\"bar\"},{\"alignmentgroup\":\"True\",\"hovertemplate\":\"Brand=%{x}<br>Accel=%{y}<extra></extra>\",\"legendgroup\":\"Lucid \",\"marker\":{\"color\":\"#19d3f3\",\"pattern\":{\"shape\":\"\"}},\"name\":\"Lucid \",\"offsetgroup\":\"Lucid \",\"orientation\":\"v\",\"showlegend\":true,\"textposition\":\"auto\",\"x\":[\"Lucid \"],\"xaxis\":\"x\",\"y\":[\"2.8 sec\"],\"yaxis\":\"y\",\"type\":\"bar\"},{\"alignmentgroup\":\"True\",\"hovertemplate\":\"Brand=%{x}<br>Accel=%{y}<extra></extra>\",\"legendgroup\":\"Peugeot \",\"marker\":{\"color\":\"#FF6692\",\"pattern\":{\"shape\":\"\"}},\"name\":\"Peugeot \",\"offsetgroup\":\"Peugeot \",\"orientation\":\"v\",\"showlegend\":true,\"textposition\":\"auto\",\"x\":[\"Peugeot \",\"Peugeot \"],\"xaxis\":\"x\",\"y\":[\"8.1 sec\",\"8.5 sec\"],\"yaxis\":\"y\",\"type\":\"bar\"},{\"alignmentgroup\":\"True\",\"hovertemplate\":\"Brand=%{x}<br>Accel=%{y}<extra></extra>\",\"legendgroup\":\"Audi \",\"marker\":{\"color\":\"#B6E880\",\"pattern\":{\"shape\":\"\"}},\"name\":\"Audi \",\"offsetgroup\":\"Audi \",\"orientation\":\"v\",\"showlegend\":true,\"textposition\":\"auto\",\"x\":[\"Audi \",\"Audi \",\"Audi \",\"Audi \",\"Audi \",\"Audi \",\"Audi \",\"Audi \",\"Audi \"],\"xaxis\":\"x\",\"y\":[\"6.3 sec\",\"3.5 sec\",\"6.8 sec\",\"5.7 sec\",\"5.7 sec\",\"6.3 sec\",\"6.8 sec\",\"4.5 sec\",\"4.5 sec\"],\"yaxis\":\"y\",\"type\":\"bar\"},{\"alignmentgroup\":\"True\",\"hovertemplate\":\"Brand=%{x}<br>Accel=%{y}<extra></extra>\",\"legendgroup\":\"Mercedes \",\"marker\":{\"color\":\"#FF97FF\",\"pattern\":{\"shape\":\"\"}},\"name\":\"Mercedes \",\"offsetgroup\":\"Mercedes \",\"orientation\":\"v\",\"showlegend\":true,\"textposition\":\"auto\",\"x\":[\"Mercedes \",\"Mercedes \",\"Mercedes \"],\"xaxis\":\"x\",\"y\":[\"5.1 sec\",\"5.0 sec\",\"10.0 sec\"],\"yaxis\":\"y\",\"type\":\"bar\"},{\"alignmentgroup\":\"True\",\"hovertemplate\":\"Brand=%{x}<br>Accel=%{y}<extra></extra>\",\"legendgroup\":\"Nissan \",\"marker\":{\"color\":\"#FECB52\",\"pattern\":{\"shape\":\"\"}},\"name\":\"Nissan \",\"offsetgroup\":\"Nissan \",\"orientation\":\"v\",\"showlegend\":true,\"textposition\":\"auto\",\"x\":[\"Nissan \",\"Nissan \",\"Nissan \",\"Nissan \",\"Nissan \",\"Nissan \",\"Nissan \",\"Nissan \"],\"xaxis\":\"x\",\"y\":[\"7.9 sec\",\"7.3 sec\",\"7.6 sec\",\"14.0 sec\",\"5.7 sec\",\"7.5 sec\",\"5.9 sec\",\"5.1 sec\"],\"yaxis\":\"y\",\"type\":\"bar\"},{\"alignmentgroup\":\"True\",\"hovertemplate\":\"Brand=%{x}<br>Accel=%{y}<extra></extra>\",\"legendgroup\":\"Hyundai \",\"marker\":{\"color\":\"#636efa\",\"pattern\":{\"shape\":\"\"}},\"name\":\"Hyundai \",\"offsetgroup\":\"Hyundai \",\"orientation\":\"v\",\"showlegend\":true,\"textposition\":\"auto\",\"x\":[\"Hyundai \",\"Hyundai \",\"Hyundai \"],\"xaxis\":\"x\",\"y\":[\"7.9 sec\",\"9.7 sec\",\"9.9 sec\"],\"yaxis\":\"y\",\"type\":\"bar\"},{\"alignmentgroup\":\"True\",\"hovertemplate\":\"Brand=%{x}<br>Accel=%{y}<extra></extra>\",\"legendgroup\":\"Porsche \",\"marker\":{\"color\":\"#EF553B\",\"pattern\":{\"shape\":\"\"}},\"name\":\"Porsche \",\"offsetgroup\":\"Porsche \",\"orientation\":\"v\",\"showlegend\":true,\"textposition\":\"auto\",\"x\":[\"Porsche \",\"Porsche \",\"Porsche \",\"Porsche \",\"Porsche \"],\"xaxis\":\"x\",\"y\":[\"2.8 sec\",\"4.0 sec\",\"4.0 sec\",\"3.5 sec\",\"3.2 sec\"],\"yaxis\":\"y\",\"type\":\"bar\"},{\"alignmentgroup\":\"True\",\"hovertemplate\":\"Brand=%{x}<br>Accel=%{y}<extra></extra>\",\"legendgroup\":\"MG \",\"marker\":{\"color\":\"#00cc96\",\"pattern\":{\"shape\":\"\"}},\"name\":\"MG \",\"offsetgroup\":\"MG \",\"orientation\":\"v\",\"showlegend\":true,\"textposition\":\"auto\",\"x\":[\"MG \"],\"xaxis\":\"x\",\"y\":[\"8.2 sec\"],\"yaxis\":\"y\",\"type\":\"bar\"},{\"alignmentgroup\":\"True\",\"hovertemplate\":\"Brand=%{x}<br>Accel=%{y}<extra></extra>\",\"legendgroup\":\"Mini \",\"marker\":{\"color\":\"#ab63fa\",\"pattern\":{\"shape\":\"\"}},\"name\":\"Mini \",\"offsetgroup\":\"Mini \",\"orientation\":\"v\",\"showlegend\":true,\"textposition\":\"auto\",\"x\":[\"Mini \"],\"xaxis\":\"x\",\"y\":[\"7.3 sec\"],\"yaxis\":\"y\",\"type\":\"bar\"},{\"alignmentgroup\":\"True\",\"hovertemplate\":\"Brand=%{x}<br>Accel=%{y}<extra></extra>\",\"legendgroup\":\"Opel \",\"marker\":{\"color\":\"#FFA15A\",\"pattern\":{\"shape\":\"\"}},\"name\":\"Opel \",\"offsetgroup\":\"Opel \",\"orientation\":\"v\",\"showlegend\":true,\"textposition\":\"auto\",\"x\":[\"Opel \",\"Opel \",\"Opel \"],\"xaxis\":\"x\",\"y\":[\"8.1 sec\",\"7.3 sec\",\"8.5 sec\"],\"yaxis\":\"y\",\"type\":\"bar\"},{\"alignmentgroup\":\"True\",\"hovertemplate\":\"Brand=%{x}<br>Accel=%{y}<extra></extra>\",\"legendgroup\":\"Skoda \",\"marker\":{\"color\":\"#19d3f3\",\"pattern\":{\"shape\":\"\"}},\"name\":\"Skoda \",\"offsetgroup\":\"Skoda \",\"orientation\":\"v\",\"showlegend\":true,\"textposition\":\"auto\",\"x\":[\"Skoda \",\"Skoda \",\"Skoda \",\"Skoda \",\"Skoda \",\"Skoda \"],\"xaxis\":\"x\",\"y\":[\"10.0 sec\",\"12.3 sec\",\"8.8 sec\",\"7.0 sec\",\"6.2 sec\",\"9.0 sec\"],\"yaxis\":\"y\",\"type\":\"bar\"},{\"alignmentgroup\":\"True\",\"hovertemplate\":\"Brand=%{x}<br>Accel=%{y}<extra></extra>\",\"legendgroup\":\"Volvo \",\"marker\":{\"color\":\"#FF6692\",\"pattern\":{\"shape\":\"\"}},\"name\":\"Volvo \",\"offsetgroup\":\"Volvo \",\"orientation\":\"v\",\"showlegend\":true,\"textposition\":\"auto\",\"x\":[\"Volvo \"],\"xaxis\":\"x\",\"y\":[\"4.9 sec\"],\"yaxis\":\"y\",\"type\":\"bar\"},{\"alignmentgroup\":\"True\",\"hovertemplate\":\"Brand=%{x}<br>Accel=%{y}<extra></extra>\",\"legendgroup\":\"Kia \",\"marker\":{\"color\":\"#B6E880\",\"pattern\":{\"shape\":\"\"}},\"name\":\"Kia \",\"offsetgroup\":\"Kia \",\"orientation\":\"v\",\"showlegend\":true,\"textposition\":\"auto\",\"x\":[\"Kia \",\"Kia \",\"Kia \",\"Kia \",\"Kia \"],\"xaxis\":\"x\",\"y\":[\"7.8 sec\",\"7.9 sec\",\"9.8 sec\",\"7.9 sec\",\"9.9 sec\"],\"yaxis\":\"y\",\"type\":\"bar\"},{\"alignmentgroup\":\"True\",\"hovertemplate\":\"Brand=%{x}<br>Accel=%{y}<extra></extra>\",\"legendgroup\":\"Renault \",\"marker\":{\"color\":\"#FF97FF\",\"pattern\":{\"shape\":\"\"}},\"name\":\"Renault \",\"offsetgroup\":\"Renault \",\"orientation\":\"v\",\"showlegend\":true,\"textposition\":\"auto\",\"x\":[\"Renault \",\"Renault \",\"Renault \",\"Renault \",\"Renault \"],\"xaxis\":\"x\",\"y\":[\"11.4 sec\",\"9.5 sec\",\"12.6 sec\",\"11.4 sec\",\"22.4 sec\"],\"yaxis\":\"y\",\"type\":\"bar\"},{\"alignmentgroup\":\"True\",\"hovertemplate\":\"Brand=%{x}<br>Accel=%{y}<extra></extra>\",\"legendgroup\":\"Mazda \",\"marker\":{\"color\":\"#FECB52\",\"pattern\":{\"shape\":\"\"}},\"name\":\"Mazda \",\"offsetgroup\":\"Mazda \",\"orientation\":\"v\",\"showlegend\":true,\"textposition\":\"auto\",\"x\":[\"Mazda \"],\"xaxis\":\"x\",\"y\":[\"9.0 sec\"],\"yaxis\":\"y\",\"type\":\"bar\"},{\"alignmentgroup\":\"True\",\"hovertemplate\":\"Brand=%{x}<br>Accel=%{y}<extra></extra>\",\"legendgroup\":\"Lexus \",\"marker\":{\"color\":\"#636efa\",\"pattern\":{\"shape\":\"\"}},\"name\":\"Lexus \",\"offsetgroup\":\"Lexus \",\"orientation\":\"v\",\"showlegend\":true,\"textposition\":\"auto\",\"x\":[\"Lexus \"],\"xaxis\":\"x\",\"y\":[\"7.5 sec\"],\"yaxis\":\"y\",\"type\":\"bar\"},{\"alignmentgroup\":\"True\",\"hovertemplate\":\"Brand=%{x}<br>Accel=%{y}<extra></extra>\",\"legendgroup\":\"CUPRA \",\"marker\":{\"color\":\"#EF553B\",\"pattern\":{\"shape\":\"\"}},\"name\":\"CUPRA \",\"offsetgroup\":\"CUPRA \",\"orientation\":\"v\",\"showlegend\":true,\"textposition\":\"auto\",\"x\":[\"CUPRA \"],\"xaxis\":\"x\",\"y\":[\"6.5 sec\"],\"yaxis\":\"y\",\"type\":\"bar\"},{\"alignmentgroup\":\"True\",\"hovertemplate\":\"Brand=%{x}<br>Accel=%{y}<extra></extra>\",\"legendgroup\":\"SEAT \",\"marker\":{\"color\":\"#00cc96\",\"pattern\":{\"shape\":\"\"}},\"name\":\"SEAT \",\"offsetgroup\":\"SEAT \",\"orientation\":\"v\",\"showlegend\":true,\"textposition\":\"auto\",\"x\":[\"SEAT \"],\"xaxis\":\"x\",\"y\":[\"12.3 sec\"],\"yaxis\":\"y\",\"type\":\"bar\"},{\"alignmentgroup\":\"True\",\"hovertemplate\":\"Brand=%{x}<br>Accel=%{y}<extra></extra>\",\"legendgroup\":\"Lightyear \",\"marker\":{\"color\":\"#ab63fa\",\"pattern\":{\"shape\":\"\"}},\"name\":\"Lightyear \",\"offsetgroup\":\"Lightyear \",\"orientation\":\"v\",\"showlegend\":true,\"textposition\":\"auto\",\"x\":[\"Lightyear \"],\"xaxis\":\"x\",\"y\":[\"10.0 sec\"],\"yaxis\":\"y\",\"type\":\"bar\"},{\"alignmentgroup\":\"True\",\"hovertemplate\":\"Brand=%{x}<br>Accel=%{y}<extra></extra>\",\"legendgroup\":\"Aiways \",\"marker\":{\"color\":\"#FFA15A\",\"pattern\":{\"shape\":\"\"}},\"name\":\"Aiways \",\"offsetgroup\":\"Aiways \",\"orientation\":\"v\",\"showlegend\":true,\"textposition\":\"auto\",\"x\":[\"Aiways \"],\"xaxis\":\"x\",\"y\":[\"9.0 sec\"],\"yaxis\":\"y\",\"type\":\"bar\"},{\"alignmentgroup\":\"True\",\"hovertemplate\":\"Brand=%{x}<br>Accel=%{y}<extra></extra>\",\"legendgroup\":\"DS \",\"marker\":{\"color\":\"#19d3f3\",\"pattern\":{\"shape\":\"\"}},\"name\":\"DS \",\"offsetgroup\":\"DS \",\"orientation\":\"v\",\"showlegend\":true,\"textposition\":\"auto\",\"x\":[\"DS \"],\"xaxis\":\"x\",\"y\":[\"8.7 sec\"],\"yaxis\":\"y\",\"type\":\"bar\"},{\"alignmentgroup\":\"True\",\"hovertemplate\":\"Brand=%{x}<br>Accel=%{y}<extra></extra>\",\"legendgroup\":\"Citroen \",\"marker\":{\"color\":\"#FF6692\",\"pattern\":{\"shape\":\"\"}},\"name\":\"Citroen \",\"offsetgroup\":\"Citroen \",\"orientation\":\"v\",\"showlegend\":true,\"textposition\":\"auto\",\"x\":[\"Citroen \"],\"xaxis\":\"x\",\"y\":[\"9.7 sec\"],\"yaxis\":\"y\",\"type\":\"bar\"},{\"alignmentgroup\":\"True\",\"hovertemplate\":\"Brand=%{x}<br>Accel=%{y}<extra></extra>\",\"legendgroup\":\"Jaguar \",\"marker\":{\"color\":\"#B6E880\",\"pattern\":{\"shape\":\"\"}},\"name\":\"Jaguar \",\"offsetgroup\":\"Jaguar \",\"orientation\":\"v\",\"showlegend\":true,\"textposition\":\"auto\",\"x\":[\"Jaguar \"],\"xaxis\":\"x\",\"y\":[\"4.8 sec\"],\"yaxis\":\"y\",\"type\":\"bar\"},{\"alignmentgroup\":\"True\",\"hovertemplate\":\"Brand=%{x}<br>Accel=%{y}<extra></extra>\",\"legendgroup\":\"Ford \",\"marker\":{\"color\":\"#FF97FF\",\"pattern\":{\"shape\":\"\"}},\"name\":\"Ford \",\"offsetgroup\":\"Ford \",\"orientation\":\"v\",\"showlegend\":true,\"textposition\":\"auto\",\"x\":[\"Ford \",\"Ford \",\"Ford \",\"Ford \"],\"xaxis\":\"x\",\"y\":[\"7.0 sec\",\"6.0 sec\",\"6.0 sec\",\"6.6 sec\"],\"yaxis\":\"y\",\"type\":\"bar\"},{\"alignmentgroup\":\"True\",\"hovertemplate\":\"Brand=%{x}<br>Accel=%{y}<extra></extra>\",\"legendgroup\":\"Byton \",\"marker\":{\"color\":\"#FECB52\",\"pattern\":{\"shape\":\"\"}},\"name\":\"Byton \",\"offsetgroup\":\"Byton \",\"orientation\":\"v\",\"showlegend\":true,\"textposition\":\"auto\",\"x\":[\"Byton \",\"Byton \",\"Byton \"],\"xaxis\":\"x\",\"y\":[\"5.5 sec\",\"7.5 sec\",\"7.5 sec\"],\"yaxis\":\"y\",\"type\":\"bar\"},{\"alignmentgroup\":\"True\",\"hovertemplate\":\"Brand=%{x}<br>Accel=%{y}<extra></extra>\",\"legendgroup\":\"Sono \",\"marker\":{\"color\":\"#636efa\",\"pattern\":{\"shape\":\"\"}},\"name\":\"Sono \",\"offsetgroup\":\"Sono \",\"orientation\":\"v\",\"showlegend\":true,\"textposition\":\"auto\",\"x\":[\"Sono \"],\"xaxis\":\"x\",\"y\":[\"9.0 sec\"],\"yaxis\":\"y\",\"type\":\"bar\"},{\"alignmentgroup\":\"True\",\"hovertemplate\":\"Brand=%{x}<br>Accel=%{y}<extra></extra>\",\"legendgroup\":\"Smart \",\"marker\":{\"color\":\"#EF553B\",\"pattern\":{\"shape\":\"\"}},\"name\":\"Smart \",\"offsetgroup\":\"Smart \",\"orientation\":\"v\",\"showlegend\":true,\"textposition\":\"auto\",\"x\":[\"Smart \",\"Smart \",\"Smart \"],\"xaxis\":\"x\",\"y\":[\"12.7 sec\",\"11.6 sec\",\"11.9 sec\"],\"yaxis\":\"y\",\"type\":\"bar\"},{\"alignmentgroup\":\"True\",\"hovertemplate\":\"Brand=%{x}<br>Accel=%{y}<extra></extra>\",\"legendgroup\":\"Fiat \",\"marker\":{\"color\":\"#00cc96\",\"pattern\":{\"shape\":\"\"}},\"name\":\"Fiat \",\"offsetgroup\":\"Fiat \",\"orientation\":\"v\",\"showlegend\":true,\"textposition\":\"auto\",\"x\":[\"Fiat \",\"Fiat \"],\"xaxis\":\"x\",\"y\":[\"9.0 sec\",\"9.0 sec\"],\"yaxis\":\"y\",\"type\":\"bar\"}],                        {\"template\":{\"data\":{\"bar\":[{\"error_x\":{\"color\":\"#2a3f5f\"},\"error_y\":{\"color\":\"#2a3f5f\"},\"marker\":{\"line\":{\"color\":\"#E5ECF6\",\"width\":0.5},\"pattern\":{\"fillmode\":\"overlay\",\"size\":10,\"solidity\":0.2}},\"type\":\"bar\"}],\"barpolar\":[{\"marker\":{\"line\":{\"color\":\"#E5ECF6\",\"width\":0.5},\"pattern\":{\"fillmode\":\"overlay\",\"size\":10,\"solidity\":0.2}},\"type\":\"barpolar\"}],\"carpet\":[{\"aaxis\":{\"endlinecolor\":\"#2a3f5f\",\"gridcolor\":\"white\",\"linecolor\":\"white\",\"minorgridcolor\":\"white\",\"startlinecolor\":\"#2a3f5f\"},\"baxis\":{\"endlinecolor\":\"#2a3f5f\",\"gridcolor\":\"white\",\"linecolor\":\"white\",\"minorgridcolor\":\"white\",\"startlinecolor\":\"#2a3f5f\"},\"type\":\"carpet\"}],\"choropleth\":[{\"colorbar\":{\"outlinewidth\":0,\"ticks\":\"\"},\"type\":\"choropleth\"}],\"contour\":[{\"colorbar\":{\"outlinewidth\":0,\"ticks\":\"\"},\"colorscale\":[[0.0,\"#0d0887\"],[0.1111111111111111,\"#46039f\"],[0.2222222222222222,\"#7201a8\"],[0.3333333333333333,\"#9c179e\"],[0.4444444444444444,\"#bd3786\"],[0.5555555555555556,\"#d8576b\"],[0.6666666666666666,\"#ed7953\"],[0.7777777777777778,\"#fb9f3a\"],[0.8888888888888888,\"#fdca26\"],[1.0,\"#f0f921\"]],\"type\":\"contour\"}],\"contourcarpet\":[{\"colorbar\":{\"outlinewidth\":0,\"ticks\":\"\"},\"type\":\"contourcarpet\"}],\"heatmap\":[{\"colorbar\":{\"outlinewidth\":0,\"ticks\":\"\"},\"colorscale\":[[0.0,\"#0d0887\"],[0.1111111111111111,\"#46039f\"],[0.2222222222222222,\"#7201a8\"],[0.3333333333333333,\"#9c179e\"],[0.4444444444444444,\"#bd3786\"],[0.5555555555555556,\"#d8576b\"],[0.6666666666666666,\"#ed7953\"],[0.7777777777777778,\"#fb9f3a\"],[0.8888888888888888,\"#fdca26\"],[1.0,\"#f0f921\"]],\"type\":\"heatmap\"}],\"heatmapgl\":[{\"colorbar\":{\"outlinewidth\":0,\"ticks\":\"\"},\"colorscale\":[[0.0,\"#0d0887\"],[0.1111111111111111,\"#46039f\"],[0.2222222222222222,\"#7201a8\"],[0.3333333333333333,\"#9c179e\"],[0.4444444444444444,\"#bd3786\"],[0.5555555555555556,\"#d8576b\"],[0.6666666666666666,\"#ed7953\"],[0.7777777777777778,\"#fb9f3a\"],[0.8888888888888888,\"#fdca26\"],[1.0,\"#f0f921\"]],\"type\":\"heatmapgl\"}],\"histogram\":[{\"marker\":{\"pattern\":{\"fillmode\":\"overlay\",\"size\":10,\"solidity\":0.2}},\"type\":\"histogram\"}],\"histogram2d\":[{\"colorbar\":{\"outlinewidth\":0,\"ticks\":\"\"},\"colorscale\":[[0.0,\"#0d0887\"],[0.1111111111111111,\"#46039f\"],[0.2222222222222222,\"#7201a8\"],[0.3333333333333333,\"#9c179e\"],[0.4444444444444444,\"#bd3786\"],[0.5555555555555556,\"#d8576b\"],[0.6666666666666666,\"#ed7953\"],[0.7777777777777778,\"#fb9f3a\"],[0.8888888888888888,\"#fdca26\"],[1.0,\"#f0f921\"]],\"type\":\"histogram2d\"}],\"histogram2dcontour\":[{\"colorbar\":{\"outlinewidth\":0,\"ticks\":\"\"},\"colorscale\":[[0.0,\"#0d0887\"],[0.1111111111111111,\"#46039f\"],[0.2222222222222222,\"#7201a8\"],[0.3333333333333333,\"#9c179e\"],[0.4444444444444444,\"#bd3786\"],[0.5555555555555556,\"#d8576b\"],[0.6666666666666666,\"#ed7953\"],[0.7777777777777778,\"#fb9f3a\"],[0.8888888888888888,\"#fdca26\"],[1.0,\"#f0f921\"]],\"type\":\"histogram2dcontour\"}],\"mesh3d\":[{\"colorbar\":{\"outlinewidth\":0,\"ticks\":\"\"},\"type\":\"mesh3d\"}],\"parcoords\":[{\"line\":{\"colorbar\":{\"outlinewidth\":0,\"ticks\":\"\"}},\"type\":\"parcoords\"}],\"pie\":[{\"automargin\":true,\"type\":\"pie\"}],\"scatter\":[{\"marker\":{\"colorbar\":{\"outlinewidth\":0,\"ticks\":\"\"}},\"type\":\"scatter\"}],\"scatter3d\":[{\"line\":{\"colorbar\":{\"outlinewidth\":0,\"ticks\":\"\"}},\"marker\":{\"colorbar\":{\"outlinewidth\":0,\"ticks\":\"\"}},\"type\":\"scatter3d\"}],\"scattercarpet\":[{\"marker\":{\"colorbar\":{\"outlinewidth\":0,\"ticks\":\"\"}},\"type\":\"scattercarpet\"}],\"scattergeo\":[{\"marker\":{\"colorbar\":{\"outlinewidth\":0,\"ticks\":\"\"}},\"type\":\"scattergeo\"}],\"scattergl\":[{\"marker\":{\"colorbar\":{\"outlinewidth\":0,\"ticks\":\"\"}},\"type\":\"scattergl\"}],\"scattermapbox\":[{\"marker\":{\"colorbar\":{\"outlinewidth\":0,\"ticks\":\"\"}},\"type\":\"scattermapbox\"}],\"scatterpolar\":[{\"marker\":{\"colorbar\":{\"outlinewidth\":0,\"ticks\":\"\"}},\"type\":\"scatterpolar\"}],\"scatterpolargl\":[{\"marker\":{\"colorbar\":{\"outlinewidth\":0,\"ticks\":\"\"}},\"type\":\"scatterpolargl\"}],\"scatterternary\":[{\"marker\":{\"colorbar\":{\"outlinewidth\":0,\"ticks\":\"\"}},\"type\":\"scatterternary\"}],\"surface\":[{\"colorbar\":{\"outlinewidth\":0,\"ticks\":\"\"},\"colorscale\":[[0.0,\"#0d0887\"],[0.1111111111111111,\"#46039f\"],[0.2222222222222222,\"#7201a8\"],[0.3333333333333333,\"#9c179e\"],[0.4444444444444444,\"#bd3786\"],[0.5555555555555556,\"#d8576b\"],[0.6666666666666666,\"#ed7953\"],[0.7777777777777778,\"#fb9f3a\"],[0.8888888888888888,\"#fdca26\"],[1.0,\"#f0f921\"]],\"type\":\"surface\"}],\"table\":[{\"cells\":{\"fill\":{\"color\":\"#EBF0F8\"},\"line\":{\"color\":\"white\"}},\"header\":{\"fill\":{\"color\":\"#C8D4E3\"},\"line\":{\"color\":\"white\"}},\"type\":\"table\"}]},\"layout\":{\"annotationdefaults\":{\"arrowcolor\":\"#2a3f5f\",\"arrowhead\":0,\"arrowwidth\":1},\"autotypenumbers\":\"strict\",\"coloraxis\":{\"colorbar\":{\"outlinewidth\":0,\"ticks\":\"\"}},\"colorscale\":{\"diverging\":[[0,\"#8e0152\"],[0.1,\"#c51b7d\"],[0.2,\"#de77ae\"],[0.3,\"#f1b6da\"],[0.4,\"#fde0ef\"],[0.5,\"#f7f7f7\"],[0.6,\"#e6f5d0\"],[0.7,\"#b8e186\"],[0.8,\"#7fbc41\"],[0.9,\"#4d9221\"],[1,\"#276419\"]],\"sequential\":[[0.0,\"#0d0887\"],[0.1111111111111111,\"#46039f\"],[0.2222222222222222,\"#7201a8\"],[0.3333333333333333,\"#9c179e\"],[0.4444444444444444,\"#bd3786\"],[0.5555555555555556,\"#d8576b\"],[0.6666666666666666,\"#ed7953\"],[0.7777777777777778,\"#fb9f3a\"],[0.8888888888888888,\"#fdca26\"],[1.0,\"#f0f921\"]],\"sequentialminus\":[[0.0,\"#0d0887\"],[0.1111111111111111,\"#46039f\"],[0.2222222222222222,\"#7201a8\"],[0.3333333333333333,\"#9c179e\"],[0.4444444444444444,\"#bd3786\"],[0.5555555555555556,\"#d8576b\"],[0.6666666666666666,\"#ed7953\"],[0.7777777777777778,\"#fb9f3a\"],[0.8888888888888888,\"#fdca26\"],[1.0,\"#f0f921\"]]},\"colorway\":[\"#636efa\",\"#EF553B\",\"#00cc96\",\"#ab63fa\",\"#FFA15A\",\"#19d3f3\",\"#FF6692\",\"#B6E880\",\"#FF97FF\",\"#FECB52\"],\"font\":{\"color\":\"#2a3f5f\"},\"geo\":{\"bgcolor\":\"white\",\"lakecolor\":\"white\",\"landcolor\":\"#E5ECF6\",\"showlakes\":true,\"showland\":true,\"subunitcolor\":\"white\"},\"hoverlabel\":{\"align\":\"left\"},\"hovermode\":\"closest\",\"mapbox\":{\"style\":\"light\"},\"paper_bgcolor\":\"white\",\"plot_bgcolor\":\"#E5ECF6\",\"polar\":{\"angularaxis\":{\"gridcolor\":\"white\",\"linecolor\":\"white\",\"ticks\":\"\"},\"bgcolor\":\"#E5ECF6\",\"radialaxis\":{\"gridcolor\":\"white\",\"linecolor\":\"white\",\"ticks\":\"\"}},\"scene\":{\"xaxis\":{\"backgroundcolor\":\"#E5ECF6\",\"gridcolor\":\"white\",\"gridwidth\":2,\"linecolor\":\"white\",\"showbackground\":true,\"ticks\":\"\",\"zerolinecolor\":\"white\"},\"yaxis\":{\"backgroundcolor\":\"#E5ECF6\",\"gridcolor\":\"white\",\"gridwidth\":2,\"linecolor\":\"white\",\"showbackground\":true,\"ticks\":\"\",\"zerolinecolor\":\"white\"},\"zaxis\":{\"backgroundcolor\":\"#E5ECF6\",\"gridcolor\":\"white\",\"gridwidth\":2,\"linecolor\":\"white\",\"showbackground\":true,\"ticks\":\"\",\"zerolinecolor\":\"white\"}},\"shapedefaults\":{\"line\":{\"color\":\"#2a3f5f\"}},\"ternary\":{\"aaxis\":{\"gridcolor\":\"white\",\"linecolor\":\"white\",\"ticks\":\"\"},\"baxis\":{\"gridcolor\":\"white\",\"linecolor\":\"white\",\"ticks\":\"\"},\"bgcolor\":\"#E5ECF6\",\"caxis\":{\"gridcolor\":\"white\",\"linecolor\":\"white\",\"ticks\":\"\"}},\"title\":{\"x\":0.05},\"xaxis\":{\"automargin\":true,\"gridcolor\":\"white\",\"linecolor\":\"white\",\"ticks\":\"\",\"title\":{\"standoff\":15},\"zerolinecolor\":\"white\",\"zerolinewidth\":2},\"yaxis\":{\"automargin\":true,\"gridcolor\":\"white\",\"linecolor\":\"white\",\"ticks\":\"\",\"title\":{\"standoff\":15},\"zerolinecolor\":\"white\",\"zerolinewidth\":2}}},\"xaxis\":{\"anchor\":\"y\",\"domain\":[0.0,1.0],\"title\":{\"text\":\"Brand\"},\"categoryorder\":\"array\",\"categoryarray\":[\"Tesla \",\"Volkswagen \",\"Polestar \",\"BMW \",\"Honda \",\"Lucid \",\"Peugeot \",\"Audi \",\"Mercedes \",\"Nissan \",\"Hyundai \",\"Porsche \",\"MG \",\"Mini \",\"Opel \",\"Skoda \",\"Volvo \",\"Kia \",\"Renault \",\"Mazda \",\"Lexus \",\"CUPRA \",\"SEAT \",\"Lightyear \",\"Aiways \",\"DS \",\"Citroen \",\"Jaguar \",\"Ford \",\"Byton \",\"Sono \",\"Smart \",\"Fiat \"]},\"yaxis\":{\"anchor\":\"x\",\"domain\":[0.0,1.0],\"title\":{\"text\":\"Accel\"}},\"legend\":{\"title\":{\"text\":\"Brand\"},\"tracegroupgap\":0},\"title\":{\"text\":\"Which car has fastest accelaration?\"},\"barmode\":\"relative\"},                        {\"responsive\": true}                    ).then(function(){\n",
       "                            \n",
       "var gd = document.getElementById('d647876d-f69c-4338-9ef8-c9a0c12fcc2d');\n",
       "var x = new MutationObserver(function (mutations, observer) {{\n",
       "        var display = window.getComputedStyle(gd).display;\n",
       "        if (!display || display === 'none') {{\n",
       "            console.log([gd, 'removed!']);\n",
       "            Plotly.purge(gd);\n",
       "            observer.disconnect();\n",
       "        }}\n",
       "}});\n",
       "\n",
       "// Listen for the removal of the full notebook cells\n",
       "var notebookContainer = gd.closest('#notebook-container');\n",
       "if (notebookContainer) {{\n",
       "    x.observe(notebookContainer, {childList: true});\n",
       "}}\n",
       "\n",
       "// Listen for the clearing of the current output cell\n",
       "var outputEl = gd.closest('.output');\n",
       "if (outputEl) {{\n",
       "    x.observe(outputEl, {childList: true});\n",
       "}}\n",
       "\n",
       "                        })                };                });            </script>        </div>"
      ]
     },
     "metadata": {},
     "output_type": "display_data"
    }
   ],
   "source": [
    "fig = px.bar(df,y='Accel',x = 'Brand',color = 'Brand',title = 'Which car has fastest accelaration?',labels = {'x':'Accelaration','y':'Car Brands'})\n",
    "pio.show(fig)\n",
    "     "
   ]
  },
  {
   "cell_type": "code",
   "execution_count": 24,
   "id": "57797ee9",
   "metadata": {},
   "outputs": [
    {
     "data": {
      "text/plain": [
       "<seaborn.axisgrid.PairGrid at 0x29a6cd3fa00>"
      ]
     },
     "execution_count": 24,
     "metadata": {},
     "output_type": "execute_result"
    },
    {
     "data": {
      "image/png": "[encoded data removed]",
      "text/plain": [
       "<Figure size 714.75x540 with 12 Axes>"
      ]
     },
     "metadata": {
      "needs_background": "light"
     },
     "output_type": "display_data"
    }
   ],
   "source": [
    "sb.pairplot(df,hue='RapidCharge')\n"
   ]
  },
  {
   "cell_type": "code",
   "execution_count": 29,
   "id": "4a66b7df",
   "metadata": {},
   "outputs": [
    {
     "data": {
      "application/vnd.plotly.v1+json": {
       "config": {
        "plotlyServerURL": "https://plot.ly"
       },
       "data": [
        {
         "customdata": [
          [
           "Rapid charging possible",
           4615.936
          ],
          [
           "Rapid charging possible",
           3858.816
          ],
          [
           "Rapid charging possible",
           4877.184
          ],
          [
           "Rapid charging possible",
           5115.1359999999995
          ],
          [
           "Rapid charging possible",
           6240
          ],
          [
           "Rapid charging possible",
           6655.168
          ],
          [
           "Rapid charging possible",
           17888
          ],
          [
           "Rapid charging possible",
           7154.3679999999995
          ],
          [
           "Rapid charging possible",
           8069.567999999999
          ],
          [
           "Rapid charging possible",
           5459.584
          ],
          [
           "Rapid charging possible",
           4576
          ],
          [
           "Rapid charging possible",
           8568.768
          ],
          [
           "Rapid charging possible",
           3744
          ]
         ],
         "hovertemplate": "Brand=%{x}<br>Range=%{y}<br>Seats=%{marker.size}<br>RapidCharge=%{customdata[0]}<br>inr(10e3)=%{customdata[1]}<extra></extra>",
         "legendgroup": "Tesla ",
         "marker": {
          "color": "#636efa",
          "size": [
           5,
           5,
           7,
           5,
           6,
           5,
           4,
           7,
           5,
           7,
           6,
           7,
           6
          ],
          "sizemode": "area",
          "sizeref": 0.0175,
          "symbol": "circle"
         },
         "mode": "markers",
         "name": "Tesla ",
         "orientation": "v",
         "showlegend": true,
         "type": "scatter",
         "x": [
          "Tesla ",
          "Tesla ",
          "Tesla ",
          "Tesla ",
          "Tesla ",
          "Tesla ",
          "Tesla ",
          "Tesla ",
          "Tesla ",
          "Tesla ",
          "Tesla ",
          "Tesla ",
          "Tesla "
         ],
         "xaxis": "x",
         "y": [
          "450 km",
          "310 km",
          "425 km",
          "435 km",
          "750 km",
          "515 km",
          "970 km",
          "450 km",
          "505 km",
          "410 km",
          "460 km",
          "440 km",
          "390 km"
         ],
         "yaxis": "y"
        },
        {
         "customdata": [
          [
           "Rapid charging possible",
           2496
          ],
          [
           "Rapid charging possible",
           2654.08
          ],
          [
           "Rapid charging possible",
           3405.8752
          ],
          [
           "Rapid charging possible",
           1782.2271999999998
          ],
          [
           "Rapid charging possible",
           3744
          ],
          [
           "Rapid charging possible",
           2745.6
          ],
          [
           "Rapid charging possible",
           3243.7183999999997
          ],
          [
           "Rapid charging possible",
           2959.8399999999997
          ]
         ],
         "hovertemplate": "Brand=%{x}<br>Range=%{y}<br>Seats=%{marker.size}<br>RapidCharge=%{customdata[0]}<br>inr(10e3)=%{customdata[1]}<extra></extra>",
         "legendgroup": "Volkswagen ",
         "marker": {
          "color": "#EF553B",
          "size": [
           5,
           5,
           4,
           4,
           5,
           5,
           5,
           5
          ],
          "sizemode": "area",
          "sizeref": 0.0175,
          "symbol": "circle"
         },
         "mode": "markers",
         "name": "Volkswagen ",
         "orientation": "v",
         "showlegend": true,
         "type": "scatter",
         "x": [
          "Volkswagen ",
          "Volkswagen ",
          "Volkswagen ",
          "Volkswagen ",
          "Volkswagen ",
          "Volkswagen ",
          "Volkswagen ",
          "Volkswagen "
         ],
         "xaxis": "x",
         "y": [
          "270 km",
          "190 km",
          "440 km",
          "195 km",
          "420 km",
          "350 km",
          "340 km",
          "340 km"
         ],
         "yaxis": "y"
        },
        {
         "customdata": [
          [
           "Rapid charging possible",
           4695.808
          ]
         ],
         "hovertemplate": "Brand=%{x}<br>Range=%{y}<br>Seats=%{marker.size}<br>RapidCharge=%{customdata[0]}<br>inr(10e3)=%{customdata[1]}<extra></extra>",
         "legendgroup": "Polestar ",
         "marker": {
          "color": "#00cc96",
          "size": [
           5
          ],
          "sizemode": "area",
          "sizeref": 0.0175,
          "symbol": "circle"
         },
         "mode": "markers",
         "name": "Polestar ",
         "orientation": "v",
         "showlegend": true,
         "type": "scatter",
         "x": [
          "Polestar "
         ],
         "xaxis": "x",
         "y": [
          "400 km"
         ],
         "yaxis": "y"
        },
        {
         "customdata": [
          [
           "Rapid charging possible",
           5660.928
          ],
          [
           "Rapid charging possible",
           5408
          ],
          [
           "Rapid charging possible",
           3163.0144
          ],
          [
           "Rapid charging possible",
           3454.9631999999997
          ]
         ],
         "hovertemplate": "Brand=%{x}<br>Range=%{y}<br>Seats=%{marker.size}<br>RapidCharge=%{customdata[0]}<br>inr(10e3)=%{customdata[1]}<extra></extra>",
         "legendgroup": "BMW ",
         "marker": {
          "color": "#ab63fa",
          "size": [
           5,
           5,
           4,
           4
          ],
          "sizemode": "area",
          "sizeref": 0.0175,
          "symbol": "circle"
         },
         "mode": "markers",
         "name": "BMW ",
         "orientation": "v",
         "showlegend": true,
         "type": "scatter",
         "x": [
          "BMW ",
          "BMW ",
          "BMW ",
          "BMW "
         ],
         "xaxis": "x",
         "y": [
          "360 km",
          "450 km",
          "235 km",
          "230 km"
         ],
         "yaxis": "y"
        },
        {
         "customdata": [
          [
           "Rapid charging possible",
           2745.3504
          ],
          [
           "Rapid charging possible",
           2988.6272
          ]
         ],
         "hovertemplate": "Brand=%{x}<br>Range=%{y}<br>Seats=%{marker.size}<br>RapidCharge=%{customdata[0]}<br>inr(10e3)=%{customdata[1]}<extra></extra>",
         "legendgroup": "Honda ",
         "marker": {
          "color": "#FFA15A",
          "size": [
           4,
           4
          ],
          "sizemode": "area",
          "sizeref": 0.0175,
          "symbol": "circle"
         },
         "mode": "markers",
         "name": "Honda ",
         "orientation": "v",
         "showlegend": true,
         "type": "scatter",
         "x": [
          "Honda ",
          "Honda "
         ],
         "xaxis": "x",
         "y": [
          "170 km",
          "170 km"
         ],
         "yaxis": "y"
        },
        {
         "customdata": [
          [
           "Rapid charging possible",
           8736
          ]
         ],
         "hovertemplate": "Brand=%{x}<br>Range=%{y}<br>Seats=%{marker.size}<br>RapidCharge=%{customdata[0]}<br>inr(10e3)=%{customdata[1]}<extra></extra>",
         "legendgroup": "Lucid ",
         "marker": {
          "color": "#19d3f3",
          "size": [
           5
          ],
          "sizemode": "area",
          "sizeref": 0.0175,
          "symbol": "circle"
         },
         "mode": "markers",
         "name": "Lucid ",
         "orientation": "v",
         "showlegend": true,
         "type": "scatter",
         "x": [
          "Lucid "
         ],
         "xaxis": "x",
         "y": [
          "610 km"
         ],
         "yaxis": "y"
        },
        {
         "customdata": [
          [
           "Rapid charging possible",
           2469.5424
          ],
          [
           "Rapid charging possible",
           2858.8352
          ]
         ],
         "hovertemplate": "Brand=%{x}<br>Range=%{y}<br>Seats=%{marker.size}<br>RapidCharge=%{customdata[0]}<br>inr(10e3)=%{customdata[1]}<extra></extra>",
         "legendgroup": "Peugeot ",
         "marker": {
          "color": "#FF6692",
          "size": [
           5,
           5
          ],
          "sizemode": "area",
          "sizeref": 0.0175,
          "symbol": "circle"
         },
         "mode": "markers",
         "name": "Peugeot ",
         "orientation": "v",
         "showlegend": true,
         "type": "scatter",
         "x": [
          "Peugeot ",
          "Peugeot "
         ],
         "xaxis": "x",
         "y": [
          "275 km",
          "250 km"
         ],
         "yaxis": "y"
        },
        {
         "customdata": [
          [
           "Rapid charging possible",
           4576
          ],
          [
           "Rapid charging possible",
           10400
          ],
          [
           "Rapid charging possible",
           5604.1856
          ],
          [
           "Rapid charging possible",
           6792.364799999999
          ],
          [
           "Rapid charging possible",
           6609.824
          ],
          [
           "Rapid charging possible",
           4784
          ],
          [
           "Rapid charging possible",
           5786.6431999999995
          ],
          [
           "Rapid charging possible",
           7804.16
          ],
          [
           "Rapid charging possible",
           7991.36
          ]
         ],
         "hovertemplate": "Brand=%{x}<br>Range=%{y}<br>Seats=%{marker.size}<br>RapidCharge=%{customdata[0]}<br>inr(10e3)=%{customdata[1]}<extra></extra>",
         "legendgroup": "Audi ",
         "marker": {
          "color": "#B6E880",
          "size": [
           5,
           4,
           5,
           5,
           5,
           5,
           5,
           5,
           5
          ],
          "sizemode": "area",
          "sizeref": 0.0175,
          "symbol": "circle"
         },
         "mode": "markers",
         "name": "Audi ",
         "orientation": "v",
         "showlegend": true,
         "type": "scatter",
         "x": [
          "Audi ",
          "Audi ",
          "Audi ",
          "Audi ",
          "Audi ",
          "Audi ",
          "Audi ",
          "Audi ",
          "Audi "
         ],
         "xaxis": "x",
         "y": [
          "400 km",
          "425 km",
          "280 km",
          "380 km",
          "365 km",
          "410 km",
          "295 km",
          "320 km",
          "335 km"
         ],
         "yaxis": "y"
        },
        {
         "customdata": [
          [
           "Rapid charging possible",
           5781.0688
          ],
          [
           "Rapid charging possible",
           3744
          ],
          [
           "Rapid charging possible",
           5876.499199999999
          ]
         ],
         "hovertemplate": "Brand=%{x}<br>Range=%{y}<br>Seats=%{marker.size}<br>RapidCharge=%{customdata[0]}<br>inr(10e3)=%{customdata[1]}<extra></extra>",
         "legendgroup": "Mercedes ",
         "marker": {
          "color": "#FF97FF",
          "size": [
           5,
           5,
           7
          ],
          "sizemode": "area",
          "sizeref": 0.0175,
          "symbol": "circle"
         },
         "mode": "markers",
         "name": "Mercedes ",
         "orientation": "v",
         "showlegend": true,
         "type": "scatter",
         "x": [
          "Mercedes ",
          "Mercedes ",
          "Mercedes "
         ],
         "xaxis": "x",
         "y": [
          "370 km",
          "350 km",
          "330 km"
         ],
         "yaxis": "y"
        },
        {
         "customdata": [
          [
           "Rapid charging possible",
           2432.2688
          ],
          [
           "Rapid charging possible",
           3098.1184
          ],
          [
           "Rapid charging possible",
           4160
          ],
          [
           "Rapid charging possible",
           2766.0672
          ],
          [
           "Rapid charging possible",
           4784
          ],
          [
           "Rapid charging possible",
           3744
          ],
          [
           "Rapid charging possible",
           4160
          ],
          [
           "Rapid charging possible",
           5408
          ]
         ],
         "hovertemplate": "Brand=%{x}<br>Range=%{y}<br>Seats=%{marker.size}<br>RapidCharge=%{customdata[0]}<br>inr(10e3)=%{customdata[1]}<extra></extra>",
         "legendgroup": "Nissan ",
         "marker": {
          "color": "#FECB52",
          "size": [
           5,
           5,
           5,
           7,
           5,
           5,
           5,
           5
          ],
          "sizemode": "area",
          "sizeref": 0.0175,
          "symbol": "circle"
         },
         "mode": "markers",
         "name": "Nissan ",
         "orientation": "v",
         "showlegend": true,
         "type": "scatter",
         "x": [
          "Nissan ",
          "Nissan ",
          "Nissan ",
          "Nissan ",
          "Nissan ",
          "Nissan ",
          "Nissan ",
          "Nissan "
         ],
         "xaxis": "x",
         "y": [
          "220 km",
          "325 km",
          "440 km",
          "190 km",
          "420 km",
          "330 km",
          "325 km",
          "375 km"
         ],
         "yaxis": "y"
        },
        {
         "customdata": [
          [
           "Rapid charging possible",
           3394.144
          ],
          [
           "Rapid charging possible",
           2866.9888
          ],
          [
           "Rapid charging possible",
           2826.3871999999997
          ]
         ],
         "hovertemplate": "Brand=%{x}<br>Range=%{y}<br>Seats=%{marker.size}<br>RapidCharge=%{customdata[0]}<br>inr(10e3)=%{customdata[1]}<extra></extra>",
         "legendgroup": "Hyundai ",
         "marker": {
          "color": "#636efa",
          "size": [
           5,
           5,
           5
          ],
          "sizemode": "area",
          "sizeref": 0.0175,
          "symbol": "circle"
         },
         "mode": "markers",
         "name": "Hyundai ",
         "orientation": "v",
         "showlegend": true,
         "type": "scatter",
         "x": [
          "Hyundai ",
          "Hyundai ",
          "Hyundai "
         ],
         "xaxis": "x",
         "y": [
          "400 km",
          "250 km",
          "255 km"
         ],
         "yaxis": "y"
        },
        {
         "customdata": [
          [
           "Rapid charging possible",
           15040.9792
          ],
          [
           "Rapid charging possible",
           8565.024
          ],
          [
           "Rapid charging possible",
           9093.9264
          ],
          [
           "Rapid charging possible",
           12480
          ],
          [
           "Rapid charging possible",
           12338.643199999999
          ]
         ],
         "hovertemplate": "Brand=%{x}<br>Range=%{y}<br>Seats=%{marker.size}<br>RapidCharge=%{customdata[0]}<br>inr(10e3)=%{customdata[1]}<extra></extra>",
         "legendgroup": "Porsche ",
         "marker": {
          "color": "#EF553B",
          "size": [
           4,
           4,
           4,
           4,
           4
          ],
          "sizemode": "area",
          "sizeref": 0.0175,
          "symbol": "circle"
         },
         "mode": "markers",
         "name": "Porsche ",
         "orientation": "v",
         "showlegend": true,
         "type": "scatter",
         "x": [
          "Porsche ",
          "Porsche ",
          "Porsche ",
          "Porsche ",
          "Porsche "
         ],
         "xaxis": "x",
         "y": [
          "375 km",
          "365 km",
          "425 km",
          "385 km",
          "390 km"
         ],
         "yaxis": "y"
        },
        {
         "customdata": [
          [
           "Rapid charging possible",
           2496
          ]
         ],
         "hovertemplate": "Brand=%{x}<br>Range=%{y}<br>Seats=%{marker.size}<br>RapidCharge=%{customdata[0]}<br>inr(10e3)=%{customdata[1]}<extra></extra>",
         "legendgroup": "MG ",
         "marker": {
          "color": "#00cc96",
          "size": [
           5
          ],
          "sizemode": "area",
          "sizeref": 0.0175,
          "symbol": "circle"
         },
         "mode": "markers",
         "name": "MG ",
         "orientation": "v",
         "showlegend": true,
         "type": "scatter",
         "x": [
          "MG "
         ],
         "xaxis": "x",
         "y": [
          "220 km"
         ],
         "yaxis": "y"
        },
        {
         "customdata": [
          [
           "Rapid charging possible",
           2635.8592
          ]
         ],
         "hovertemplate": "Brand=%{x}<br>Range=%{y}<br>Seats=%{marker.size}<br>RapidCharge=%{customdata[0]}<br>inr(10e3)=%{customdata[1]}<extra></extra>",
         "legendgroup": "Mini ",
         "marker": {
          "color": "#ab63fa",
          "size": [
           4
          ],
          "sizemode": "area",
          "sizeref": 0.0175,
          "symbol": "circle"
         },
         "mode": "markers",
         "name": "Mini ",
         "orientation": "v",
         "showlegend": true,
         "type": "scatter",
         "x": [
          "Mini "
         ],
         "xaxis": "x",
         "y": [
          "185 km"
         ],
         "yaxis": "y"
        },
        {
         "customdata": [
          [
           "Rapid charging possible",
           2424.9472
          ],
          [
           "Rapid charging possible",
           3486.5791999999997
          ],
          [
           "Rapid charging possible",
           2912
          ]
         ],
         "hovertemplate": "Brand=%{x}<br>Range=%{y}<br>Seats=%{marker.size}<br>RapidCharge=%{customdata[0]}<br>inr(10e3)=%{customdata[1]}<extra></extra>",
         "legendgroup": "Opel ",
         "marker": {
          "color": "#FFA15A",
          "size": [
           5,
           5,
           5
          ],
          "sizemode": "area",
          "sizeref": 0.0175,
          "symbol": "circle"
         },
         "mode": "markers",
         "name": "Opel ",
         "orientation": "v",
         "showlegend": true,
         "type": "scatter",
         "x": [
          "Opel ",
          "Opel ",
          "Opel "
         ],
         "xaxis": "x",
         "y": [
          "275 km",
          "335 km",
          "255 km"
         ],
         "yaxis": "y"
        },
        {
         "customdata": [
          [
           "Rapid charging possible",
           2912
          ],
          [
           "Rapid charging possible",
           2041.2287999999999
          ],
          [
           "Rapid charging possible",
           3328
          ],
          [
           "Rapid charging possible",
           3744
          ],
          [
           "Rapid charging possible",
           3952
          ],
          [
           "Rapid charging possible",
           3120
          ]
         ],
         "hovertemplate": "Brand=%{x}<br>Range=%{y}<br>Seats=%{marker.size}<br>RapidCharge=%{customdata[0]}<br>inr(10e3)=%{customdata[1]}<extra></extra>",
         "legendgroup": "Skoda ",
         "marker": {
          "color": "#19d3f3",
          "size": [
           5,
           4,
           5,
           5,
           5,
           5
          ],
          "sizemode": "area",
          "sizeref": 0.0175,
          "symbol": "circle"
         },
         "mode": "markers",
         "name": "Skoda ",
         "orientation": "v",
         "showlegend": true,
         "type": "scatter",
         "x": [
          "Skoda ",
          "Skoda ",
          "Skoda ",
          "Skoda ",
          "Skoda ",
          "Skoda "
         ],
         "xaxis": "x",
         "y": [
          "290 km",
          "195 km",
          "420 km",
          "400 km",
          "400 km",
          "320 km"
         ],
         "yaxis": "y"
        },
        {
         "customdata": [
          [
           "Rapid charging possible",
           5028.3584
          ]
         ],
         "hovertemplate": "Brand=%{x}<br>Range=%{y}<br>Seats=%{marker.size}<br>RapidCharge=%{customdata[0]}<br>inr(10e3)=%{customdata[1]}<extra></extra>",
         "legendgroup": "Volvo ",
         "marker": {
          "color": "#FF6692",
          "size": [
           5
          ],
          "sizemode": "area",
          "sizeref": 0.0175,
          "symbol": "circle"
         },
         "mode": "markers",
         "name": "Volvo ",
         "orientation": "v",
         "showlegend": true,
         "type": "scatter",
         "x": [
          "Volvo "
         ],
         "xaxis": "x",
         "y": [
          "375 km"
         ],
         "yaxis": "y"
        },
        {
         "customdata": [
          [
           "Rapid charging possible",
           3170.336
          ],
          [
           "Rapid charging possible",
           3064.8383999999996
          ],
          [
           "Rapid charging possible",
           2862.08
          ],
          [
           "Rapid charging possible",
           3064.8383999999996
          ],
          [
           "Rapid charging possible",
           2756.6656
          ]
         ],
         "hovertemplate": "Brand=%{x}<br>Range=%{y}<br>Seats=%{marker.size}<br>RapidCharge=%{customdata[0]}<br>inr(10e3)=%{customdata[1]}<extra></extra>",
         "legendgroup": "Kia ",
         "marker": {
          "color": "#B6E880",
          "size": [
           5,
           5,
           5,
           5,
           5
          ],
          "sizemode": "area",
          "sizeref": 0.0175,
          "symbol": "circle"
         },
         "mode": "markers",
         "name": "Kia ",
         "orientation": "v",
         "showlegend": true,
         "type": "scatter",
         "x": [
          "Kia ",
          "Kia ",
          "Kia ",
          "Kia ",
          "Kia "
         ],
         "xaxis": "x",
         "y": [
          "370 km",
          "365 km",
          "235 km",
          "365 km",
          "230 km"
         ],
         "yaxis": "y"
        },
        {
         "customdata": [
          [
           "Rapid charging possible",
           2594.5088
          ],
          [
           "Rapid charging possible",
           2756.6656
          ],
          [
           "Rapid charging not possible",
           2062.528
          ],
          [
           "Rapid charging possible",
           2432.2688
          ],
          [
           "Rapid charging not possible",
           3161.6
          ]
         ],
         "hovertemplate": "Brand=%{x}<br>Range=%{y}<br>Seats=%{marker.size}<br>RapidCharge=%{customdata[0]}<br>inr(10e3)=%{customdata[1]}<extra></extra>",
         "legendgroup": "Renault ",
         "marker": {
          "color": "#FF97FF",
          "size": [
           5,
           5,
           4,
           5,
           5
          ],
          "sizemode": "area",
          "sizeref": 0.0175,
          "symbol": "circle"
         },
         "mode": "markers",
         "name": "Renault ",
         "orientation": "v",
         "showlegend": true,
         "type": "scatter",
         "x": [
          "Renault ",
          "Renault ",
          "Renault ",
          "Renault ",
          "Renault "
         ],
         "xaxis": "x",
         "y": [
          "315 km",
          "310 km",
          "130 km",
          "255 km",
          "160 km"
         ],
         "yaxis": "y"
        },
        {
         "customdata": [
          [
           "Rapid charging possible",
           2716.1472
          ]
         ],
         "hovertemplate": "Brand=%{x}<br>Range=%{y}<br>Seats=%{marker.size}<br>RapidCharge=%{customdata[0]}<br>inr(10e3)=%{customdata[1]}<extra></extra>",
         "legendgroup": "Mazda ",
         "marker": {
          "color": "#FECB52",
          "size": [
           5
          ],
          "sizemode": "area",
          "sizeref": 0.0175,
          "symbol": "circle"
         },
         "mode": "markers",
         "name": "Mazda ",
         "orientation": "v",
         "showlegend": true,
         "type": "scatter",
         "x": [
          "Mazda "
         ],
         "xaxis": "x",
         "y": [
          "180 km"
         ],
         "yaxis": "y"
        },
        {
         "customdata": [
          [
           "Rapid charging possible",
           4160
          ]
         ],
         "hovertemplate": "Brand=%{x}<br>Range=%{y}<br>Seats=%{marker.size}<br>RapidCharge=%{customdata[0]}<br>inr(10e3)=%{customdata[1]}<extra></extra>",
         "legendgroup": "Lexus ",
         "marker": {
          "color": "#636efa",
          "size": [
           5
          ],
          "sizemode": "area",
          "sizeref": 0.0175,
          "symbol": "circle"
         },
         "mode": "markers",
         "name": "Lexus ",
         "orientation": "v",
         "showlegend": true,
         "type": "scatter",
         "x": [
          "Lexus "
         ],
         "xaxis": "x",
         "y": [
          "270 km"
         ],
         "yaxis": "y"
        },
        {
         "customdata": [
          [
           "Rapid charging possible",
           3744
          ]
         ],
         "hovertemplate": "Brand=%{x}<br>Range=%{y}<br>Seats=%{marker.size}<br>RapidCharge=%{customdata[0]}<br>inr(10e3)=%{customdata[1]}<extra></extra>",
         "legendgroup": "CUPRA ",
         "marker": {
          "color": "#EF553B",
          "size": [
           4
          ],
          "sizemode": "area",
          "sizeref": 0.0175,
          "symbol": "circle"
         },
         "mode": "markers",
         "name": "CUPRA ",
         "orientation": "v",
         "showlegend": true,
         "type": "scatter",
         "x": [
          "CUPRA "
         ],
         "xaxis": "x",
         "y": [
          "425 km"
         ],
         "yaxis": "y"
        },
        {
         "customdata": [
          [
           "Rapid charging possible",
           1674.7328
          ]
         ],
         "hovertemplate": "Brand=%{x}<br>Range=%{y}<br>Seats=%{marker.size}<br>RapidCharge=%{customdata[0]}<br>inr(10e3)=%{customdata[1]}<extra></extra>",
         "legendgroup": "SEAT ",
         "marker": {
          "color": "#00cc96",
          "size": [
           4
          ],
          "sizemode": "area",
          "sizeref": 0.0175,
          "symbol": "circle"
         },
         "mode": "markers",
         "name": "SEAT ",
         "orientation": "v",
         "showlegend": true,
         "type": "scatter",
         "x": [
          "SEAT "
         ],
         "xaxis": "x",
         "y": [
          "195 km"
         ],
         "yaxis": "y"
        },
        {
         "customdata": [
          [
           "Rapid charging possible",
           12396.8
          ]
         ],
         "hovertemplate": "Brand=%{x}<br>Range=%{y}<br>Seats=%{marker.size}<br>RapidCharge=%{customdata[0]}<br>inr(10e3)=%{customdata[1]}<extra></extra>",
         "legendgroup": "Lightyear ",
         "marker": {
          "color": "#ab63fa",
          "size": [
           5
          ],
          "sizemode": "area",
          "sizeref": 0.0175,
          "symbol": "circle"
         },
         "mode": "markers",
         "name": "Lightyear ",
         "orientation": "v",
         "showlegend": true,
         "type": "scatter",
         "x": [
          "Lightyear "
         ],
         "xaxis": "x",
         "y": [
          "575 km"
         ],
         "yaxis": "y"
        },
        {
         "customdata": [
          [
           "Rapid charging possible",
           2999.9424
          ]
         ],
         "hovertemplate": "Brand=%{x}<br>Range=%{y}<br>Seats=%{marker.size}<br>RapidCharge=%{customdata[0]}<br>inr(10e3)=%{customdata[1]}<extra></extra>",
         "legendgroup": "Aiways ",
         "marker": {
          "color": "#FFA15A",
          "size": [
           5
          ],
          "sizemode": "area",
          "sizeref": 0.0175,
          "symbol": "circle"
         },
         "mode": "markers",
         "name": "Aiways ",
         "orientation": "v",
         "showlegend": true,
         "type": "scatter",
         "x": [
          "Aiways "
         ],
         "xaxis": "x",
         "y": [
          "335 km"
         ],
         "yaxis": "y"
        },
        {
         "customdata": [
          [
           "Rapid charging possible",
           3113.5103999999997
          ]
         ],
         "hovertemplate": "Brand=%{x}<br>Range=%{y}<br>Seats=%{marker.size}<br>RapidCharge=%{customdata[0]}<br>inr(10e3)=%{customdata[1]}<extra></extra>",
         "legendgroup": "DS ",
         "marker": {
          "color": "#19d3f3",
          "size": [
           5
          ],
          "sizemode": "area",
          "sizeref": 0.0175,
          "symbol": "circle"
         },
         "mode": "markers",
         "name": "DS ",
         "orientation": "v",
         "showlegend": true,
         "type": "scatter",
         "x": [
          "DS "
         ],
         "xaxis": "x",
         "y": [
          "250 km"
         ],
         "yaxis": "y"
        },
        {
         "customdata": [
          [
           "Rapid charging possible",
           3328
          ]
         ],
         "hovertemplate": "Brand=%{x}<br>Range=%{y}<br>Seats=%{marker.size}<br>RapidCharge=%{customdata[0]}<br>inr(10e3)=%{customdata[1]}<extra></extra>",
         "legendgroup": "Citroen ",
         "marker": {
          "color": "#FF6692",
          "size": [
           5
          ],
          "sizemode": "area",
          "sizeref": 0.0175,
          "symbol": "circle"
         },
         "mode": "markers",
         "name": "Citroen ",
         "orientation": "v",
         "showlegend": true,
         "type": "scatter",
         "x": [
          "Citroen "
         ],
         "xaxis": "x",
         "y": [
          "250 km"
         ],
         "yaxis": "y"
        },
        {
         "customdata": [
          [
           "Rapid charging possible",
           6269.2032
          ]
         ],
         "hovertemplate": "Brand=%{x}<br>Range=%{y}<br>Seats=%{marker.size}<br>RapidCharge=%{customdata[0]}<br>inr(10e3)=%{customdata[1]}<extra></extra>",
         "legendgroup": "Jaguar ",
         "marker": {
          "color": "#B6E880",
          "size": [
           5
          ],
          "sizemode": "area",
          "sizeref": 0.0175,
          "symbol": "circle"
         },
         "mode": "markers",
         "name": "Jaguar ",
         "orientation": "v",
         "showlegend": true,
         "type": "scatter",
         "x": [
          "Jaguar "
         ],
         "xaxis": "x",
         "y": [
          "365 km"
         ],
         "yaxis": "y"
        },
        {
         "customdata": [
          [
           "Rapid charging possible",
           4532.32
          ],
          [
           "Rapid charging possible",
           5233.28
          ],
          [
           "Rapid charging possible",
           4492.8
          ],
          [
           "Rapid charging possible",
           3902.08
          ]
         ],
         "hovertemplate": "Brand=%{x}<br>Range=%{y}<br>Seats=%{marker.size}<br>RapidCharge=%{customdata[0]}<br>inr(10e3)=%{customdata[1]}<extra></extra>",
         "legendgroup": "Ford ",
         "marker": {
          "color": "#FF97FF",
          "size": [
           5,
           5,
           5,
           5
          ],
          "sizemode": "area",
          "sizeref": 0.0175,
          "symbol": "circle"
         },
         "mode": "markers",
         "name": "Ford ",
         "orientation": "v",
         "showlegend": true,
         "type": "scatter",
         "x": [
          "Ford ",
          "Ford ",
          "Ford ",
          "Ford "
         ],
         "xaxis": "x",
         "y": [
          "450 km",
          "430 km",
          "340 km",
          "360 km"
         ],
         "yaxis": "y"
        },
        {
         "customdata": [
          [
           "Rapid charging possible",
           5324.8
          ],
          [
           "Rapid charging possible",
           4451.2
          ],
          [
           "Rapid charging possible",
           5158.4
          ]
         ],
         "hovertemplate": "Brand=%{x}<br>Range=%{y}<br>Seats=%{marker.size}<br>RapidCharge=%{customdata[0]}<br>inr(10e3)=%{customdata[1]}<extra></extra>",
         "legendgroup": "Byton ",
         "marker": {
          "color": "#FECB52",
          "size": [
           5,
           5,
           5
          ],
          "sizemode": "area",
          "sizeref": 0.0175,
          "symbol": "circle"
         },
         "mode": "markers",
         "name": "Byton ",
         "orientation": "v",
         "showlegend": true,
         "type": "scatter",
         "x": [
          "Byton ",
          "Byton ",
          "Byton "
         ],
         "xaxis": "x",
         "y": [
          "390 km",
          "325 km",
          "400 km"
         ],
         "yaxis": "y"
        },
        {
         "customdata": [
          [
           "Rapid charging possible",
           2121.6
          ]
         ],
         "hovertemplate": "Brand=%{x}<br>Range=%{y}<br>Seats=%{marker.size}<br>RapidCharge=%{customdata[0]}<br>inr(10e3)=%{customdata[1]}<extra></extra>",
         "legendgroup": "Sono ",
         "marker": {
          "color": "#636efa",
          "size": [
           5
          ],
          "sizemode": "area",
          "sizeref": 0.0175,
          "symbol": "circle"
         },
         "mode": "markers",
         "name": "Sono ",
         "orientation": "v",
         "showlegend": true,
         "type": "scatter",
         "x": [
          "Sono "
         ],
         "xaxis": "x",
         "y": [
          "225 km"
         ],
         "yaxis": "y"
        },
        {
         "customdata": [
          [
           "Rapid charging not possible",
           1832.896
          ],
          [
           "Rapid charging not possible",
           1779.3983999999998
          ],
          [
           "Rapid charging not possible",
           2043.808
          ]
         ],
         "hovertemplate": "Brand=%{x}<br>Range=%{y}<br>Seats=%{marker.size}<br>RapidCharge=%{customdata[0]}<br>inr(10e3)=%{customdata[1]}<extra></extra>",
         "legendgroup": "Smart ",
         "marker": {
          "color": "#EF553B",
          "size": [
           4,
           2,
           2
          ],
          "sizemode": "area",
          "sizeref": 0.0175,
          "symbol": "circle"
         },
         "mode": "markers",
         "name": "Smart ",
         "orientation": "v",
         "showlegend": true,
         "type": "scatter",
         "x": [
          "Smart ",
          "Smart ",
          "Smart "
         ],
         "xaxis": "x",
         "y": [
          "95 km",
          "100 km",
          "95 km"
         ],
         "yaxis": "y"
        },
        {
         "customdata": [
          [
           "Rapid charging possible",
           2903.68
          ],
          [
           "Rapid charging possible",
           3153.2799999999997
          ]
         ],
         "hovertemplate": "Brand=%{x}<br>Range=%{y}<br>Seats=%{marker.size}<br>RapidCharge=%{customdata[0]}<br>inr(10e3)=%{customdata[1]}<extra></extra>",
         "legendgroup": "Fiat ",
         "marker": {
          "color": "#00cc96",
          "size": [
           4,
           4
          ],
          "sizemode": "area",
          "sizeref": 0.0175,
          "symbol": "circle"
         },
         "mode": "markers",
         "name": "Fiat ",
         "orientation": "v",
         "showlegend": true,
         "type": "scatter",
         "x": [
          "Fiat ",
          "Fiat "
         ],
         "xaxis": "x",
         "y": [
          "250 km",
          "250 km"
         ],
         "yaxis": "y"
        }
       ],
       "layout": {
        "legend": {
         "itemsizing": "constant",
         "title": {
          "text": "Brand"
         },
         "tracegroupgap": 0
        },
        "margin": {
         "t": 60
        },
        "template": {
         "data": {
          "bar": [
           {
            "error_x": {
             "color": "#2a3f5f"
            },
            "error_y": {
             "color": "#2a3f5f"
            },
            "marker": {
             "line": {
              "color": "#E5ECF6",
              "width": 0.5
             },
             "pattern": {
              "fillmode": "overlay",
              "size": 10,
              "solidity": 0.2
             }
            },
            "type": "bar"
           }
          ],
          "barpolar": [
           {
            "marker": {
             "line": {
              "color": "#E5ECF6",
              "width": 0.5
             },
             "pattern": {
              "fillmode": "overlay",
              "size": 10,
              "solidity": 0.2
             }
            },
            "type": "barpolar"
           }
          ],
          "carpet": [
           {
            "aaxis": {
             "endlinecolor": "#2a3f5f",
             "gridcolor": "white",
             "linecolor": "white",
             "minorgridcolor": "white",
             "startlinecolor": "#2a3f5f"
            },
            "baxis": {
             "endlinecolor": "#2a3f5f",
             "gridcolor": "white",
             "linecolor": "white",
             "minorgridcolor": "white",
             "startlinecolor": "#2a3f5f"
            },
            "type": "carpet"
           }
          ],
          "choropleth": [
           {
            "colorbar": {
             "outlinewidth": 0,
             "ticks": ""
            },
            "type": "choropleth"
           }
          ],
          "contour": [
           {
            "colorbar": {
             "outlinewidth": 0,
             "ticks": ""
            },
            "colorscale": [
             [
              0,
              "#0d0887"
             ],
             [
              0.1111111111111111,
              "#46039f"
             ],
             [
              0.2222222222222222,
              "#7201a8"
             ],
             [
              0.3333333333333333,
              "#9c179e"
             ],
             [
              0.4444444444444444,
              "#bd3786"
             ],
             [
              0.5555555555555556,
              "#d8576b"
             ],
             [
              0.6666666666666666,
              "#ed7953"
             ],
             [
              0.7777777777777778,
              "#fb9f3a"
             ],
             [
              0.8888888888888888,
              "#fdca26"
             ],
             [
              1,
              "#f0f921"
             ]
            ],
            "type": "contour"
           }
          ],
          "contourcarpet": [
           {
            "colorbar": {
             "outlinewidth": 0,
             "ticks": ""
            },
            "type": "contourcarpet"
           }
          ],
          "heatmap": [
           {
            "colorbar": {
             "outlinewidth": 0,
             "ticks": ""
            },
            "colorscale": [
             [
              0,
              "#0d0887"
             ],
             [
              0.1111111111111111,
              "#46039f"
             ],
             [
              0.2222222222222222,
              "#7201a8"
             ],
             [
              0.3333333333333333,
              "#9c179e"
             ],
             [
              0.4444444444444444,
              "#bd3786"
             ],
             [
              0.5555555555555556,
              "#d8576b"
             ],
             [
              0.6666666666666666,
              "#ed7953"
             ],
             [
              0.7777777777777778,
              "#fb9f3a"
             ],
             [
              0.8888888888888888,
              "#fdca26"
             ],
             [
              1,
              "#f0f921"
             ]
            ],
            "type": "heatmap"
           }
          ],
          "heatmapgl": [
           {
            "colorbar": {
             "outlinewidth": 0,
             "ticks": ""
            },
            "colorscale": [
             [
              0,
              "#0d0887"
             ],
             [
              0.1111111111111111,
              "#46039f"
             ],
             [
              0.2222222222222222,
              "#7201a8"
             ],
             [
              0.3333333333333333,
              "#9c179e"
             ],
             [
              0.4444444444444444,
              "#bd3786"
             ],
             [
              0.5555555555555556,
              "#d8576b"
             ],
             [
              0.6666666666666666,
              "#ed7953"
             ],
             [
              0.7777777777777778,
              "#fb9f3a"
             ],
             [
              0.8888888888888888,
              "#fdca26"
             ],
             [
              1,
              "#f0f921"
             ]
            ],
            "type": "heatmapgl"
           }
          ],
          "histogram": [
           {
            "marker": {
             "pattern": {
              "fillmode": "overlay",
              "size": 10,
              "solidity": 0.2
             }
            },
            "type": "histogram"
           }
          ],
          "histogram2d": [
           {
            "colorbar": {
             "outlinewidth": 0,
             "ticks": ""
            },
            "colorscale": [
             [
              0,
              "#0d0887"
             ],
             [
              0.1111111111111111,
              "#46039f"
             ],
             [
              0.2222222222222222,
              "#7201a8"
             ],
             [
              0.3333333333333333,
              "#9c179e"
             ],
             [
              0.4444444444444444,
              "#bd3786"
             ],
             [
              0.5555555555555556,
              "#d8576b"
             ],
             [
              0.6666666666666666,
              "#ed7953"
             ],
             [
              0.7777777777777778,
              "#fb9f3a"
             ],
             [
              0.8888888888888888,
              "#fdca26"
             ],
             [
              1,
              "#f0f921"
             ]
            ],
            "type": "histogram2d"
           }
          ],
          "histogram2dcontour": [
           {
            "colorbar": {
             "outlinewidth": 0,
             "ticks": ""
            },
            "colorscale": [
             [
              0,
              "#0d0887"
             ],
             [
              0.1111111111111111,
              "#46039f"
             ],
             [
              0.2222222222222222,
              "#7201a8"
             ],
             [
              0.3333333333333333,
              "#9c179e"
             ],
             [
              0.4444444444444444,
              "#bd3786"
             ],
             [
              0.5555555555555556,
              "#d8576b"
             ],
             [
              0.6666666666666666,
              "#ed7953"
             ],
             [
              0.7777777777777778,
              "#fb9f3a"
             ],
             [
              0.8888888888888888,
              "#fdca26"
             ],
             [
              1,
              "#f0f921"
             ]
            ],
            "type": "histogram2dcontour"
           }
          ],
          "mesh3d": [
           {
            "colorbar": {
             "outlinewidth": 0,
             "ticks": ""
            },
            "type": "mesh3d"
           }
          ],
          "parcoords": [
           {
            "line": {
             "colorbar": {
              "outlinewidth": 0,
              "ticks": ""
             }
            },
            "type": "parcoords"
           }
          ],
          "pie": [
           {
            "automargin": true,
            "type": "pie"
           }
          ],
          "scatter": [
           {
            "marker": {
             "colorbar": {
              "outlinewidth": 0,
              "ticks": ""
             }
            },
            "type": "scatter"
           }
          ],
          "scatter3d": [
           {
            "line": {
             "colorbar": {
              "outlinewidth": 0,
              "ticks": ""
             }
            },
            "marker": {
             "colorbar": {
              "outlinewidth": 0,
              "ticks": ""
             }
            },
            "type": "scatter3d"
           }
          ],
          "scattercarpet": [
           {
            "marker": {
             "colorbar": {
              "outlinewidth": 0,
              "ticks": ""
             }
            },
            "type": "scattercarpet"
           }
          ],
          "scattergeo": [
           {
            "marker": {
             "colorbar": {
              "outlinewidth": 0,
              "ticks": ""
             }
            },
            "type": "scattergeo"
           }
          ],
          "scattergl": [
           {
            "marker": {
             "colorbar": {
              "outlinewidth": 0,
              "ticks": ""
             }
            },
            "type": "scattergl"
           }
          ],
          "scattermapbox": [
           {
            "marker": {
             "colorbar": {
              "outlinewidth": 0,
              "ticks": ""
             }
            },
            "type": "scattermapbox"
           }
          ],
          "scatterpolar": [
           {
            "marker": {
             "colorbar": {
              "outlinewidth": 0,
              "ticks": ""
             }
            },
            "type": "scatterpolar"
           }
          ],
          "scatterpolargl": [
           {
            "marker": {
             "colorbar": {
              "outlinewidth": 0,
              "ticks": ""
             }
            },
            "type": "scatterpolargl"
           }
          ],
          "scatterternary": [
           {
            "marker": {
             "colorbar": {
              "outlinewidth": 0,
              "ticks": ""
             }
            },
            "type": "scatterternary"
           }
          ],
          "surface": [
           {
            "colorbar": {
             "outlinewidth": 0,
             "ticks": ""
            },
            "colorscale": [
             [
              0,
              "#0d0887"
             ],
             [
              0.1111111111111111,
              "#46039f"
             ],
             [
              0.2222222222222222,
              "#7201a8"
             ],
             [
              0.3333333333333333,
              "#9c179e"
             ],
             [
              0.4444444444444444,
              "#bd3786"
             ],
             [
              0.5555555555555556,
              "#d8576b"
             ],
             [
              0.6666666666666666,
              "#ed7953"
             ],
             [
              0.7777777777777778,
              "#fb9f3a"
             ],
             [
              0.8888888888888888,
              "#fdca26"
             ],
             [
              1,
              "#f0f921"
             ]
            ],
            "type": "surface"
           }
          ],
          "table": [
           {
            "cells": {
             "fill": {
              "color": "#EBF0F8"
             },
             "line": {
              "color": "white"
             }
            },
            "header": {
             "fill": {
              "color": "#C8D4E3"
             },
             "line": {
              "color": "white"
             }
            },
            "type": "table"
           }
          ]
         },
         "layout": {
          "annotationdefaults": {
           "arrowcolor": "#2a3f5f",
           "arrowhead": 0,
           "arrowwidth": 1
          },
          "autotypenumbers": "strict",
          "coloraxis": {
           "colorbar": {
            "outlinewidth": 0,
            "ticks": ""
           }
          },
          "colorscale": {
           "diverging": [
            [
             0,
             "#8e0152"
            ],
            [
             0.1,
             "#c51b7d"
            ],
            [
             0.2,
             "#de77ae"
            ],
            [
             0.3,
             "#f1b6da"
            ],
            [
             0.4,
             "#fde0ef"
            ],
            [
             0.5,
             "#f7f7f7"
            ],
            [
             0.6,
             "#e6f5d0"
            ],
            [
             0.7,
             "#b8e186"
            ],
            [
             0.8,
             "#7fbc41"
            ],
            [
             0.9,
             "#4d9221"
            ],
            [
             1,
             "#276419"
            ]
           ],
           "sequential": [
            [
             0,
             "#0d0887"
            ],
            [
             0.1111111111111111,
             "#46039f"
            ],
            [
             0.2222222222222222,
             "#7201a8"
            ],
            [
             0.3333333333333333,
             "#9c179e"
            ],
            [
             0.4444444444444444,
             "#bd3786"
            ],
            [
             0.5555555555555556,
             "#d8576b"
            ],
            [
             0.6666666666666666,
             "#ed7953"
            ],
            [
             0.7777777777777778,
             "#fb9f3a"
            ],
            [
             0.8888888888888888,
             "#fdca26"
            ],
            [
             1,
             "#f0f921"
            ]
           ],
           "sequentialminus": [
            [
             0,
             "#0d0887"
            ],
            [
             0.1111111111111111,
             "#46039f"
            ],
            [
             0.2222222222222222,
             "#7201a8"
            ],
            [
             0.3333333333333333,
             "#9c179e"
            ],
            [
             0.4444444444444444,
             "#bd3786"
            ],
            [
             0.5555555555555556,
             "#d8576b"
            ],
            [
             0.6666666666666666,
             "#ed7953"
            ],
            [
             0.7777777777777778,
             "#fb9f3a"
            ],
            [
             0.8888888888888888,
             "#fdca26"
            ],
            [
             1,
             "#f0f921"
            ]
           ]
          },
          "colorway": [
           "#636efa",
           "#EF553B",
           "#00cc96",
           "#ab63fa",
           "#FFA15A",
           "#19d3f3",
           "#FF6692",
           "#B6E880",
           "#FF97FF",
           "#FECB52"
          ],
          "font": {
           "color": "#2a3f5f"
          },
          "geo": {
           "bgcolor": "white",
           "lakecolor": "white",
           "landcolor": "#E5ECF6",
           "showlakes": true,
           "showland": true,
           "subunitcolor": "white"
          },
          "hoverlabel": {
           "align": "left"
          },
          "hovermode": "closest",
          "mapbox": {
           "style": "light"
          },
          "paper_bgcolor": "white",
          "plot_bgcolor": "#E5ECF6",
          "polar": {
           "angularaxis": {
            "gridcolor": "white",
            "linecolor": "white",
            "ticks": ""
           },
           "bgcolor": "#E5ECF6",
           "radialaxis": {
            "gridcolor": "white",
            "linecolor": "white",
            "ticks": ""
           }
          },
          "scene": {
           "xaxis": {
            "backgroundcolor": "#E5ECF6",
            "gridcolor": "white",
            "gridwidth": 2,
            "linecolor": "white",
            "showbackground": true,
            "ticks": "",
            "zerolinecolor": "white"
           },
           "yaxis": {
            "backgroundcolor": "#E5ECF6",
            "gridcolor": "white",
            "gridwidth": 2,
            "linecolor": "white",
            "showbackground": true,
            "ticks": "",
            "zerolinecolor": "white"
           },
           "zaxis": {
            "backgroundcolor": "#E5ECF6",
            "gridcolor": "white",
            "gridwidth": 2,
            "linecolor": "white",
            "showbackground": true,
            "ticks": "",
            "zerolinecolor": "white"
           }
          },
          "shapedefaults": {
           "line": {
            "color": "#2a3f5f"
           }
          },
          "ternary": {
           "aaxis": {
            "gridcolor": "white",
            "linecolor": "white",
            "ticks": ""
           },
           "baxis": {
            "gridcolor": "white",
            "linecolor": "white",
            "ticks": ""
           },
           "bgcolor": "#E5ECF6",
           "caxis": {
            "gridcolor": "white",
            "linecolor": "white",
            "ticks": ""
           }
          },
          "title": {
           "x": 0.05
          },
          "xaxis": {
           "automargin": true,
           "gridcolor": "white",
           "linecolor": "white",
           "ticks": "",
           "title": {
            "standoff": 15
           },
           "zerolinecolor": "white",
           "zerolinewidth": 2
          },
          "yaxis": {
           "automargin": true,
           "gridcolor": "white",
           "linecolor": "white",
           "ticks": "",
           "title": {
            "standoff": 15
           },
           "zerolinecolor": "white",
           "zerolinewidth": 2
          }
         }
        },
        "xaxis": {
         "anchor": "y",
         "categoryarray": [
          "Tesla ",
          "Volkswagen ",
          "Polestar ",
          "BMW ",
          "Honda ",
          "Lucid ",
          "Peugeot ",
          "Audi ",
          "Mercedes ",
          "Nissan ",
          "Hyundai ",
          "Porsche ",
          "MG ",
          "Mini ",
          "Opel ",
          "Skoda ",
          "Volvo ",
          "Kia ",
          "Renault ",
          "Mazda ",
          "Lexus ",
          "CUPRA ",
          "SEAT ",
          "Lightyear ",
          "Aiways ",
          "DS ",
          "Citroen ",
          "Jaguar ",
          "Ford ",
          "Byton ",
          "Sono ",
          "Smart ",
          "Fiat "
         ],
         "categoryorder": "array",
         "domain": [
          0,
          1
         ],
         "title": {
          "text": "Brand"
         }
        },
        "yaxis": {
         "anchor": "x",
         "domain": [
          0,
          1
         ],
         "title": {
          "text": "Range"
         }
        }
       }
      },
      "text/html": [
       "<div>                            <div id=\"e0d72eff-0c0f-468e-871d-642266a23601\" class=\"plotly-graph-div\" style=\"height:525px; width:100%;\"></div>            <script type=\"text/javascript\">                require([\"plotly\"], function(Plotly) {                    window.PLOTLYENV=window.PLOTLYENV || {};                                    if (document.getElementById(\"e0d72eff-0c0f-468e-871d-642266a23601\")) {                    Plotly.newPlot(                        \"e0d72eff-0c0f-468e-871d-642266a23601\",                        [{\"customdata\":[[\"Rapid charging possible\",4615.936],[\"Rapid charging possible\",3858.816],[\"Rapid charging possible\",4877.184],[\"Rapid charging possible\",5115.1359999999995],[\"Rapid charging possible\",6240.0],[\"Rapid charging possible\",6655.168],[\"Rapid charging possible\",17888.0],[\"Rapid charging possible\",7154.3679999999995],[\"Rapid charging possible\",8069.567999999999],[\"Rapid charging possible\",5459.584],[\"Rapid charging possible\",4576.0],[\"Rapid charging possible\",8568.768],[\"Rapid charging possible\",3744.0]],\"hovertemplate\":\"Brand=%{x}<br>Range=%{y}<br>Seats=%{marker.size}<br>RapidCharge=%{customdata[0]}<br>inr(10e3)=%{customdata[1]}<extra></extra>\",\"legendgroup\":\"Tesla \",\"marker\":{\"color\":\"#636efa\",\"size\":[5,5,7,5,6,5,4,7,5,7,6,7,6],\"sizemode\":\"area\",\"sizeref\":0.0175,\"symbol\":\"circle\"},\"mode\":\"markers\",\"name\":\"Tesla \",\"orientation\":\"v\",\"showlegend\":true,\"x\":[\"Tesla \",\"Tesla \",\"Tesla \",\"Tesla \",\"Tesla \",\"Tesla \",\"Tesla \",\"Tesla \",\"Tesla \",\"Tesla \",\"Tesla \",\"Tesla \",\"Tesla \"],\"xaxis\":\"x\",\"y\":[\"450 km\",\"310 km\",\"425 km\",\"435 km\",\"750 km\",\"515 km\",\"970 km\",\"450 km\",\"505 km\",\"410 km\",\"460 km\",\"440 km\",\"390 km\"],\"yaxis\":\"y\",\"type\":\"scatter\"},{\"customdata\":[[\"Rapid charging possible\",2496.0],[\"Rapid charging possible\",2654.08],[\"Rapid charging possible\",3405.8752],[\"Rapid charging possible\",1782.2271999999998],[\"Rapid charging possible\",3744.0],[\"Rapid charging possible\",2745.6],[\"Rapid charging possible\",3243.7183999999997],[\"Rapid charging possible\",2959.8399999999997]],\"hovertemplate\":\"Brand=%{x}<br>Range=%{y}<br>Seats=%{marker.size}<br>RapidCharge=%{customdata[0]}<br>inr(10e3)=%{customdata[1]}<extra></extra>\",\"legendgroup\":\"Volkswagen \",\"marker\":{\"color\":\"#EF553B\",\"size\":[5,5,4,4,5,5,5,5],\"sizemode\":\"area\",\"sizeref\":0.0175,\"symbol\":\"circle\"},\"mode\":\"markers\",\"name\":\"Volkswagen \",\"orientation\":\"v\",\"showlegend\":true,\"x\":[\"Volkswagen \",\"Volkswagen \",\"Volkswagen \",\"Volkswagen \",\"Volkswagen \",\"Volkswagen \",\"Volkswagen \",\"Volkswagen \"],\"xaxis\":\"x\",\"y\":[\"270 km\",\"190 km\",\"440 km\",\"195 km\",\"420 km\",\"350 km\",\"340 km\",\"340 km\"],\"yaxis\":\"y\",\"type\":\"scatter\"},{\"customdata\":[[\"Rapid charging possible\",4695.808]],\"hovertemplate\":\"Brand=%{x}<br>Range=%{y}<br>Seats=%{marker.size}<br>RapidCharge=%{customdata[0]}<br>inr(10e3)=%{customdata[1]}<extra></extra>\",\"legendgroup\":\"Polestar \",\"marker\":{\"color\":\"#00cc96\",\"size\":[5],\"sizemode\":\"area\",\"sizeref\":0.0175,\"symbol\":\"circle\"},\"mode\":\"markers\",\"name\":\"Polestar \",\"orientation\":\"v\",\"showlegend\":true,\"x\":[\"Polestar \"],\"xaxis\":\"x\",\"y\":[\"400 km\"],\"yaxis\":\"y\",\"type\":\"scatter\"},{\"customdata\":[[\"Rapid charging possible\",5660.928],[\"Rapid charging possible\",5408.0],[\"Rapid charging possible\",3163.0144],[\"Rapid charging possible\",3454.9631999999997]],\"hovertemplate\":\"Brand=%{x}<br>Range=%{y}<br>Seats=%{marker.size}<br>RapidCharge=%{customdata[0]}<br>inr(10e3)=%{customdata[1]}<extra></extra>\",\"legendgroup\":\"BMW \",\"marker\":{\"color\":\"#ab63fa\",\"size\":[5,5,4,4],\"sizemode\":\"area\",\"sizeref\":0.0175,\"symbol\":\"circle\"},\"mode\":\"markers\",\"name\":\"BMW \",\"orientation\":\"v\",\"showlegend\":true,\"x\":[\"BMW \",\"BMW \",\"BMW \",\"BMW \"],\"xaxis\":\"x\",\"y\":[\"360 km\",\"450 km\",\"235 km\",\"230 km\"],\"yaxis\":\"y\",\"type\":\"scatter\"},{\"customdata\":[[\"Rapid charging possible\",2745.3504],[\"Rapid charging possible\",2988.6272]],\"hovertemplate\":\"Brand=%{x}<br>Range=%{y}<br>Seats=%{marker.size}<br>RapidCharge=%{customdata[0]}<br>inr(10e3)=%{customdata[1]}<extra></extra>\",\"legendgroup\":\"Honda \",\"marker\":{\"color\":\"#FFA15A\",\"size\":[4,4],\"sizemode\":\"area\",\"sizeref\":0.0175,\"symbol\":\"circle\"},\"mode\":\"markers\",\"name\":\"Honda \",\"orientation\":\"v\",\"showlegend\":true,\"x\":[\"Honda \",\"Honda \"],\"xaxis\":\"x\",\"y\":[\"170 km\",\"170 km\"],\"yaxis\":\"y\",\"type\":\"scatter\"},{\"customdata\":[[\"Rapid charging possible\",8736.0]],\"hovertemplate\":\"Brand=%{x}<br>Range=%{y}<br>Seats=%{marker.size}<br>RapidCharge=%{customdata[0]}<br>inr(10e3)=%{customdata[1]}<extra></extra>\",\"legendgroup\":\"Lucid \",\"marker\":{\"color\":\"#19d3f3\",\"size\":[5],\"sizemode\":\"area\",\"sizeref\":0.0175,\"symbol\":\"circle\"},\"mode\":\"markers\",\"name\":\"Lucid \",\"orientation\":\"v\",\"showlegend\":true,\"x\":[\"Lucid \"],\"xaxis\":\"x\",\"y\":[\"610 km\"],\"yaxis\":\"y\",\"type\":\"scatter\"},{\"customdata\":[[\"Rapid charging possible\",2469.5424],[\"Rapid charging possible\",2858.8352]],\"hovertemplate\":\"Brand=%{x}<br>Range=%{y}<br>Seats=%{marker.size}<br>RapidCharge=%{customdata[0]}<br>inr(10e3)=%{customdata[1]}<extra></extra>\",\"legendgroup\":\"Peugeot \",\"marker\":{\"color\":\"#FF6692\",\"size\":[5,5],\"sizemode\":\"area\",\"sizeref\":0.0175,\"symbol\":\"circle\"},\"mode\":\"markers\",\"name\":\"Peugeot \",\"orientation\":\"v\",\"showlegend\":true,\"x\":[\"Peugeot \",\"Peugeot \"],\"xaxis\":\"x\",\"y\":[\"275 km\",\"250 km\"],\"yaxis\":\"y\",\"type\":\"scatter\"},{\"customdata\":[[\"Rapid charging possible\",4576.0],[\"Rapid charging possible\",10400.0],[\"Rapid charging possible\",5604.1856],[\"Rapid charging possible\",6792.364799999999],[\"Rapid charging possible\",6609.824],[\"Rapid charging possible\",4784.0],[\"Rapid charging possible\",5786.6431999999995],[\"Rapid charging possible\",7804.16],[\"Rapid charging possible\",7991.36]],\"hovertemplate\":\"Brand=%{x}<br>Range=%{y}<br>Seats=%{marker.size}<br>RapidCharge=%{customdata[0]}<br>inr(10e3)=%{customdata[1]}<extra></extra>\",\"legendgroup\":\"Audi \",\"marker\":{\"color\":\"#B6E880\",\"size\":[5,4,5,5,5,5,5,5,5],\"sizemode\":\"area\",\"sizeref\":0.0175,\"symbol\":\"circle\"},\"mode\":\"markers\",\"name\":\"Audi \",\"orientation\":\"v\",\"showlegend\":true,\"x\":[\"Audi \",\"Audi \",\"Audi \",\"Audi \",\"Audi \",\"Audi \",\"Audi \",\"Audi \",\"Audi \"],\"xaxis\":\"x\",\"y\":[\"400 km\",\"425 km\",\"280 km\",\"380 km\",\"365 km\",\"410 km\",\"295 km\",\"320 km\",\"335 km\"],\"yaxis\":\"y\",\"type\":\"scatter\"},{\"customdata\":[[\"Rapid charging possible\",5781.0688],[\"Rapid charging possible\",3744.0],[\"Rapid charging possible\",5876.499199999999]],\"hovertemplate\":\"Brand=%{x}<br>Range=%{y}<br>Seats=%{marker.size}<br>RapidCharge=%{customdata[0]}<br>inr(10e3)=%{customdata[1]}<extra></extra>\",\"legendgroup\":\"Mercedes \",\"marker\":{\"color\":\"#FF97FF\",\"size\":[5,5,7],\"sizemode\":\"area\",\"sizeref\":0.0175,\"symbol\":\"circle\"},\"mode\":\"markers\",\"name\":\"Mercedes \",\"orientation\":\"v\",\"showlegend\":true,\"x\":[\"Mercedes \",\"Mercedes \",\"Mercedes \"],\"xaxis\":\"x\",\"y\":[\"370 km\",\"350 km\",\"330 km\"],\"yaxis\":\"y\",\"type\":\"scatter\"},{\"customdata\":[[\"Rapid charging possible\",2432.2688],[\"Rapid charging possible\",3098.1184],[\"Rapid charging possible\",4160.0],[\"Rapid charging possible\",2766.0672],[\"Rapid charging possible\",4784.0],[\"Rapid charging possible\",3744.0],[\"Rapid charging possible\",4160.0],[\"Rapid charging possible\",5408.0]],\"hovertemplate\":\"Brand=%{x}<br>Range=%{y}<br>Seats=%{marker.size}<br>RapidCharge=%{customdata[0]}<br>inr(10e3)=%{customdata[1]}<extra></extra>\",\"legendgroup\":\"Nissan \",\"marker\":{\"color\":\"#FECB52\",\"size\":[5,5,5,7,5,5,5,5],\"sizemode\":\"area\",\"sizeref\":0.0175,\"symbol\":\"circle\"},\"mode\":\"markers\",\"name\":\"Nissan \",\"orientation\":\"v\",\"showlegend\":true,\"x\":[\"Nissan \",\"Nissan \",\"Nissan \",\"Nissan \",\"Nissan \",\"Nissan \",\"Nissan \",\"Nissan \"],\"xaxis\":\"x\",\"y\":[\"220 km\",\"325 km\",\"440 km\",\"190 km\",\"420 km\",\"330 km\",\"325 km\",\"375 km\"],\"yaxis\":\"y\",\"type\":\"scatter\"},{\"customdata\":[[\"Rapid charging possible\",3394.144],[\"Rapid charging possible\",2866.9888],[\"Rapid charging possible\",2826.3871999999997]],\"hovertemplate\":\"Brand=%{x}<br>Range=%{y}<br>Seats=%{marker.size}<br>RapidCharge=%{customdata[0]}<br>inr(10e3)=%{customdata[1]}<extra></extra>\",\"legendgroup\":\"Hyundai \",\"marker\":{\"color\":\"#636efa\",\"size\":[5,5,5],\"sizemode\":\"area\",\"sizeref\":0.0175,\"symbol\":\"circle\"},\"mode\":\"markers\",\"name\":\"Hyundai \",\"orientation\":\"v\",\"showlegend\":true,\"x\":[\"Hyundai \",\"Hyundai \",\"Hyundai \"],\"xaxis\":\"x\",\"y\":[\"400 km\",\"250 km\",\"255 km\"],\"yaxis\":\"y\",\"type\":\"scatter\"},{\"customdata\":[[\"Rapid charging possible\",15040.9792],[\"Rapid charging possible\",8565.024],[\"Rapid charging possible\",9093.9264],[\"Rapid charging possible\",12480.0],[\"Rapid charging possible\",12338.643199999999]],\"hovertemplate\":\"Brand=%{x}<br>Range=%{y}<br>Seats=%{marker.size}<br>RapidCharge=%{customdata[0]}<br>inr(10e3)=%{customdata[1]}<extra></extra>\",\"legendgroup\":\"Porsche \",\"marker\":{\"color\":\"#EF553B\",\"size\":[4,4,4,4,4],\"sizemode\":\"area\",\"sizeref\":0.0175,\"symbol\":\"circle\"},\"mode\":\"markers\",\"name\":\"Porsche \",\"orientation\":\"v\",\"showlegend\":true,\"x\":[\"Porsche \",\"Porsche \",\"Porsche \",\"Porsche \",\"Porsche \"],\"xaxis\":\"x\",\"y\":[\"375 km\",\"365 km\",\"425 km\",\"385 km\",\"390 km\"],\"yaxis\":\"y\",\"type\":\"scatter\"},{\"customdata\":[[\"Rapid charging possible\",2496.0]],\"hovertemplate\":\"Brand=%{x}<br>Range=%{y}<br>Seats=%{marker.size}<br>RapidCharge=%{customdata[0]}<br>inr(10e3)=%{customdata[1]}<extra></extra>\",\"legendgroup\":\"MG \",\"marker\":{\"color\":\"#00cc96\",\"size\":[5],\"sizemode\":\"area\",\"sizeref\":0.0175,\"symbol\":\"circle\"},\"mode\":\"markers\",\"name\":\"MG \",\"orientation\":\"v\",\"showlegend\":true,\"x\":[\"MG \"],\"xaxis\":\"x\",\"y\":[\"220 km\"],\"yaxis\":\"y\",\"type\":\"scatter\"},{\"customdata\":[[\"Rapid charging possible\",2635.8592]],\"hovertemplate\":\"Brand=%{x}<br>Range=%{y}<br>Seats=%{marker.size}<br>RapidCharge=%{customdata[0]}<br>inr(10e3)=%{customdata[1]}<extra></extra>\",\"legendgroup\":\"Mini \",\"marker\":{\"color\":\"#ab63fa\",\"size\":[4],\"sizemode\":\"area\",\"sizeref\":0.0175,\"symbol\":\"circle\"},\"mode\":\"markers\",\"name\":\"Mini \",\"orientation\":\"v\",\"showlegend\":true,\"x\":[\"Mini \"],\"xaxis\":\"x\",\"y\":[\"185 km\"],\"yaxis\":\"y\",\"type\":\"scatter\"},{\"customdata\":[[\"Rapid charging possible\",2424.9472],[\"Rapid charging possible\",3486.5791999999997],[\"Rapid charging possible\",2912.0]],\"hovertemplate\":\"Brand=%{x}<br>Range=%{y}<br>Seats=%{marker.size}<br>RapidCharge=%{customdata[0]}<br>inr(10e3)=%{customdata[1]}<extra></extra>\",\"legendgroup\":\"Opel \",\"marker\":{\"color\":\"#FFA15A\",\"size\":[5,5,5],\"sizemode\":\"area\",\"sizeref\":0.0175,\"symbol\":\"circle\"},\"mode\":\"markers\",\"name\":\"Opel \",\"orientation\":\"v\",\"showlegend\":true,\"x\":[\"Opel \",\"Opel \",\"Opel \"],\"xaxis\":\"x\",\"y\":[\"275 km\",\"335 km\",\"255 km\"],\"yaxis\":\"y\",\"type\":\"scatter\"},{\"customdata\":[[\"Rapid charging possible\",2912.0],[\"Rapid charging possible\",2041.2287999999999],[\"Rapid charging possible\",3328.0],[\"Rapid charging possible\",3744.0],[\"Rapid charging possible\",3952.0],[\"Rapid charging possible\",3120.0]],\"hovertemplate\":\"Brand=%{x}<br>Range=%{y}<br>Seats=%{marker.size}<br>RapidCharge=%{customdata[0]}<br>inr(10e3)=%{customdata[1]}<extra></extra>\",\"legendgroup\":\"Skoda \",\"marker\":{\"color\":\"#19d3f3\",\"size\":[5,4,5,5,5,5],\"sizemode\":\"area\",\"sizeref\":0.0175,\"symbol\":\"circle\"},\"mode\":\"markers\",\"name\":\"Skoda \",\"orientation\":\"v\",\"showlegend\":true,\"x\":[\"Skoda \",\"Skoda \",\"Skoda \",\"Skoda \",\"Skoda \",\"Skoda \"],\"xaxis\":\"x\",\"y\":[\"290 km\",\"195 km\",\"420 km\",\"400 km\",\"400 km\",\"320 km\"],\"yaxis\":\"y\",\"type\":\"scatter\"},{\"customdata\":[[\"Rapid charging possible\",5028.3584]],\"hovertemplate\":\"Brand=%{x}<br>Range=%{y}<br>Seats=%{marker.size}<br>RapidCharge=%{customdata[0]}<br>inr(10e3)=%{customdata[1]}<extra></extra>\",\"legendgroup\":\"Volvo \",\"marker\":{\"color\":\"#FF6692\",\"size\":[5],\"sizemode\":\"area\",\"sizeref\":0.0175,\"symbol\":\"circle\"},\"mode\":\"markers\",\"name\":\"Volvo \",\"orientation\":\"v\",\"showlegend\":true,\"x\":[\"Volvo \"],\"xaxis\":\"x\",\"y\":[\"375 km\"],\"yaxis\":\"y\",\"type\":\"scatter\"},{\"customdata\":[[\"Rapid charging possible\",3170.336],[\"Rapid charging possible\",3064.8383999999996],[\"Rapid charging possible\",2862.08],[\"Rapid charging possible\",3064.8383999999996],[\"Rapid charging possible\",2756.6656]],\"hovertemplate\":\"Brand=%{x}<br>Range=%{y}<br>Seats=%{marker.size}<br>RapidCharge=%{customdata[0]}<br>inr(10e3)=%{customdata[1]}<extra></extra>\",\"legendgroup\":\"Kia \",\"marker\":{\"color\":\"#B6E880\",\"size\":[5,5,5,5,5],\"sizemode\":\"area\",\"sizeref\":0.0175,\"symbol\":\"circle\"},\"mode\":\"markers\",\"name\":\"Kia \",\"orientation\":\"v\",\"showlegend\":true,\"x\":[\"Kia \",\"Kia \",\"Kia \",\"Kia \",\"Kia \"],\"xaxis\":\"x\",\"y\":[\"370 km\",\"365 km\",\"235 km\",\"365 km\",\"230 km\"],\"yaxis\":\"y\",\"type\":\"scatter\"},{\"customdata\":[[\"Rapid charging possible\",2594.5088],[\"Rapid charging possible\",2756.6656],[\"Rapid charging not possible\",2062.528],[\"Rapid charging possible\",2432.2688],[\"Rapid charging not possible\",3161.6]],\"hovertemplate\":\"Brand=%{x}<br>Range=%{y}<br>Seats=%{marker.size}<br>RapidCharge=%{customdata[0]}<br>inr(10e3)=%{customdata[1]}<extra></extra>\",\"legendgroup\":\"Renault \",\"marker\":{\"color\":\"#FF97FF\",\"size\":[5,5,4,5,5],\"sizemode\":\"area\",\"sizeref\":0.0175,\"symbol\":\"circle\"},\"mode\":\"markers\",\"name\":\"Renault \",\"orientation\":\"v\",\"showlegend\":true,\"x\":[\"Renault \",\"Renault \",\"Renault \",\"Renault \",\"Renault \"],\"xaxis\":\"x\",\"y\":[\"315 km\",\"310 km\",\"130 km\",\"255 km\",\"160 km\"],\"yaxis\":\"y\",\"type\":\"scatter\"},{\"customdata\":[[\"Rapid charging possible\",2716.1472]],\"hovertemplate\":\"Brand=%{x}<br>Range=%{y}<br>Seats=%{marker.size}<br>RapidCharge=%{customdata[0]}<br>inr(10e3)=%{customdata[1]}<extra></extra>\",\"legendgroup\":\"Mazda \",\"marker\":{\"color\":\"#FECB52\",\"size\":[5],\"sizemode\":\"area\",\"sizeref\":0.0175,\"symbol\":\"circle\"},\"mode\":\"markers\",\"name\":\"Mazda \",\"orientation\":\"v\",\"showlegend\":true,\"x\":[\"Mazda \"],\"xaxis\":\"x\",\"y\":[\"180 km\"],\"yaxis\":\"y\",\"type\":\"scatter\"},{\"customdata\":[[\"Rapid charging possible\",4160.0]],\"hovertemplate\":\"Brand=%{x}<br>Range=%{y}<br>Seats=%{marker.size}<br>RapidCharge=%{customdata[0]}<br>inr(10e3)=%{customdata[1]}<extra></extra>\",\"legendgroup\":\"Lexus \",\"marker\":{\"color\":\"#636efa\",\"size\":[5],\"sizemode\":\"area\",\"sizeref\":0.0175,\"symbol\":\"circle\"},\"mode\":\"markers\",\"name\":\"Lexus \",\"orientation\":\"v\",\"showlegend\":true,\"x\":[\"Lexus \"],\"xaxis\":\"x\",\"y\":[\"270 km\"],\"yaxis\":\"y\",\"type\":\"scatter\"},{\"customdata\":[[\"Rapid charging possible\",3744.0]],\"hovertemplate\":\"Brand=%{x}<br>Range=%{y}<br>Seats=%{marker.size}<br>RapidCharge=%{customdata[0]}<br>inr(10e3)=%{customdata[1]}<extra></extra>\",\"legendgroup\":\"CUPRA \",\"marker\":{\"color\":\"#EF553B\",\"size\":[4],\"sizemode\":\"area\",\"sizeref\":0.0175,\"symbol\":\"circle\"},\"mode\":\"markers\",\"name\":\"CUPRA \",\"orientation\":\"v\",\"showlegend\":true,\"x\":[\"CUPRA \"],\"xaxis\":\"x\",\"y\":[\"425 km\"],\"yaxis\":\"y\",\"type\":\"scatter\"},{\"customdata\":[[\"Rapid charging possible\",1674.7328]],\"hovertemplate\":\"Brand=%{x}<br>Range=%{y}<br>Seats=%{marker.size}<br>RapidCharge=%{customdata[0]}<br>inr(10e3)=%{customdata[1]}<extra></extra>\",\"legendgroup\":\"SEAT \",\"marker\":{\"color\":\"#00cc96\",\"size\":[4],\"sizemode\":\"area\",\"sizeref\":0.0175,\"symbol\":\"circle\"},\"mode\":\"markers\",\"name\":\"SEAT \",\"orientation\":\"v\",\"showlegend\":true,\"x\":[\"SEAT \"],\"xaxis\":\"x\",\"y\":[\"195 km\"],\"yaxis\":\"y\",\"type\":\"scatter\"},{\"customdata\":[[\"Rapid charging possible\",12396.8]],\"hovertemplate\":\"Brand=%{x}<br>Range=%{y}<br>Seats=%{marker.size}<br>RapidCharge=%{customdata[0]}<br>inr(10e3)=%{customdata[1]}<extra></extra>\",\"legendgroup\":\"Lightyear \",\"marker\":{\"color\":\"#ab63fa\",\"size\":[5],\"sizemode\":\"area\",\"sizeref\":0.0175,\"symbol\":\"circle\"},\"mode\":\"markers\",\"name\":\"Lightyear \",\"orientation\":\"v\",\"showlegend\":true,\"x\":[\"Lightyear \"],\"xaxis\":\"x\",\"y\":[\"575 km\"],\"yaxis\":\"y\",\"type\":\"scatter\"},{\"customdata\":[[\"Rapid charging possible\",2999.9424]],\"hovertemplate\":\"Brand=%{x}<br>Range=%{y}<br>Seats=%{marker.size}<br>RapidCharge=%{customdata[0]}<br>inr(10e3)=%{customdata[1]}<extra></extra>\",\"legendgroup\":\"Aiways \",\"marker\":{\"color\":\"#FFA15A\",\"size\":[5],\"sizemode\":\"area\",\"sizeref\":0.0175,\"symbol\":\"circle\"},\"mode\":\"markers\",\"name\":\"Aiways \",\"orientation\":\"v\",\"showlegend\":true,\"x\":[\"Aiways \"],\"xaxis\":\"x\",\"y\":[\"335 km\"],\"yaxis\":\"y\",\"type\":\"scatter\"},{\"customdata\":[[\"Rapid charging possible\",3113.5103999999997]],\"hovertemplate\":\"Brand=%{x}<br>Range=%{y}<br>Seats=%{marker.size}<br>RapidCharge=%{customdata[0]}<br>inr(10e3)=%{customdata[1]}<extra></extra>\",\"legendgroup\":\"DS \",\"marker\":{\"color\":\"#19d3f3\",\"size\":[5],\"sizemode\":\"area\",\"sizeref\":0.0175,\"symbol\":\"circle\"},\"mode\":\"markers\",\"name\":\"DS \",\"orientation\":\"v\",\"showlegend\":true,\"x\":[\"DS \"],\"xaxis\":\"x\",\"y\":[\"250 km\"],\"yaxis\":\"y\",\"type\":\"scatter\"},{\"customdata\":[[\"Rapid charging possible\",3328.0]],\"hovertemplate\":\"Brand=%{x}<br>Range=%{y}<br>Seats=%{marker.size}<br>RapidCharge=%{customdata[0]}<br>inr(10e3)=%{customdata[1]}<extra></extra>\",\"legendgroup\":\"Citroen \",\"marker\":{\"color\":\"#FF6692\",\"size\":[5],\"sizemode\":\"area\",\"sizeref\":0.0175,\"symbol\":\"circle\"},\"mode\":\"markers\",\"name\":\"Citroen \",\"orientation\":\"v\",\"showlegend\":true,\"x\":[\"Citroen \"],\"xaxis\":\"x\",\"y\":[\"250 km\"],\"yaxis\":\"y\",\"type\":\"scatter\"},{\"customdata\":[[\"Rapid charging possible\",6269.2032]],\"hovertemplate\":\"Brand=%{x}<br>Range=%{y}<br>Seats=%{marker.size}<br>RapidCharge=%{customdata[0]}<br>inr(10e3)=%{customdata[1]}<extra></extra>\",\"legendgroup\":\"Jaguar \",\"marker\":{\"color\":\"#B6E880\",\"size\":[5],\"sizemode\":\"area\",\"sizeref\":0.0175,\"symbol\":\"circle\"},\"mode\":\"markers\",\"name\":\"Jaguar \",\"orientation\":\"v\",\"showlegend\":true,\"x\":[\"Jaguar \"],\"xaxis\":\"x\",\"y\":[\"365 km\"],\"yaxis\":\"y\",\"type\":\"scatter\"},{\"customdata\":[[\"Rapid charging possible\",4532.32],[\"Rapid charging possible\",5233.28],[\"Rapid charging possible\",4492.8],[\"Rapid charging possible\",3902.08]],\"hovertemplate\":\"Brand=%{x}<br>Range=%{y}<br>Seats=%{marker.size}<br>RapidCharge=%{customdata[0]}<br>inr(10e3)=%{customdata[1]}<extra></extra>\",\"legendgroup\":\"Ford \",\"marker\":{\"color\":\"#FF97FF\",\"size\":[5,5,5,5],\"sizemode\":\"area\",\"sizeref\":0.0175,\"symbol\":\"circle\"},\"mode\":\"markers\",\"name\":\"Ford \",\"orientation\":\"v\",\"showlegend\":true,\"x\":[\"Ford \",\"Ford \",\"Ford \",\"Ford \"],\"xaxis\":\"x\",\"y\":[\"450 km\",\"430 km\",\"340 km\",\"360 km\"],\"yaxis\":\"y\",\"type\":\"scatter\"},{\"customdata\":[[\"Rapid charging possible\",5324.8],[\"Rapid charging possible\",4451.2],[\"Rapid charging possible\",5158.4]],\"hovertemplate\":\"Brand=%{x}<br>Range=%{y}<br>Seats=%{marker.size}<br>RapidCharge=%{customdata[0]}<br>inr(10e3)=%{customdata[1]}<extra></extra>\",\"legendgroup\":\"Byton \",\"marker\":{\"color\":\"#FECB52\",\"size\":[5,5,5],\"sizemode\":\"area\",\"sizeref\":0.0175,\"symbol\":\"circle\"},\"mode\":\"markers\",\"name\":\"Byton \",\"orientation\":\"v\",\"showlegend\":true,\"x\":[\"Byton \",\"Byton \",\"Byton \"],\"xaxis\":\"x\",\"y\":[\"390 km\",\"325 km\",\"400 km\"],\"yaxis\":\"y\",\"type\":\"scatter\"},{\"customdata\":[[\"Rapid charging possible\",2121.6]],\"hovertemplate\":\"Brand=%{x}<br>Range=%{y}<br>Seats=%{marker.size}<br>RapidCharge=%{customdata[0]}<br>inr(10e3)=%{customdata[1]}<extra></extra>\",\"legendgroup\":\"Sono \",\"marker\":{\"color\":\"#636efa\",\"size\":[5],\"sizemode\":\"area\",\"sizeref\":0.0175,\"symbol\":\"circle\"},\"mode\":\"markers\",\"name\":\"Sono \",\"orientation\":\"v\",\"showlegend\":true,\"x\":[\"Sono \"],\"xaxis\":\"x\",\"y\":[\"225 km\"],\"yaxis\":\"y\",\"type\":\"scatter\"},{\"customdata\":[[\"Rapid charging not possible\",1832.896],[\"Rapid charging not possible\",1779.3983999999998],[\"Rapid charging not possible\",2043.808]],\"hovertemplate\":\"Brand=%{x}<br>Range=%{y}<br>Seats=%{marker.size}<br>RapidCharge=%{customdata[0]}<br>inr(10e3)=%{customdata[1]}<extra></extra>\",\"legendgroup\":\"Smart \",\"marker\":{\"color\":\"#EF553B\",\"size\":[4,2,2],\"sizemode\":\"area\",\"sizeref\":0.0175,\"symbol\":\"circle\"},\"mode\":\"markers\",\"name\":\"Smart \",\"orientation\":\"v\",\"showlegend\":true,\"x\":[\"Smart \",\"Smart \",\"Smart \"],\"xaxis\":\"x\",\"y\":[\"95 km\",\"100 km\",\"95 km\"],\"yaxis\":\"y\",\"type\":\"scatter\"},{\"customdata\":[[\"Rapid charging possible\",2903.68],[\"Rapid charging possible\",3153.2799999999997]],\"hovertemplate\":\"Brand=%{x}<br>Range=%{y}<br>Seats=%{marker.size}<br>RapidCharge=%{customdata[0]}<br>inr(10e3)=%{customdata[1]}<extra></extra>\",\"legendgroup\":\"Fiat \",\"marker\":{\"color\":\"#00cc96\",\"size\":[4,4],\"sizemode\":\"area\",\"sizeref\":0.0175,\"symbol\":\"circle\"},\"mode\":\"markers\",\"name\":\"Fiat \",\"orientation\":\"v\",\"showlegend\":true,\"x\":[\"Fiat \",\"Fiat \"],\"xaxis\":\"x\",\"y\":[\"250 km\",\"250 km\"],\"yaxis\":\"y\",\"type\":\"scatter\"}],                        {\"template\":{\"data\":{\"bar\":[{\"error_x\":{\"color\":\"#2a3f5f\"},\"error_y\":{\"color\":\"#2a3f5f\"},\"marker\":{\"line\":{\"color\":\"#E5ECF6\",\"width\":0.5},\"pattern\":{\"fillmode\":\"overlay\",\"size\":10,\"solidity\":0.2}},\"type\":\"bar\"}],\"barpolar\":[{\"marker\":{\"line\":{\"color\":\"#E5ECF6\",\"width\":0.5},\"pattern\":{\"fillmode\":\"overlay\",\"size\":10,\"solidity\":0.2}},\"type\":\"barpolar\"}],\"carpet\":[{\"aaxis\":{\"endlinecolor\":\"#2a3f5f\",\"gridcolor\":\"white\",\"linecolor\":\"white\",\"minorgridcolor\":\"white\",\"startlinecolor\":\"#2a3f5f\"},\"baxis\":{\"endlinecolor\":\"#2a3f5f\",\"gridcolor\":\"white\",\"linecolor\":\"white\",\"minorgridcolor\":\"white\",\"startlinecolor\":\"#2a3f5f\"},\"type\":\"carpet\"}],\"choropleth\":[{\"colorbar\":{\"outlinewidth\":0,\"ticks\":\"\"},\"type\":\"choropleth\"}],\"contour\":[{\"colorbar\":{\"outlinewidth\":0,\"ticks\":\"\"},\"colorscale\":[[0.0,\"#0d0887\"],[0.1111111111111111,\"#46039f\"],[0.2222222222222222,\"#7201a8\"],[0.3333333333333333,\"#9c179e\"],[0.4444444444444444,\"#bd3786\"],[0.5555555555555556,\"#d8576b\"],[0.6666666666666666,\"#ed7953\"],[0.7777777777777778,\"#fb9f3a\"],[0.8888888888888888,\"#fdca26\"],[1.0,\"#f0f921\"]],\"type\":\"contour\"}],\"contourcarpet\":[{\"colorbar\":{\"outlinewidth\":0,\"ticks\":\"\"},\"type\":\"contourcarpet\"}],\"heatmap\":[{\"colorbar\":{\"outlinewidth\":0,\"ticks\":\"\"},\"colorscale\":[[0.0,\"#0d0887\"],[0.1111111111111111,\"#46039f\"],[0.2222222222222222,\"#7201a8\"],[0.3333333333333333,\"#9c179e\"],[0.4444444444444444,\"#bd3786\"],[0.5555555555555556,\"#d8576b\"],[0.6666666666666666,\"#ed7953\"],[0.7777777777777778,\"#fb9f3a\"],[0.8888888888888888,\"#fdca26\"],[1.0,\"#f0f921\"]],\"type\":\"heatmap\"}],\"heatmapgl\":[{\"colorbar\":{\"outlinewidth\":0,\"ticks\":\"\"},\"colorscale\":[[0.0,\"#0d0887\"],[0.1111111111111111,\"#46039f\"],[0.2222222222222222,\"#7201a8\"],[0.3333333333333333,\"#9c179e\"],[0.4444444444444444,\"#bd3786\"],[0.5555555555555556,\"#d8576b\"],[0.6666666666666666,\"#ed7953\"],[0.7777777777777778,\"#fb9f3a\"],[0.8888888888888888,\"#fdca26\"],[1.0,\"#f0f921\"]],\"type\":\"heatmapgl\"}],\"histogram\":[{\"marker\":{\"pattern\":{\"fillmode\":\"overlay\",\"size\":10,\"solidity\":0.2}},\"type\":\"histogram\"}],\"histogram2d\":[{\"colorbar\":{\"outlinewidth\":0,\"ticks\":\"\"},\"colorscale\":[[0.0,\"#0d0887\"],[0.1111111111111111,\"#46039f\"],[0.2222222222222222,\"#7201a8\"],[0.3333333333333333,\"#9c179e\"],[0.4444444444444444,\"#bd3786\"],[0.5555555555555556,\"#d8576b\"],[0.6666666666666666,\"#ed7953\"],[0.7777777777777778,\"#fb9f3a\"],[0.8888888888888888,\"#fdca26\"],[1.0,\"#f0f921\"]],\"type\":\"histogram2d\"}],\"histogram2dcontour\":[{\"colorbar\":{\"outlinewidth\":0,\"ticks\":\"\"},\"colorscale\":[[0.0,\"#0d0887\"],[0.1111111111111111,\"#46039f\"],[0.2222222222222222,\"#7201a8\"],[0.3333333333333333,\"#9c179e\"],[0.4444444444444444,\"#bd3786\"],[0.5555555555555556,\"#d8576b\"],[0.6666666666666666,\"#ed7953\"],[0.7777777777777778,\"#fb9f3a\"],[0.8888888888888888,\"#fdca26\"],[1.0,\"#f0f921\"]],\"type\":\"histogram2dcontour\"}],\"mesh3d\":[{\"colorbar\":{\"outlinewidth\":0,\"ticks\":\"\"},\"type\":\"mesh3d\"}],\"parcoords\":[{\"line\":{\"colorbar\":{\"outlinewidth\":0,\"ticks\":\"\"}},\"type\":\"parcoords\"}],\"pie\":[{\"automargin\":true,\"type\":\"pie\"}],\"scatter\":[{\"marker\":{\"colorbar\":{\"outlinewidth\":0,\"ticks\":\"\"}},\"type\":\"scatter\"}],\"scatter3d\":[{\"line\":{\"colorbar\":{\"outlinewidth\":0,\"ticks\":\"\"}},\"marker\":{\"colorbar\":{\"outlinewidth\":0,\"ticks\":\"\"}},\"type\":\"scatter3d\"}],\"scattercarpet\":[{\"marker\":{\"colorbar\":{\"outlinewidth\":0,\"ticks\":\"\"}},\"type\":\"scattercarpet\"}],\"scattergeo\":[{\"marker\":{\"colorbar\":{\"outlinewidth\":0,\"ticks\":\"\"}},\"type\":\"scattergeo\"}],\"scattergl\":[{\"marker\":{\"colorbar\":{\"outlinewidth\":0,\"ticks\":\"\"}},\"type\":\"scattergl\"}],\"scattermapbox\":[{\"marker\":{\"colorbar\":{\"outlinewidth\":0,\"ticks\":\"\"}},\"type\":\"scattermapbox\"}],\"scatterpolar\":[{\"marker\":{\"colorbar\":{\"outlinewidth\":0,\"ticks\":\"\"}},\"type\":\"scatterpolar\"}],\"scatterpolargl\":[{\"marker\":{\"colorbar\":{\"outlinewidth\":0,\"ticks\":\"\"}},\"type\":\"scatterpolargl\"}],\"scatterternary\":[{\"marker\":{\"colorbar\":{\"outlinewidth\":0,\"ticks\":\"\"}},\"type\":\"scatterternary\"}],\"surface\":[{\"colorbar\":{\"outlinewidth\":0,\"ticks\":\"\"},\"colorscale\":[[0.0,\"#0d0887\"],[0.1111111111111111,\"#46039f\"],[0.2222222222222222,\"#7201a8\"],[0.3333333333333333,\"#9c179e\"],[0.4444444444444444,\"#bd3786\"],[0.5555555555555556,\"#d8576b\"],[0.6666666666666666,\"#ed7953\"],[0.7777777777777778,\"#fb9f3a\"],[0.8888888888888888,\"#fdca26\"],[1.0,\"#f0f921\"]],\"type\":\"surface\"}],\"table\":[{\"cells\":{\"fill\":{\"color\":\"#EBF0F8\"},\"line\":{\"color\":\"white\"}},\"header\":{\"fill\":{\"color\":\"#C8D4E3\"},\"line\":{\"color\":\"white\"}},\"type\":\"table\"}]},\"layout\":{\"annotationdefaults\":{\"arrowcolor\":\"#2a3f5f\",\"arrowhead\":0,\"arrowwidth\":1},\"autotypenumbers\":\"strict\",\"coloraxis\":{\"colorbar\":{\"outlinewidth\":0,\"ticks\":\"\"}},\"colorscale\":{\"diverging\":[[0,\"#8e0152\"],[0.1,\"#c51b7d\"],[0.2,\"#de77ae\"],[0.3,\"#f1b6da\"],[0.4,\"#fde0ef\"],[0.5,\"#f7f7f7\"],[0.6,\"#e6f5d0\"],[0.7,\"#b8e186\"],[0.8,\"#7fbc41\"],[0.9,\"#4d9221\"],[1,\"#276419\"]],\"sequential\":[[0.0,\"#0d0887\"],[0.1111111111111111,\"#46039f\"],[0.2222222222222222,\"#7201a8\"],[0.3333333333333333,\"#9c179e\"],[0.4444444444444444,\"#bd3786\"],[0.5555555555555556,\"#d8576b\"],[0.6666666666666666,\"#ed7953\"],[0.7777777777777778,\"#fb9f3a\"],[0.8888888888888888,\"#fdca26\"],[1.0,\"#f0f921\"]],\"sequentialminus\":[[0.0,\"#0d0887\"],[0.1111111111111111,\"#46039f\"],[0.2222222222222222,\"#7201a8\"],[0.3333333333333333,\"#9c179e\"],[0.4444444444444444,\"#bd3786\"],[0.5555555555555556,\"#d8576b\"],[0.6666666666666666,\"#ed7953\"],[0.7777777777777778,\"#fb9f3a\"],[0.8888888888888888,\"#fdca26\"],[1.0,\"#f0f921\"]]},\"colorway\":[\"#636efa\",\"#EF553B\",\"#00cc96\",\"#ab63fa\",\"#FFA15A\",\"#19d3f3\",\"#FF6692\",\"#B6E880\",\"#FF97FF\",\"#FECB52\"],\"font\":{\"color\":\"#2a3f5f\"},\"geo\":{\"bgcolor\":\"white\",\"lakecolor\":\"white\",\"landcolor\":\"#E5ECF6\",\"showlakes\":true,\"showland\":true,\"subunitcolor\":\"white\"},\"hoverlabel\":{\"align\":\"left\"},\"hovermode\":\"closest\",\"mapbox\":{\"style\":\"light\"},\"paper_bgcolor\":\"white\",\"plot_bgcolor\":\"#E5ECF6\",\"polar\":{\"angularaxis\":{\"gridcolor\":\"white\",\"linecolor\":\"white\",\"ticks\":\"\"},\"bgcolor\":\"#E5ECF6\",\"radialaxis\":{\"gridcolor\":\"white\",\"linecolor\":\"white\",\"ticks\":\"\"}},\"scene\":{\"xaxis\":{\"backgroundcolor\":\"#E5ECF6\",\"gridcolor\":\"white\",\"gridwidth\":2,\"linecolor\":\"white\",\"showbackground\":true,\"ticks\":\"\",\"zerolinecolor\":\"white\"},\"yaxis\":{\"backgroundcolor\":\"#E5ECF6\",\"gridcolor\":\"white\",\"gridwidth\":2,\"linecolor\":\"white\",\"showbackground\":true,\"ticks\":\"\",\"zerolinecolor\":\"white\"},\"zaxis\":{\"backgroundcolor\":\"#E5ECF6\",\"gridcolor\":\"white\",\"gridwidth\":2,\"linecolor\":\"white\",\"showbackground\":true,\"ticks\":\"\",\"zerolinecolor\":\"white\"}},\"shapedefaults\":{\"line\":{\"color\":\"#2a3f5f\"}},\"ternary\":{\"aaxis\":{\"gridcolor\":\"white\",\"linecolor\":\"white\",\"ticks\":\"\"},\"baxis\":{\"gridcolor\":\"white\",\"linecolor\":\"white\",\"ticks\":\"\"},\"bgcolor\":\"#E5ECF6\",\"caxis\":{\"gridcolor\":\"white\",\"linecolor\":\"white\",\"ticks\":\"\"}},\"title\":{\"x\":0.05},\"xaxis\":{\"automargin\":true,\"gridcolor\":\"white\",\"linecolor\":\"white\",\"ticks\":\"\",\"title\":{\"standoff\":15},\"zerolinecolor\":\"white\",\"zerolinewidth\":2},\"yaxis\":{\"automargin\":true,\"gridcolor\":\"white\",\"linecolor\":\"white\",\"ticks\":\"\",\"title\":{\"standoff\":15},\"zerolinecolor\":\"white\",\"zerolinewidth\":2}}},\"xaxis\":{\"anchor\":\"y\",\"domain\":[0.0,1.0],\"title\":{\"text\":\"Brand\"},\"categoryorder\":\"array\",\"categoryarray\":[\"Tesla \",\"Volkswagen \",\"Polestar \",\"BMW \",\"Honda \",\"Lucid \",\"Peugeot \",\"Audi \",\"Mercedes \",\"Nissan \",\"Hyundai \",\"Porsche \",\"MG \",\"Mini \",\"Opel \",\"Skoda \",\"Volvo \",\"Kia \",\"Renault \",\"Mazda \",\"Lexus \",\"CUPRA \",\"SEAT \",\"Lightyear \",\"Aiways \",\"DS \",\"Citroen \",\"Jaguar \",\"Ford \",\"Byton \",\"Sono \",\"Smart \",\"Fiat \"]},\"yaxis\":{\"anchor\":\"x\",\"domain\":[0.0,1.0],\"title\":{\"text\":\"Range\"}},\"legend\":{\"title\":{\"text\":\"Brand\"},\"tracegroupgap\":0,\"itemsizing\":\"constant\"},\"margin\":{\"t\":60}},                        {\"responsive\": true}                    ).then(function(){\n",
       "                            \n",
       "var gd = document.getElementById('e0d72eff-0c0f-468e-871d-642266a23601');\n",
       "var x = new MutationObserver(function (mutations, observer) {{\n",
       "        var display = window.getComputedStyle(gd).display;\n",
       "        if (!display || display === 'none') {{\n",
       "            console.log([gd, 'removed!']);\n",
       "            Plotly.purge(gd);\n",
       "            observer.disconnect();\n",
       "        }}\n",
       "}});\n",
       "\n",
       "// Listen for the removal of the full notebook cells\n",
       "var notebookContainer = gd.closest('#notebook-container');\n",
       "if (notebookContainer) {{\n",
       "    x.observe(notebookContainer, {childList: true});\n",
       "}}\n",
       "\n",
       "// Listen for the clearing of the current output cell\n",
       "var outputEl = gd.closest('.output');\n",
       "if (outputEl) {{\n",
       "    x.observe(outputEl, {childList: true});\n",
       "}}\n",
       "\n",
       "                        })                };                });            </script>        </div>"
      ]
     },
     "metadata": {},
     "output_type": "display_data"
    }
   ],
   "source": [
    "fig = px.scatter(df,x = 'Brand',y = 'Range',size='Seats',color = 'Brand',hover_data=['RapidCharge','inr(10e3)'])\n",
    "pio.show(fig)\n",
    "     "
   ]
  },
  {
   "cell_type": "code",
   "execution_count": 31,
   "id": "d6b515cc",
   "metadata": {},
   "outputs": [
    {
     "data": {
      "application/vnd.plotly.v1+json": {
       "config": {
        "plotlyServerURL": "https://plot.ly"
       },
       "data": [
        {
         "alignmentgroup": "True",
         "boxpoints": "all",
         "hovertemplate": "RapidCharge=%{x}<br>inr(10e3)=%{y}<extra></extra>",
         "legendgroup": "Rapid charging possible",
         "marker": {
          "color": "#636efa"
         },
         "name": "Rapid charging possible",
         "notched": false,
         "offsetgroup": "Rapid charging possible",
         "orientation": "v",
         "showlegend": true,
         "type": "box",
         "x": [
          "Rapid charging possible",
          "Rapid charging possible",
          "Rapid charging possible",
          "Rapid charging possible",
          "Rapid charging possible",
          "Rapid charging possible",
          "Rapid charging possible",
          "Rapid charging possible",
          "Rapid charging possible",
          "Rapid charging possible",
          "Rapid charging possible",
          "Rapid charging possible",
          "Rapid charging possible",
          "Rapid charging possible",
          "Rapid charging possible",
          "Rapid charging possible",
          "Rapid charging possible",
          "Rapid charging possible",
          "Rapid charging possible",
          "Rapid charging possible",
          "Rapid charging possible",
          "Rapid charging possible",
          "Rapid charging possible",
          "Rapid charging possible",
          "Rapid charging possible",
          "Rapid charging possible",
          "Rapid charging possible",
          "Rapid charging possible",
          "Rapid charging possible",
          "Rapid charging possible",
          "Rapid charging possible",
          "Rapid charging possible",
          "Rapid charging possible",
          "Rapid charging possible",
          "Rapid charging possible",
          "Rapid charging possible",
          "Rapid charging possible",
          "Rapid charging possible",
          "Rapid charging possible",
          "Rapid charging possible",
          "Rapid charging possible",
          "Rapid charging possible",
          "Rapid charging possible",
          "Rapid charging possible",
          "Rapid charging possible",
          "Rapid charging possible",
          "Rapid charging possible",
          "Rapid charging possible",
          "Rapid charging possible",
          "Rapid charging possible",
          "Rapid charging possible",
          "Rapid charging possible",
          "Rapid charging possible",
          "Rapid charging possible",
          "Rapid charging possible",
          "Rapid charging possible",
          "Rapid charging possible",
          "Rapid charging possible",
          "Rapid charging possible",
          "Rapid charging possible",
          "Rapid charging possible",
          "Rapid charging possible",
          "Rapid charging possible",
          "Rapid charging possible",
          "Rapid charging possible",
          "Rapid charging possible",
          "Rapid charging possible",
          "Rapid charging possible",
          "Rapid charging possible",
          "Rapid charging possible",
          "Rapid charging possible",
          "Rapid charging possible",
          "Rapid charging possible",
          "Rapid charging possible",
          "Rapid charging possible",
          "Rapid charging possible",
          "Rapid charging possible",
          "Rapid charging possible",
          "Rapid charging possible",
          "Rapid charging possible",
          "Rapid charging possible",
          "Rapid charging possible",
          "Rapid charging possible",
          "Rapid charging possible",
          "Rapid charging possible",
          "Rapid charging possible",
          "Rapid charging possible",
          "Rapid charging possible",
          "Rapid charging possible",
          "Rapid charging possible",
          "Rapid charging possible",
          "Rapid charging possible",
          "Rapid charging possible",
          "Rapid charging possible",
          "Rapid charging possible",
          "Rapid charging possible",
          "Rapid charging possible",
          "Rapid charging possible"
         ],
         "x0": " ",
         "xaxis": "x",
         "y": [
          4615.936,
          2496,
          4695.808,
          5660.928,
          2745.3504,
          8736,
          2654.08,
          2469.5424,
          3858.816,
          4576,
          5781.0688,
          2432.2688,
          3394.144,
          5408,
          2866.9888,
          3405.8752,
          15040.9792,
          1782.2271999999998,
          2496,
          2635.8592,
          2424.9472,
          4877.184,
          2912,
          10400,
          5115.1359999999995,
          3744,
          2745.6,
          5028.3584,
          3163.0144,
          2858.8352,
          5604.1856,
          3170.336,
          2594.5088,
          6240,
          2716.1472,
          3098.1184,
          4160,
          3744,
          2756.6656,
          3744,
          6655.168,
          2826.3871999999997,
          6792.364799999999,
          2041.2287999999999,
          1674.7328,
          3064.8383999999996,
          3486.5791999999997,
          8565.024,
          12396.8,
          2999.9424,
          6609.824,
          17888,
          2912,
          3328,
          7154.3679999999995,
          2988.6272,
          3113.5103999999997,
          3328,
          8069.567999999999,
          2432.2688,
          5459.584,
          4160,
          6269.2032,
          4532.32,
          9093.9264,
          2766.0672,
          4576,
          5233.28,
          3454.9631999999997,
          3744,
          12480,
          5324.8,
          2121.6,
          2862.08,
          4784,
          4492.8,
          12338.643199999999,
          3243.7183999999997,
          8568.768,
          3902.08,
          5876.499199999999,
          2903.68,
          3744,
          5786.6431999999995,
          3952,
          3120,
          7804.16,
          3064.8383999999996,
          4784,
          3153.2799999999997,
          2959.8399999999997,
          2756.6656,
          4451.2,
          3744,
          7991.36,
          4160,
          5408,
          5158.4
         ],
         "y0": " ",
         "yaxis": "y"
        },
        {
         "alignmentgroup": "True",
         "boxpoints": "all",
         "hovertemplate": "RapidCharge=%{x}<br>inr(10e3)=%{y}<extra></extra>",
         "legendgroup": "Rapid charging not possible",
         "marker": {
          "color": "#EF553B"
         },
         "name": "Rapid charging not possible",
         "notched": false,
         "offsetgroup": "Rapid charging not possible",
         "orientation": "v",
         "showlegend": true,
         "type": "box",
         "x": [
          "Rapid charging not possible",
          "Rapid charging not possible",
          "Rapid charging not possible",
          "Rapid charging not possible",
          "Rapid charging not possible"
         ],
         "x0": " ",
         "xaxis": "x",
         "y": [
          2062.528,
          3161.6,
          1832.896,
          1779.3983999999998,
          2043.808
         ],
         "y0": " ",
         "yaxis": "y"
        }
       ],
       "layout": {
        "boxmode": "overlay",
        "legend": {
         "title": {
          "text": "RapidCharge"
         },
         "tracegroupgap": 0
        },
        "margin": {
         "t": 60
        },
        "template": {
         "data": {
          "bar": [
           {
            "error_x": {
             "color": "#2a3f5f"
            },
            "error_y": {
             "color": "#2a3f5f"
            },
            "marker": {
             "line": {
              "color": "#E5ECF6",
              "width": 0.5
             },
             "pattern": {
              "fillmode": "overlay",
              "size": 10,
              "solidity": 0.2
             }
            },
            "type": "bar"
           }
          ],
          "barpolar": [
           {
            "marker": {
             "line": {
              "color": "#E5ECF6",
              "width": 0.5
             },
             "pattern": {
              "fillmode": "overlay",
              "size": 10,
              "solidity": 0.2
             }
            },
            "type": "barpolar"
           }
          ],
          "carpet": [
           {
            "aaxis": {
             "endlinecolor": "#2a3f5f",
             "gridcolor": "white",
             "linecolor": "white",
             "minorgridcolor": "white",
             "startlinecolor": "#2a3f5f"
            },
            "baxis": {
             "endlinecolor": "#2a3f5f",
             "gridcolor": "white",
             "linecolor": "white",
             "minorgridcolor": "white",
             "startlinecolor": "#2a3f5f"
            },
            "type": "carpet"
           }
          ],
          "choropleth": [
           {
            "colorbar": {
             "outlinewidth": 0,
             "ticks": ""
            },
            "type": "choropleth"
           }
          ],
          "contour": [
           {
            "colorbar": {
             "outlinewidth": 0,
             "ticks": ""
            },
            "colorscale": [
             [
              0,
              "#0d0887"
             ],
             [
              0.1111111111111111,
              "#46039f"
             ],
             [
              0.2222222222222222,
              "#7201a8"
             ],
             [
              0.3333333333333333,
              "#9c179e"
             ],
             [
              0.4444444444444444,
              "#bd3786"
             ],
             [
              0.5555555555555556,
              "#d8576b"
             ],
             [
              0.6666666666666666,
              "#ed7953"
             ],
             [
              0.7777777777777778,
              "#fb9f3a"
             ],
             [
              0.8888888888888888,
              "#fdca26"
             ],
             [
              1,
              "#f0f921"
             ]
            ],
            "type": "contour"
           }
          ],
          "contourcarpet": [
           {
            "colorbar": {
             "outlinewidth": 0,
             "ticks": ""
            },
            "type": "contourcarpet"
           }
          ],
          "heatmap": [
           {
            "colorbar": {
             "outlinewidth": 0,
             "ticks": ""
            },
            "colorscale": [
             [
              0,
              "#0d0887"
             ],
             [
              0.1111111111111111,
              "#46039f"
             ],
             [
              0.2222222222222222,
              "#7201a8"
             ],
             [
              0.3333333333333333,
              "#9c179e"
             ],
             [
              0.4444444444444444,
              "#bd3786"
             ],
             [
              0.5555555555555556,
              "#d8576b"
             ],
             [
              0.6666666666666666,
              "#ed7953"
             ],
             [
              0.7777777777777778,
              "#fb9f3a"
             ],
             [
              0.8888888888888888,
              "#fdca26"
             ],
             [
              1,
              "#f0f921"
             ]
            ],
            "type": "heatmap"
           }
          ],
          "heatmapgl": [
           {
            "colorbar": {
             "outlinewidth": 0,
             "ticks": ""
            },
            "colorscale": [
             [
              0,
              "#0d0887"
             ],
             [
              0.1111111111111111,
              "#46039f"
             ],
             [
              0.2222222222222222,
              "#7201a8"
             ],
             [
              0.3333333333333333,
              "#9c179e"
             ],
             [
              0.4444444444444444,
              "#bd3786"
             ],
             [
              0.5555555555555556,
              "#d8576b"
             ],
             [
              0.6666666666666666,
              "#ed7953"
             ],
             [
              0.7777777777777778,
              "#fb9f3a"
             ],
             [
              0.8888888888888888,
              "#fdca26"
             ],
             [
              1,
              "#f0f921"
             ]
            ],
            "type": "heatmapgl"
           }
          ],
          "histogram": [
           {
            "marker": {
             "pattern": {
              "fillmode": "overlay",
              "size": 10,
              "solidity": 0.2
             }
            },
            "type": "histogram"
           }
          ],
          "histogram2d": [
           {
            "colorbar": {
             "outlinewidth": 0,
             "ticks": ""
            },
            "colorscale": [
             [
              0,
              "#0d0887"
             ],
             [
              0.1111111111111111,
              "#46039f"
             ],
             [
              0.2222222222222222,
              "#7201a8"
             ],
             [
              0.3333333333333333,
              "#9c179e"
             ],
             [
              0.4444444444444444,
              "#bd3786"
             ],
             [
              0.5555555555555556,
              "#d8576b"
             ],
             [
              0.6666666666666666,
              "#ed7953"
             ],
             [
              0.7777777777777778,
              "#fb9f3a"
             ],
             [
              0.8888888888888888,
              "#fdca26"
             ],
             [
              1,
              "#f0f921"
             ]
            ],
            "type": "histogram2d"
           }
          ],
          "histogram2dcontour": [
           {
            "colorbar": {
             "outlinewidth": 0,
             "ticks": ""
            },
            "colorscale": [
             [
              0,
              "#0d0887"
             ],
             [
              0.1111111111111111,
              "#46039f"
             ],
             [
              0.2222222222222222,
              "#7201a8"
             ],
             [
              0.3333333333333333,
              "#9c179e"
             ],
             [
              0.4444444444444444,
              "#bd3786"
             ],
             [
              0.5555555555555556,
              "#d8576b"
             ],
             [
              0.6666666666666666,
              "#ed7953"
             ],
             [
              0.7777777777777778,
              "#fb9f3a"
             ],
             [
              0.8888888888888888,
              "#fdca26"
             ],
             [
              1,
              "#f0f921"
             ]
            ],
            "type": "histogram2dcontour"
           }
          ],
          "mesh3d": [
           {
            "colorbar": {
             "outlinewidth": 0,
             "ticks": ""
            },
            "type": "mesh3d"
           }
          ],
          "parcoords": [
           {
            "line": {
             "colorbar": {
              "outlinewidth": 0,
              "ticks": ""
             }
            },
            "type": "parcoords"
           }
          ],
          "pie": [
           {
            "automargin": true,
            "type": "pie"
           }
          ],
          "scatter": [
           {
            "marker": {
             "colorbar": {
              "outlinewidth": 0,
              "ticks": ""
             }
            },
            "type": "scatter"
           }
          ],
          "scatter3d": [
           {
            "line": {
             "colorbar": {
              "outlinewidth": 0,
              "ticks": ""
             }
            },
            "marker": {
             "colorbar": {
              "outlinewidth": 0,
              "ticks": ""
             }
            },
            "type": "scatter3d"
           }
          ],
          "scattercarpet": [
           {
            "marker": {
             "colorbar": {
              "outlinewidth": 0,
              "ticks": ""
             }
            },
            "type": "scattercarpet"
           }
          ],
          "scattergeo": [
           {
            "marker": {
             "colorbar": {
              "outlinewidth": 0,
              "ticks": ""
             }
            },
            "type": "scattergeo"
           }
          ],
          "scattergl": [
           {
            "marker": {
             "colorbar": {
              "outlinewidth": 0,
              "ticks": ""
             }
            },
            "type": "scattergl"
           }
          ],
          "scattermapbox": [
           {
            "marker": {
             "colorbar": {
              "outlinewidth": 0,
              "ticks": ""
             }
            },
            "type": "scattermapbox"
           }
          ],
          "scatterpolar": [
           {
            "marker": {
             "colorbar": {
              "outlinewidth": 0,
              "ticks": ""
             }
            },
            "type": "scatterpolar"
           }
          ],
          "scatterpolargl": [
           {
            "marker": {
             "colorbar": {
              "outlinewidth": 0,
              "ticks": ""
             }
            },
            "type": "scatterpolargl"
           }
          ],
          "scatterternary": [
           {
            "marker": {
             "colorbar": {
              "outlinewidth": 0,
              "ticks": ""
             }
            },
            "type": "scatterternary"
           }
          ],
          "surface": [
           {
            "colorbar": {
             "outlinewidth": 0,
             "ticks": ""
            },
            "colorscale": [
             [
              0,
              "#0d0887"
             ],
             [
              0.1111111111111111,
              "#46039f"
             ],
             [
              0.2222222222222222,
              "#7201a8"
             ],
             [
              0.3333333333333333,
              "#9c179e"
             ],
             [
              0.4444444444444444,
              "#bd3786"
             ],
             [
              0.5555555555555556,
              "#d8576b"
             ],
             [
              0.6666666666666666,
              "#ed7953"
             ],
             [
              0.7777777777777778,
              "#fb9f3a"
             ],
             [
              0.8888888888888888,
              "#fdca26"
             ],
             [
              1,
              "#f0f921"
             ]
            ],
            "type": "surface"
           }
          ],
          "table": [
           {
            "cells": {
             "fill": {
              "color": "#EBF0F8"
             },
             "line": {
              "color": "white"
             }
            },
            "header": {
             "fill": {
              "color": "#C8D4E3"
             },
             "line": {
              "color": "white"
             }
            },
            "type": "table"
           }
          ]
         },
         "layout": {
          "annotationdefaults": {
           "arrowcolor": "#2a3f5f",
           "arrowhead": 0,
           "arrowwidth": 1
          },
          "autotypenumbers": "strict",
          "coloraxis": {
           "colorbar": {
            "outlinewidth": 0,
            "ticks": ""
           }
          },
          "colorscale": {
           "diverging": [
            [
             0,
             "#8e0152"
            ],
            [
             0.1,
             "#c51b7d"
            ],
            [
             0.2,
             "#de77ae"
            ],
            [
             0.3,
             "#f1b6da"
            ],
            [
             0.4,
             "#fde0ef"
            ],
            [
             0.5,
             "#f7f7f7"
            ],
            [
             0.6,
             "#e6f5d0"
            ],
            [
             0.7,
             "#b8e186"
            ],
            [
             0.8,
             "#7fbc41"
            ],
            [
             0.9,
             "#4d9221"
            ],
            [
             1,
             "#276419"
            ]
           ],
           "sequential": [
            [
             0,
             "#0d0887"
            ],
            [
             0.1111111111111111,
             "#46039f"
            ],
            [
             0.2222222222222222,
             "#7201a8"
            ],
            [
             0.3333333333333333,
             "#9c179e"
            ],
            [
             0.4444444444444444,
             "#bd3786"
            ],
            [
             0.5555555555555556,
             "#d8576b"
            ],
            [
             0.6666666666666666,
             "#ed7953"
            ],
            [
             0.7777777777777778,
             "#fb9f3a"
            ],
            [
             0.8888888888888888,
             "#fdca26"
            ],
            [
             1,
             "#f0f921"
            ]
           ],
           "sequentialminus": [
            [
             0,
             "#0d0887"
            ],
            [
             0.1111111111111111,
             "#46039f"
            ],
            [
             0.2222222222222222,
             "#7201a8"
            ],
            [
             0.3333333333333333,
             "#9c179e"
            ],
            [
             0.4444444444444444,
             "#bd3786"
            ],
            [
             0.5555555555555556,
             "#d8576b"
            ],
            [
             0.6666666666666666,
             "#ed7953"
            ],
            [
             0.7777777777777778,
             "#fb9f3a"
            ],
            [
             0.8888888888888888,
             "#fdca26"
            ],
            [
             1,
             "#f0f921"
            ]
           ]
          },
          "colorway": [
           "#636efa",
           "#EF553B",
           "#00cc96",
           "#ab63fa",
           "#FFA15A",
           "#19d3f3",
           "#FF6692",
           "#B6E880",
           "#FF97FF",
           "#FECB52"
          ],
          "font": {
           "color": "#2a3f5f"
          },
          "geo": {
           "bgcolor": "white",
           "lakecolor": "white",
           "landcolor": "#E5ECF6",
           "showlakes": true,
           "showland": true,
           "subunitcolor": "white"
          },
          "hoverlabel": {
           "align": "left"
          },
          "hovermode": "closest",
          "mapbox": {
           "style": "light"
          },
          "paper_bgcolor": "white",
          "plot_bgcolor": "#E5ECF6",
          "polar": {
           "angularaxis": {
            "gridcolor": "white",
            "linecolor": "white",
            "ticks": ""
           },
           "bgcolor": "#E5ECF6",
           "radialaxis": {
            "gridcolor": "white",
            "linecolor": "white",
            "ticks": ""
           }
          },
          "scene": {
           "xaxis": {
            "backgroundcolor": "#E5ECF6",
            "gridcolor": "white",
            "gridwidth": 2,
            "linecolor": "white",
            "showbackground": true,
            "ticks": "",
            "zerolinecolor": "white"
           },
           "yaxis": {
            "backgroundcolor": "#E5ECF6",
            "gridcolor": "white",
            "gridwidth": 2,
            "linecolor": "white",
            "showbackground": true,
            "ticks": "",
            "zerolinecolor": "white"
           },
           "zaxis": {
            "backgroundcolor": "#E5ECF6",
            "gridcolor": "white",
            "gridwidth": 2,
            "linecolor": "white",
            "showbackground": true,
            "ticks": "",
            "zerolinecolor": "white"
           }
          },
          "shapedefaults": {
           "line": {
            "color": "#2a3f5f"
           }
          },
          "ternary": {
           "aaxis": {
            "gridcolor": "white",
            "linecolor": "white",
            "ticks": ""
           },
           "baxis": {
            "gridcolor": "white",
            "linecolor": "white",
            "ticks": ""
           },
           "bgcolor": "#E5ECF6",
           "caxis": {
            "gridcolor": "white",
            "linecolor": "white",
            "ticks": ""
           }
          },
          "title": {
           "x": 0.05
          },
          "xaxis": {
           "automargin": true,
           "gridcolor": "white",
           "linecolor": "white",
           "ticks": "",
           "title": {
            "standoff": 15
           },
           "zerolinecolor": "white",
           "zerolinewidth": 2
          },
          "yaxis": {
           "automargin": true,
           "gridcolor": "white",
           "linecolor": "white",
           "ticks": "",
           "title": {
            "standoff": 15
           },
           "zerolinecolor": "white",
           "zerolinewidth": 2
          }
         }
        },
        "xaxis": {
         "anchor": "y",
         "categoryarray": [
          "Rapid charging possible",
          "Rapid charging not possible"
         ],
         "categoryorder": "array",
         "domain": [
          0,
          1
         ],
         "title": {
          "text": "RapidCharge"
         }
        },
        "yaxis": {
         "anchor": "x",
         "domain": [
          0,
          1
         ],
         "title": {
          "text": "inr(10e3)"
         }
        }
       }
      },
      "text/html": [
       "<div>                            <div id=\"7ac59021-b4b8-499a-af8e-69e8323095bd\" class=\"plotly-graph-div\" style=\"height:525px; width:100%;\"></div>            <script type=\"text/javascript\">                require([\"plotly\"], function(Plotly) {                    window.PLOTLYENV=window.PLOTLYENV || {};                                    if (document.getElementById(\"7ac59021-b4b8-499a-af8e-69e8323095bd\")) {                    Plotly.newPlot(                        \"7ac59021-b4b8-499a-af8e-69e8323095bd\",                        [{\"alignmentgroup\":\"True\",\"boxpoints\":\"all\",\"hovertemplate\":\"RapidCharge=%{x}<br>inr(10e3)=%{y}<extra></extra>\",\"legendgroup\":\"Rapid charging possible\",\"marker\":{\"color\":\"#636efa\"},\"name\":\"Rapid charging possible\",\"notched\":false,\"offsetgroup\":\"Rapid charging possible\",\"orientation\":\"v\",\"showlegend\":true,\"x\":[\"Rapid charging possible\",\"Rapid charging possible\",\"Rapid charging possible\",\"Rapid charging possible\",\"Rapid charging possible\",\"Rapid charging possible\",\"Rapid charging possible\",\"Rapid charging possible\",\"Rapid charging possible\",\"Rapid charging possible\",\"Rapid charging possible\",\"Rapid charging possible\",\"Rapid charging possible\",\"Rapid charging possible\",\"Rapid charging possible\",\"Rapid charging possible\",\"Rapid charging possible\",\"Rapid charging possible\",\"Rapid charging possible\",\"Rapid charging possible\",\"Rapid charging possible\",\"Rapid charging possible\",\"Rapid charging possible\",\"Rapid charging possible\",\"Rapid charging possible\",\"Rapid charging possible\",\"Rapid charging possible\",\"Rapid charging possible\",\"Rapid charging possible\",\"Rapid charging possible\",\"Rapid charging possible\",\"Rapid charging possible\",\"Rapid charging possible\",\"Rapid charging possible\",\"Rapid charging possible\",\"Rapid charging possible\",\"Rapid charging possible\",\"Rapid charging possible\",\"Rapid charging possible\",\"Rapid charging possible\",\"Rapid charging possible\",\"Rapid charging possible\",\"Rapid charging possible\",\"Rapid charging possible\",\"Rapid charging possible\",\"Rapid charging possible\",\"Rapid charging possible\",\"Rapid charging possible\",\"Rapid charging possible\",\"Rapid charging possible\",\"Rapid charging possible\",\"Rapid charging possible\",\"Rapid charging possible\",\"Rapid charging possible\",\"Rapid charging possible\",\"Rapid charging possible\",\"Rapid charging possible\",\"Rapid charging possible\",\"Rapid charging possible\",\"Rapid charging possible\",\"Rapid charging possible\",\"Rapid charging possible\",\"Rapid charging possible\",\"Rapid charging possible\",\"Rapid charging possible\",\"Rapid charging possible\",\"Rapid charging possible\",\"Rapid charging possible\",\"Rapid charging possible\",\"Rapid charging possible\",\"Rapid charging possible\",\"Rapid charging possible\",\"Rapid charging possible\",\"Rapid charging possible\",\"Rapid charging possible\",\"Rapid charging possible\",\"Rapid charging possible\",\"Rapid charging possible\",\"Rapid charging possible\",\"Rapid charging possible\",\"Rapid charging possible\",\"Rapid charging possible\",\"Rapid charging possible\",\"Rapid charging possible\",\"Rapid charging possible\",\"Rapid charging possible\",\"Rapid charging possible\",\"Rapid charging possible\",\"Rapid charging possible\",\"Rapid charging possible\",\"Rapid charging possible\",\"Rapid charging possible\",\"Rapid charging possible\",\"Rapid charging possible\",\"Rapid charging possible\",\"Rapid charging possible\",\"Rapid charging possible\",\"Rapid charging possible\"],\"x0\":\" \",\"xaxis\":\"x\",\"y\":[4615.936,2496.0,4695.808,5660.928,2745.3504,8736.0,2654.08,2469.5424,3858.816,4576.0,5781.0688,2432.2688,3394.144,5408.0,2866.9888,3405.8752,15040.9792,1782.2271999999998,2496.0,2635.8592,2424.9472,4877.184,2912.0,10400.0,5115.1359999999995,3744.0,2745.6,5028.3584,3163.0144,2858.8352,5604.1856,3170.336,2594.5088,6240.0,2716.1472,3098.1184,4160.0,3744.0,2756.6656,3744.0,6655.168,2826.3871999999997,6792.364799999999,2041.2287999999999,1674.7328,3064.8383999999996,3486.5791999999997,8565.024,12396.8,2999.9424,6609.824,17888.0,2912.0,3328.0,7154.3679999999995,2988.6272,3113.5103999999997,3328.0,8069.567999999999,2432.2688,5459.584,4160.0,6269.2032,4532.32,9093.9264,2766.0672,4576.0,5233.28,3454.9631999999997,3744.0,12480.0,5324.8,2121.6,2862.08,4784.0,4492.8,12338.643199999999,3243.7183999999997,8568.768,3902.08,5876.499199999999,2903.68,3744.0,5786.6431999999995,3952.0,3120.0,7804.16,3064.8383999999996,4784.0,3153.2799999999997,2959.8399999999997,2756.6656,4451.2,3744.0,7991.36,4160.0,5408.0,5158.4],\"y0\":\" \",\"yaxis\":\"y\",\"type\":\"box\"},{\"alignmentgroup\":\"True\",\"boxpoints\":\"all\",\"hovertemplate\":\"RapidCharge=%{x}<br>inr(10e3)=%{y}<extra></extra>\",\"legendgroup\":\"Rapid charging not possible\",\"marker\":{\"color\":\"#EF553B\"},\"name\":\"Rapid charging not possible\",\"notched\":false,\"offsetgroup\":\"Rapid charging not possible\",\"orientation\":\"v\",\"showlegend\":true,\"x\":[\"Rapid charging not possible\",\"Rapid charging not possible\",\"Rapid charging not possible\",\"Rapid charging not possible\",\"Rapid charging not possible\"],\"x0\":\" \",\"xaxis\":\"x\",\"y\":[2062.528,3161.6,1832.896,1779.3983999999998,2043.808],\"y0\":\" \",\"yaxis\":\"y\",\"type\":\"box\"}],                        {\"template\":{\"data\":{\"bar\":[{\"error_x\":{\"color\":\"#2a3f5f\"},\"error_y\":{\"color\":\"#2a3f5f\"},\"marker\":{\"line\":{\"color\":\"#E5ECF6\",\"width\":0.5},\"pattern\":{\"fillmode\":\"overlay\",\"size\":10,\"solidity\":0.2}},\"type\":\"bar\"}],\"barpolar\":[{\"marker\":{\"line\":{\"color\":\"#E5ECF6\",\"width\":0.5},\"pattern\":{\"fillmode\":\"overlay\",\"size\":10,\"solidity\":0.2}},\"type\":\"barpolar\"}],\"carpet\":[{\"aaxis\":{\"endlinecolor\":\"#2a3f5f\",\"gridcolor\":\"white\",\"linecolor\":\"white\",\"minorgridcolor\":\"white\",\"startlinecolor\":\"#2a3f5f\"},\"baxis\":{\"endlinecolor\":\"#2a3f5f\",\"gridcolor\":\"white\",\"linecolor\":\"white\",\"minorgridcolor\":\"white\",\"startlinecolor\":\"#2a3f5f\"},\"type\":\"carpet\"}],\"choropleth\":[{\"colorbar\":{\"outlinewidth\":0,\"ticks\":\"\"},\"type\":\"choropleth\"}],\"contour\":[{\"colorbar\":{\"outlinewidth\":0,\"ticks\":\"\"},\"colorscale\":[[0.0,\"#0d0887\"],[0.1111111111111111,\"#46039f\"],[0.2222222222222222,\"#7201a8\"],[0.3333333333333333,\"#9c179e\"],[0.4444444444444444,\"#bd3786\"],[0.5555555555555556,\"#d8576b\"],[0.6666666666666666,\"#ed7953\"],[0.7777777777777778,\"#fb9f3a\"],[0.8888888888888888,\"#fdca26\"],[1.0,\"#f0f921\"]],\"type\":\"contour\"}],\"contourcarpet\":[{\"colorbar\":{\"outlinewidth\":0,\"ticks\":\"\"},\"type\":\"contourcarpet\"}],\"heatmap\":[{\"colorbar\":{\"outlinewidth\":0,\"ticks\":\"\"},\"colorscale\":[[0.0,\"#0d0887\"],[0.1111111111111111,\"#46039f\"],[0.2222222222222222,\"#7201a8\"],[0.3333333333333333,\"#9c179e\"],[0.4444444444444444,\"#bd3786\"],[0.5555555555555556,\"#d8576b\"],[0.6666666666666666,\"#ed7953\"],[0.7777777777777778,\"#fb9f3a\"],[0.8888888888888888,\"#fdca26\"],[1.0,\"#f0f921\"]],\"type\":\"heatmap\"}],\"heatmapgl\":[{\"colorbar\":{\"outlinewidth\":0,\"ticks\":\"\"},\"colorscale\":[[0.0,\"#0d0887\"],[0.1111111111111111,\"#46039f\"],[0.2222222222222222,\"#7201a8\"],[0.3333333333333333,\"#9c179e\"],[0.4444444444444444,\"#bd3786\"],[0.5555555555555556,\"#d8576b\"],[0.6666666666666666,\"#ed7953\"],[0.7777777777777778,\"#fb9f3a\"],[0.8888888888888888,\"#fdca26\"],[1.0,\"#f0f921\"]],\"type\":\"heatmapgl\"}],\"histogram\":[{\"marker\":{\"pattern\":{\"fillmode\":\"overlay\",\"size\":10,\"solidity\":0.2}},\"type\":\"histogram\"}],\"histogram2d\":[{\"colorbar\":{\"outlinewidth\":0,\"ticks\":\"\"},\"colorscale\":[[0.0,\"#0d0887\"],[0.1111111111111111,\"#46039f\"],[0.2222222222222222,\"#7201a8\"],[0.3333333333333333,\"#9c179e\"],[0.4444444444444444,\"#bd3786\"],[0.5555555555555556,\"#d8576b\"],[0.6666666666666666,\"#ed7953\"],[0.7777777777777778,\"#fb9f3a\"],[0.8888888888888888,\"#fdca26\"],[1.0,\"#f0f921\"]],\"type\":\"histogram2d\"}],\"histogram2dcontour\":[{\"colorbar\":{\"outlinewidth\":0,\"ticks\":\"\"},\"colorscale\":[[0.0,\"#0d0887\"],[0.1111111111111111,\"#46039f\"],[0.2222222222222222,\"#7201a8\"],[0.3333333333333333,\"#9c179e\"],[0.4444444444444444,\"#bd3786\"],[0.5555555555555556,\"#d8576b\"],[0.6666666666666666,\"#ed7953\"],[0.7777777777777778,\"#fb9f3a\"],[0.8888888888888888,\"#fdca26\"],[1.0,\"#f0f921\"]],\"type\":\"histogram2dcontour\"}],\"mesh3d\":[{\"colorbar\":{\"outlinewidth\":0,\"ticks\":\"\"},\"type\":\"mesh3d\"}],\"parcoords\":[{\"line\":{\"colorbar\":{\"outlinewidth\":0,\"ticks\":\"\"}},\"type\":\"parcoords\"}],\"pie\":[{\"automargin\":true,\"type\":\"pie\"}],\"scatter\":[{\"marker\":{\"colorbar\":{\"outlinewidth\":0,\"ticks\":\"\"}},\"type\":\"scatter\"}],\"scatter3d\":[{\"line\":{\"colorbar\":{\"outlinewidth\":0,\"ticks\":\"\"}},\"marker\":{\"colorbar\":{\"outlinewidth\":0,\"ticks\":\"\"}},\"type\":\"scatter3d\"}],\"scattercarpet\":[{\"marker\":{\"colorbar\":{\"outlinewidth\":0,\"ticks\":\"\"}},\"type\":\"scattercarpet\"}],\"scattergeo\":[{\"marker\":{\"colorbar\":{\"outlinewidth\":0,\"ticks\":\"\"}},\"type\":\"scattergeo\"}],\"scattergl\":[{\"marker\":{\"colorbar\":{\"outlinewidth\":0,\"ticks\":\"\"}},\"type\":\"scattergl\"}],\"scattermapbox\":[{\"marker\":{\"colorbar\":{\"outlinewidth\":0,\"ticks\":\"\"}},\"type\":\"scattermapbox\"}],\"scatterpolar\":[{\"marker\":{\"colorbar\":{\"outlinewidth\":0,\"ticks\":\"\"}},\"type\":\"scatterpolar\"}],\"scatterpolargl\":[{\"marker\":{\"colorbar\":{\"outlinewidth\":0,\"ticks\":\"\"}},\"type\":\"scatterpolargl\"}],\"scatterternary\":[{\"marker\":{\"colorbar\":{\"outlinewidth\":0,\"ticks\":\"\"}},\"type\":\"scatterternary\"}],\"surface\":[{\"colorbar\":{\"outlinewidth\":0,\"ticks\":\"\"},\"colorscale\":[[0.0,\"#0d0887\"],[0.1111111111111111,\"#46039f\"],[0.2222222222222222,\"#7201a8\"],[0.3333333333333333,\"#9c179e\"],[0.4444444444444444,\"#bd3786\"],[0.5555555555555556,\"#d8576b\"],[0.6666666666666666,\"#ed7953\"],[0.7777777777777778,\"#fb9f3a\"],[0.8888888888888888,\"#fdca26\"],[1.0,\"#f0f921\"]],\"type\":\"surface\"}],\"table\":[{\"cells\":{\"fill\":{\"color\":\"#EBF0F8\"},\"line\":{\"color\":\"white\"}},\"header\":{\"fill\":{\"color\":\"#C8D4E3\"},\"line\":{\"color\":\"white\"}},\"type\":\"table\"}]},\"layout\":{\"annotationdefaults\":{\"arrowcolor\":\"#2a3f5f\",\"arrowhead\":0,\"arrowwidth\":1},\"autotypenumbers\":\"strict\",\"coloraxis\":{\"colorbar\":{\"outlinewidth\":0,\"ticks\":\"\"}},\"colorscale\":{\"diverging\":[[0,\"#8e0152\"],[0.1,\"#c51b7d\"],[0.2,\"#de77ae\"],[0.3,\"#f1b6da\"],[0.4,\"#fde0ef\"],[0.5,\"#f7f7f7\"],[0.6,\"#e6f5d0\"],[0.7,\"#b8e186\"],[0.8,\"#7fbc41\"],[0.9,\"#4d9221\"],[1,\"#276419\"]],\"sequential\":[[0.0,\"#0d0887\"],[0.1111111111111111,\"#46039f\"],[0.2222222222222222,\"#7201a8\"],[0.3333333333333333,\"#9c179e\"],[0.4444444444444444,\"#bd3786\"],[0.5555555555555556,\"#d8576b\"],[0.6666666666666666,\"#ed7953\"],[0.7777777777777778,\"#fb9f3a\"],[0.8888888888888888,\"#fdca26\"],[1.0,\"#f0f921\"]],\"sequentialminus\":[[0.0,\"#0d0887\"],[0.1111111111111111,\"#46039f\"],[0.2222222222222222,\"#7201a8\"],[0.3333333333333333,\"#9c179e\"],[0.4444444444444444,\"#bd3786\"],[0.5555555555555556,\"#d8576b\"],[0.6666666666666666,\"#ed7953\"],[0.7777777777777778,\"#fb9f3a\"],[0.8888888888888888,\"#fdca26\"],[1.0,\"#f0f921\"]]},\"colorway\":[\"#636efa\",\"#EF553B\",\"#00cc96\",\"#ab63fa\",\"#FFA15A\",\"#19d3f3\",\"#FF6692\",\"#B6E880\",\"#FF97FF\",\"#FECB52\"],\"font\":{\"color\":\"#2a3f5f\"},\"geo\":{\"bgcolor\":\"white\",\"lakecolor\":\"white\",\"landcolor\":\"#E5ECF6\",\"showlakes\":true,\"showland\":true,\"subunitcolor\":\"white\"},\"hoverlabel\":{\"align\":\"left\"},\"hovermode\":\"closest\",\"mapbox\":{\"style\":\"light\"},\"paper_bgcolor\":\"white\",\"plot_bgcolor\":\"#E5ECF6\",\"polar\":{\"angularaxis\":{\"gridcolor\":\"white\",\"linecolor\":\"white\",\"ticks\":\"\"},\"bgcolor\":\"#E5ECF6\",\"radialaxis\":{\"gridcolor\":\"white\",\"linecolor\":\"white\",\"ticks\":\"\"}},\"scene\":{\"xaxis\":{\"backgroundcolor\":\"#E5ECF6\",\"gridcolor\":\"white\",\"gridwidth\":2,\"linecolor\":\"white\",\"showbackground\":true,\"ticks\":\"\",\"zerolinecolor\":\"white\"},\"yaxis\":{\"backgroundcolor\":\"#E5ECF6\",\"gridcolor\":\"white\",\"gridwidth\":2,\"linecolor\":\"white\",\"showbackground\":true,\"ticks\":\"\",\"zerolinecolor\":\"white\"},\"zaxis\":{\"backgroundcolor\":\"#E5ECF6\",\"gridcolor\":\"white\",\"gridwidth\":2,\"linecolor\":\"white\",\"showbackground\":true,\"ticks\":\"\",\"zerolinecolor\":\"white\"}},\"shapedefaults\":{\"line\":{\"color\":\"#2a3f5f\"}},\"ternary\":{\"aaxis\":{\"gridcolor\":\"white\",\"linecolor\":\"white\",\"ticks\":\"\"},\"baxis\":{\"gridcolor\":\"white\",\"linecolor\":\"white\",\"ticks\":\"\"},\"bgcolor\":\"#E5ECF6\",\"caxis\":{\"gridcolor\":\"white\",\"linecolor\":\"white\",\"ticks\":\"\"}},\"title\":{\"x\":0.05},\"xaxis\":{\"automargin\":true,\"gridcolor\":\"white\",\"linecolor\":\"white\",\"ticks\":\"\",\"title\":{\"standoff\":15},\"zerolinecolor\":\"white\",\"zerolinewidth\":2},\"yaxis\":{\"automargin\":true,\"gridcolor\":\"white\",\"linecolor\":\"white\",\"ticks\":\"\",\"title\":{\"standoff\":15},\"zerolinecolor\":\"white\",\"zerolinewidth\":2}}},\"xaxis\":{\"anchor\":\"y\",\"domain\":[0.0,1.0],\"title\":{\"text\":\"RapidCharge\"},\"categoryorder\":\"array\",\"categoryarray\":[\"Rapid charging possible\",\"Rapid charging not possible\"]},\"yaxis\":{\"anchor\":\"x\",\"domain\":[0.0,1.0],\"title\":{\"text\":\"inr(10e3)\"}},\"legend\":{\"title\":{\"text\":\"RapidCharge\"},\"tracegroupgap\":0},\"margin\":{\"t\":60},\"boxmode\":\"overlay\"},                        {\"responsive\": true}                    ).then(function(){\n",
       "                            \n",
       "var gd = document.getElementById('7ac59021-b4b8-499a-af8e-69e8323095bd');\n",
       "var x = new MutationObserver(function (mutations, observer) {{\n",
       "        var display = window.getComputedStyle(gd).display;\n",
       "        if (!display || display === 'none') {{\n",
       "            console.log([gd, 'removed!']);\n",
       "            Plotly.purge(gd);\n",
       "            observer.disconnect();\n",
       "        }}\n",
       "}});\n",
       "\n",
       "// Listen for the removal of the full notebook cells\n",
       "var notebookContainer = gd.closest('#notebook-container');\n",
       "if (notebookContainer) {{\n",
       "    x.observe(notebookContainer, {childList: true});\n",
       "}}\n",
       "\n",
       "// Listen for the clearing of the current output cell\n",
       "var outputEl = gd.closest('.output');\n",
       "if (outputEl) {{\n",
       "    x.observe(outputEl, {childList: true});\n",
       "}}\n",
       "\n",
       "                        })                };                });            </script>        </div>"
      ]
     },
     "metadata": {},
     "output_type": "display_data"
    }
   ],
   "source": [
    "fig = px.scatter_3d(df,x = 'Brand',y = 'Seats',z = 'Segment',color='Brand')\n",
    "     \n",
    "\n",
    "fig = px.scatter_3d(df,x = 'Brand',y = 'Accel',z = 'inr(10e3)',color = 'Brand')\n",
    "     \n",
    "\n",
    "fig = px.box(df,x='RapidCharge',y = 'inr(10e3)',color = 'RapidCharge',points='all')\n",
    "pio.show(fig)"
   ]
  },
  {
   "cell_type": "code",
   "execution_count": 35,
   "id": "02f69076",
   "metadata": {},
   "outputs": [],
   "source": [
    "a=np.arange(1,104)"
   ]
  },
  {
   "cell_type": "code",
   "execution_count": 36,
   "id": "09c53728",
   "metadata": {},
   "outputs": [
    {
     "data": {
      "text/plain": [
       "(array([ 0,  1,  2,  3,  4,  5,  6,  7,  8,  9, 10, 11, 12, 13, 14, 15, 16,\n",
       "        17, 18, 19, 20, 21, 22, 23, 24, 25, 26, 27, 28, 29, 30, 31, 32]),\n",
       " [Text(0, 0, 'Tesla '),\n",
       "  Text(1, 0, 'Volkswagen '),\n",
       "  Text(2, 0, 'Polestar '),\n",
       "  Text(3, 0, 'BMW '),\n",
       "  Text(4, 0, 'Honda '),\n",
       "  Text(5, 0, 'Lucid '),\n",
       "  Text(6, 0, 'Peugeot '),\n",
       "  Text(7, 0, 'Audi '),\n",
       "  Text(8, 0, 'Mercedes '),\n",
       "  Text(9, 0, 'Nissan '),\n",
       "  Text(10, 0, 'Hyundai '),\n",
       "  Text(11, 0, 'Porsche '),\n",
       "  Text(12, 0, 'MG '),\n",
       "  Text(13, 0, 'Mini '),\n",
       "  Text(14, 0, 'Opel '),\n",
       "  Text(15, 0, 'Skoda '),\n",
       "  Text(16, 0, 'Volvo '),\n",
       "  Text(17, 0, 'Kia '),\n",
       "  Text(18, 0, 'Renault '),\n",
       "  Text(19, 0, 'Mazda '),\n",
       "  Text(20, 0, 'Lexus '),\n",
       "  Text(21, 0, 'CUPRA '),\n",
       "  Text(22, 0, 'SEAT '),\n",
       "  Text(23, 0, 'Lightyear '),\n",
       "  Text(24, 0, 'Aiways '),\n",
       "  Text(25, 0, 'DS '),\n",
       "  Text(26, 0, 'Citroen '),\n",
       "  Text(27, 0, 'Jaguar '),\n",
       "  Text(28, 0, 'Ford '),\n",
       "  Text(29, 0, 'Byton '),\n",
       "  Text(30, 0, 'Sono '),\n",
       "  Text(31, 0, 'Smart '),\n",
       "  Text(32, 0, 'Fiat ')])"
      ]
     },
     "execution_count": 36,
     "metadata": {},
     "output_type": "execute_result"
    },
    {
     "data": {
      "image/png": "[encoded data removed]",
      "text/plain": [
       "<Figure size 1440x360 with 1 Axes>"
      ]
     },
     "metadata": {
      "needs_background": "light"
     },
     "output_type": "display_data"
    }
   ],
   "source": [
    "ax= plt.figure(figsize=(20,5))\n",
    "sb.barplot(x='Brand',y=a,data=df)\n",
    "plt.grid(axis='y')\n",
    "plt.title('Brands in the datset')\n",
    "plt.xlabel('Brand')\n",
    "plt.ylabel('Frequency')\n",
    "plt.xticks(rotation=45)"
   ]
  },
  {
   "cell_type": "code",
   "execution_count": 41,
   "id": "e9da12b0",
   "metadata": {},
   "outputs": [
    {
     "data": {
      "text/plain": [
       "Text(0.5, 1.0, 'Plug Type')"
      ]
     },
     "execution_count": 41,
     "metadata": {},
     "output_type": "execute_result"
    },
    {
     "data": {
      "image/png": "[encoded data removed]",
      "text/plain": [
       "<Figure size 576x1080 with 1 Axes>"
      ]
     },
     "metadata": {},
     "output_type": "display_data"
    }
   ],
   "source": [
    "df['PlugType'].value_counts().plot.pie(figsize=(8,15),autopct='%.0f%%',explode=(.1,.1,.1,.1))\n",
    "plt.title('Plug Type')"
   ]
  },
  {
   "cell_type": "code",
   "execution_count": 42,
   "id": "c00cbe10",
   "metadata": {},
   "outputs": [
    {
     "data": {
      "text/plain": [
       "Text(0.5, 1.0, 'Body Style')"
      ]
     },
     "execution_count": 42,
     "metadata": {},
     "output_type": "execute_result"
    },
    {
     "data": {
      "image/png": "[encoded data removed]",
      "text/plain": [
       "<Figure size 576x1080 with 1 Axes>"
      ]
     },
     "metadata": {},
     "output_type": "display_data"
    }
   ],
   "source": [
    "df['BodyStyle'].value_counts().plot.pie(figsize=(8,15),autopct='%.0f%%',explode=(0.1,0.1,0.1,0.1,0.1,0.1,0.1,0.1,0.1))\n",
    "plt.title('Body Style')"
   ]
  },
  {
   "cell_type": "code",
   "execution_count": 43,
   "id": "ebe74147",
   "metadata": {},
   "outputs": [],
   "source": [
    "df['PowerTrain'].replace(to_replace=['RWD','AWD','FWD'],value=[0, 2,1],inplace=True)\n",
    "x=df[['Accel','Range','TopSpeed','Efficiency', 'RapidCharge','PowerTrain']]\n",
    "y=df['PriceEuro']"
   ]
  },
  {
   "cell_type": "code",
   "execution_count": 51,
   "id": "bbfef34a",
   "metadata": {},
   "outputs": [],
   "source": [
    "from sklearn.model_selection import train_test_split\n",
    "X_train, X_test, y_train, y_test = train_test_split(x, y, test_size=0.3,random_state=365)"
   ]
  },
  {
   "cell_type": "code",
   "execution_count": 53,
   "id": "d2242ef9",
   "metadata": {},
   "outputs": [
    {
     "ename": "ValueError",
     "evalue": "could not convert string to float: '4.0 sec'",
     "output_type": "error",
     "traceback": [
      "\u001b[1;31m---------------------------------------------------------------------------\u001b[0m",
      "\u001b[1;31mValueError\u001b[0m                                Traceback (most recent call last)",
      "Input \u001b[1;32mIn [53]\u001b[0m, in \u001b[0;36m<cell line: 3>\u001b[1;34m()\u001b[0m\n\u001b[0;32m      1\u001b[0m \u001b[38;5;28;01mfrom\u001b[39;00m \u001b[38;5;21;01msklearn\u001b[39;00m\u001b[38;5;21;01m.\u001b[39;00m\u001b[38;5;21;01mlinear_model\u001b[39;00m \u001b[38;5;28;01mimport\u001b[39;00m LinearRegression\n\u001b[0;32m      2\u001b[0m lr\u001b[38;5;241m=\u001b[39m LinearRegression()\n\u001b[1;32m----> 3\u001b[0m \u001b[43mlr\u001b[49m\u001b[38;5;241;43m.\u001b[39;49m\u001b[43mfit\u001b[49m\u001b[43m(\u001b[49m\u001b[43mX_train\u001b[49m\u001b[43m,\u001b[49m\u001b[43m \u001b[49m\u001b[43my_train\u001b[49m\u001b[43m)\u001b[49m\n\u001b[0;32m      4\u001b[0m pred \u001b[38;5;241m=\u001b[39m lr\u001b[38;5;241m.\u001b[39mpredict(X_test)\n",
      "File \u001b[1;32m~\\anaconda3\\lib\\site-packages\\sklearn\\linear_model\\_base.py:648\u001b[0m, in \u001b[0;36mLinearRegression.fit\u001b[1;34m(self, X, y, sample_weight)\u001b[0m\n\u001b[0;32m    644\u001b[0m n_jobs_ \u001b[38;5;241m=\u001b[39m \u001b[38;5;28mself\u001b[39m\u001b[38;5;241m.\u001b[39mn_jobs\n\u001b[0;32m    646\u001b[0m accept_sparse \u001b[38;5;241m=\u001b[39m \u001b[38;5;28;01mFalse\u001b[39;00m \u001b[38;5;28;01mif\u001b[39;00m \u001b[38;5;28mself\u001b[39m\u001b[38;5;241m.\u001b[39mpositive \u001b[38;5;28;01melse\u001b[39;00m [\u001b[38;5;124m\"\u001b[39m\u001b[38;5;124mcsr\u001b[39m\u001b[38;5;124m\"\u001b[39m, \u001b[38;5;124m\"\u001b[39m\u001b[38;5;124mcsc\u001b[39m\u001b[38;5;124m\"\u001b[39m, \u001b[38;5;124m\"\u001b[39m\u001b[38;5;124mcoo\u001b[39m\u001b[38;5;124m\"\u001b[39m]\n\u001b[1;32m--> 648\u001b[0m X, y \u001b[38;5;241m=\u001b[39m \u001b[38;5;28;43mself\u001b[39;49m\u001b[38;5;241;43m.\u001b[39;49m\u001b[43m_validate_data\u001b[49m\u001b[43m(\u001b[49m\n\u001b[0;32m    649\u001b[0m \u001b[43m    \u001b[49m\u001b[43mX\u001b[49m\u001b[43m,\u001b[49m\u001b[43m \u001b[49m\u001b[43my\u001b[49m\u001b[43m,\u001b[49m\u001b[43m \u001b[49m\u001b[43maccept_sparse\u001b[49m\u001b[38;5;241;43m=\u001b[39;49m\u001b[43maccept_sparse\u001b[49m\u001b[43m,\u001b[49m\u001b[43m \u001b[49m\u001b[43my_numeric\u001b[49m\u001b[38;5;241;43m=\u001b[39;49m\u001b[38;5;28;43;01mTrue\u001b[39;49;00m\u001b[43m,\u001b[49m\u001b[43m \u001b[49m\u001b[43mmulti_output\u001b[49m\u001b[38;5;241;43m=\u001b[39;49m\u001b[38;5;28;43;01mTrue\u001b[39;49;00m\n\u001b[0;32m    650\u001b[0m \u001b[43m\u001b[49m\u001b[43m)\u001b[49m\n\u001b[0;32m    652\u001b[0m sample_weight \u001b[38;5;241m=\u001b[39m _check_sample_weight(\n\u001b[0;32m    653\u001b[0m     sample_weight, X, dtype\u001b[38;5;241m=\u001b[39mX\u001b[38;5;241m.\u001b[39mdtype, only_non_negative\u001b[38;5;241m=\u001b[39m\u001b[38;5;28;01mTrue\u001b[39;00m\n\u001b[0;32m    654\u001b[0m )\n\u001b[0;32m    656\u001b[0m X, y, X_offset, y_offset, X_scale \u001b[38;5;241m=\u001b[39m _preprocess_data(\n\u001b[0;32m    657\u001b[0m     X,\n\u001b[0;32m    658\u001b[0m     y,\n\u001b[1;32m   (...)\u001b[0m\n\u001b[0;32m    661\u001b[0m     sample_weight\u001b[38;5;241m=\u001b[39msample_weight,\n\u001b[0;32m    662\u001b[0m )\n",
      "File \u001b[1;32m~\\anaconda3\\lib\\site-packages\\sklearn\\base.py:584\u001b[0m, in \u001b[0;36mBaseEstimator._validate_data\u001b[1;34m(self, X, y, reset, validate_separately, **check_params)\u001b[0m\n\u001b[0;32m    582\u001b[0m         y \u001b[38;5;241m=\u001b[39m check_array(y, input_name\u001b[38;5;241m=\u001b[39m\u001b[38;5;124m\"\u001b[39m\u001b[38;5;124my\u001b[39m\u001b[38;5;124m\"\u001b[39m, \u001b[38;5;241m*\u001b[39m\u001b[38;5;241m*\u001b[39mcheck_y_params)\n\u001b[0;32m    583\u001b[0m     \u001b[38;5;28;01melse\u001b[39;00m:\n\u001b[1;32m--> 584\u001b[0m         X, y \u001b[38;5;241m=\u001b[39m check_X_y(X, y, \u001b[38;5;241m*\u001b[39m\u001b[38;5;241m*\u001b[39mcheck_params)\n\u001b[0;32m    585\u001b[0m     out \u001b[38;5;241m=\u001b[39m X, y\n\u001b[0;32m    587\u001b[0m \u001b[38;5;28;01mif\u001b[39;00m \u001b[38;5;129;01mnot\u001b[39;00m no_val_X \u001b[38;5;129;01mand\u001b[39;00m check_params\u001b[38;5;241m.\u001b[39mget(\u001b[38;5;124m\"\u001b[39m\u001b[38;5;124mensure_2d\u001b[39m\u001b[38;5;124m\"\u001b[39m, \u001b[38;5;28;01mTrue\u001b[39;00m):\n",
      "File \u001b[1;32m~\\anaconda3\\lib\\site-packages\\sklearn\\utils\\validation.py:1106\u001b[0m, in \u001b[0;36mcheck_X_y\u001b[1;34m(X, y, accept_sparse, accept_large_sparse, dtype, order, copy, force_all_finite, ensure_2d, allow_nd, multi_output, ensure_min_samples, ensure_min_features, y_numeric, estimator)\u001b[0m\n\u001b[0;32m   1101\u001b[0m         estimator_name \u001b[38;5;241m=\u001b[39m _check_estimator_name(estimator)\n\u001b[0;32m   1102\u001b[0m     \u001b[38;5;28;01mraise\u001b[39;00m \u001b[38;5;167;01mValueError\u001b[39;00m(\n\u001b[0;32m   1103\u001b[0m         \u001b[38;5;124mf\u001b[39m\u001b[38;5;124m\"\u001b[39m\u001b[38;5;132;01m{\u001b[39;00mestimator_name\u001b[38;5;132;01m}\u001b[39;00m\u001b[38;5;124m requires y to be passed, but the target y is None\u001b[39m\u001b[38;5;124m\"\u001b[39m\n\u001b[0;32m   1104\u001b[0m     )\n\u001b[1;32m-> 1106\u001b[0m X \u001b[38;5;241m=\u001b[39m \u001b[43mcheck_array\u001b[49m\u001b[43m(\u001b[49m\n\u001b[0;32m   1107\u001b[0m \u001b[43m    \u001b[49m\u001b[43mX\u001b[49m\u001b[43m,\u001b[49m\n\u001b[0;32m   1108\u001b[0m \u001b[43m    \u001b[49m\u001b[43maccept_sparse\u001b[49m\u001b[38;5;241;43m=\u001b[39;49m\u001b[43maccept_sparse\u001b[49m\u001b[43m,\u001b[49m\n\u001b[0;32m   1109\u001b[0m \u001b[43m    \u001b[49m\u001b[43maccept_large_sparse\u001b[49m\u001b[38;5;241;43m=\u001b[39;49m\u001b[43maccept_large_sparse\u001b[49m\u001b[43m,\u001b[49m\n\u001b[0;32m   1110\u001b[0m \u001b[43m    \u001b[49m\u001b[43mdtype\u001b[49m\u001b[38;5;241;43m=\u001b[39;49m\u001b[43mdtype\u001b[49m\u001b[43m,\u001b[49m\n\u001b[0;32m   1111\u001b[0m \u001b[43m    \u001b[49m\u001b[43morder\u001b[49m\u001b[38;5;241;43m=\u001b[39;49m\u001b[43morder\u001b[49m\u001b[43m,\u001b[49m\n\u001b[0;32m   1112\u001b[0m \u001b[43m    \u001b[49m\u001b[43mcopy\u001b[49m\u001b[38;5;241;43m=\u001b[39;49m\u001b[43mcopy\u001b[49m\u001b[43m,\u001b[49m\n\u001b[0;32m   1113\u001b[0m \u001b[43m    \u001b[49m\u001b[43mforce_all_finite\u001b[49m\u001b[38;5;241;43m=\u001b[39;49m\u001b[43mforce_all_finite\u001b[49m\u001b[43m,\u001b[49m\n\u001b[0;32m   1114\u001b[0m \u001b[43m    \u001b[49m\u001b[43mensure_2d\u001b[49m\u001b[38;5;241;43m=\u001b[39;49m\u001b[43mensure_2d\u001b[49m\u001b[43m,\u001b[49m\n\u001b[0;32m   1115\u001b[0m \u001b[43m    \u001b[49m\u001b[43mallow_nd\u001b[49m\u001b[38;5;241;43m=\u001b[39;49m\u001b[43mallow_nd\u001b[49m\u001b[43m,\u001b[49m\n\u001b[0;32m   1116\u001b[0m \u001b[43m    \u001b[49m\u001b[43mensure_min_samples\u001b[49m\u001b[38;5;241;43m=\u001b[39;49m\u001b[43mensure_min_samples\u001b[49m\u001b[43m,\u001b[49m\n\u001b[0;32m   1117\u001b[0m \u001b[43m    \u001b[49m\u001b[43mensure_min_features\u001b[49m\u001b[38;5;241;43m=\u001b[39;49m\u001b[43mensure_min_features\u001b[49m\u001b[43m,\u001b[49m\n\u001b[0;32m   1118\u001b[0m \u001b[43m    \u001b[49m\u001b[43mestimator\u001b[49m\u001b[38;5;241;43m=\u001b[39;49m\u001b[43mestimator\u001b[49m\u001b[43m,\u001b[49m\n\u001b[0;32m   1119\u001b[0m \u001b[43m    \u001b[49m\u001b[43minput_name\u001b[49m\u001b[38;5;241;43m=\u001b[39;49m\u001b[38;5;124;43m\"\u001b[39;49m\u001b[38;5;124;43mX\u001b[39;49m\u001b[38;5;124;43m\"\u001b[39;49m\u001b[43m,\u001b[49m\n\u001b[0;32m   1120\u001b[0m \u001b[43m\u001b[49m\u001b[43m)\u001b[49m\n\u001b[0;32m   1122\u001b[0m y \u001b[38;5;241m=\u001b[39m _check_y(y, multi_output\u001b[38;5;241m=\u001b[39mmulti_output, y_numeric\u001b[38;5;241m=\u001b[39my_numeric, estimator\u001b[38;5;241m=\u001b[39mestimator)\n\u001b[0;32m   1124\u001b[0m check_consistent_length(X, y)\n",
      "File \u001b[1;32m~\\anaconda3\\lib\\site-packages\\sklearn\\utils\\validation.py:879\u001b[0m, in \u001b[0;36mcheck_array\u001b[1;34m(array, accept_sparse, accept_large_sparse, dtype, order, copy, force_all_finite, ensure_2d, allow_nd, ensure_min_samples, ensure_min_features, estimator, input_name)\u001b[0m\n\u001b[0;32m    877\u001b[0m         array \u001b[38;5;241m=\u001b[39m xp\u001b[38;5;241m.\u001b[39mastype(array, dtype, copy\u001b[38;5;241m=\u001b[39m\u001b[38;5;28;01mFalse\u001b[39;00m)\n\u001b[0;32m    878\u001b[0m     \u001b[38;5;28;01melse\u001b[39;00m:\n\u001b[1;32m--> 879\u001b[0m         array \u001b[38;5;241m=\u001b[39m \u001b[43m_asarray_with_order\u001b[49m\u001b[43m(\u001b[49m\u001b[43marray\u001b[49m\u001b[43m,\u001b[49m\u001b[43m \u001b[49m\u001b[43morder\u001b[49m\u001b[38;5;241;43m=\u001b[39;49m\u001b[43morder\u001b[49m\u001b[43m,\u001b[49m\u001b[43m \u001b[49m\u001b[43mdtype\u001b[49m\u001b[38;5;241;43m=\u001b[39;49m\u001b[43mdtype\u001b[49m\u001b[43m,\u001b[49m\u001b[43m \u001b[49m\u001b[43mxp\u001b[49m\u001b[38;5;241;43m=\u001b[39;49m\u001b[43mxp\u001b[49m\u001b[43m)\u001b[49m\n\u001b[0;32m    880\u001b[0m \u001b[38;5;28;01mexcept\u001b[39;00m ComplexWarning \u001b[38;5;28;01mas\u001b[39;00m complex_warning:\n\u001b[0;32m    881\u001b[0m     \u001b[38;5;28;01mraise\u001b[39;00m \u001b[38;5;167;01mValueError\u001b[39;00m(\n\u001b[0;32m    882\u001b[0m         \u001b[38;5;124m\"\u001b[39m\u001b[38;5;124mComplex data not supported\u001b[39m\u001b[38;5;130;01m\\n\u001b[39;00m\u001b[38;5;132;01m{}\u001b[39;00m\u001b[38;5;130;01m\\n\u001b[39;00m\u001b[38;5;124m\"\u001b[39m\u001b[38;5;241m.\u001b[39mformat(array)\n\u001b[0;32m    883\u001b[0m     ) \u001b[38;5;28;01mfrom\u001b[39;00m \u001b[38;5;21;01mcomplex_warning\u001b[39;00m\n",
      "File \u001b[1;32m~\\anaconda3\\lib\\site-packages\\sklearn\\utils\\_array_api.py:185\u001b[0m, in \u001b[0;36m_asarray_with_order\u001b[1;34m(array, dtype, order, copy, xp)\u001b[0m\n\u001b[0;32m    182\u001b[0m     xp, _ \u001b[38;5;241m=\u001b[39m get_namespace(array)\n\u001b[0;32m    183\u001b[0m \u001b[38;5;28;01mif\u001b[39;00m xp\u001b[38;5;241m.\u001b[39m\u001b[38;5;18m__name__\u001b[39m \u001b[38;5;129;01min\u001b[39;00m {\u001b[38;5;124m\"\u001b[39m\u001b[38;5;124mnumpy\u001b[39m\u001b[38;5;124m\"\u001b[39m, \u001b[38;5;124m\"\u001b[39m\u001b[38;5;124mnumpy.array_api\u001b[39m\u001b[38;5;124m\"\u001b[39m}:\n\u001b[0;32m    184\u001b[0m     \u001b[38;5;66;03m# Use NumPy API to support order\u001b[39;00m\n\u001b[1;32m--> 185\u001b[0m     array \u001b[38;5;241m=\u001b[39m \u001b[43mnumpy\u001b[49m\u001b[38;5;241;43m.\u001b[39;49m\u001b[43masarray\u001b[49m\u001b[43m(\u001b[49m\u001b[43marray\u001b[49m\u001b[43m,\u001b[49m\u001b[43m \u001b[49m\u001b[43morder\u001b[49m\u001b[38;5;241;43m=\u001b[39;49m\u001b[43morder\u001b[49m\u001b[43m,\u001b[49m\u001b[43m \u001b[49m\u001b[43mdtype\u001b[49m\u001b[38;5;241;43m=\u001b[39;49m\u001b[43mdtype\u001b[49m\u001b[43m)\u001b[49m\n\u001b[0;32m    186\u001b[0m     \u001b[38;5;28;01mreturn\u001b[39;00m xp\u001b[38;5;241m.\u001b[39masarray(array, copy\u001b[38;5;241m=\u001b[39mcopy)\n\u001b[0;32m    187\u001b[0m \u001b[38;5;28;01melse\u001b[39;00m:\n",
      "File \u001b[1;32m~\\anaconda3\\lib\\site-packages\\pandas\\core\\generic.py:2064\u001b[0m, in \u001b[0;36mNDFrame.__array__\u001b[1;34m(self, dtype)\u001b[0m\n\u001b[0;32m   2063\u001b[0m \u001b[38;5;28;01mdef\u001b[39;00m \u001b[38;5;21m__array__\u001b[39m(\u001b[38;5;28mself\u001b[39m, dtype: npt\u001b[38;5;241m.\u001b[39mDTypeLike \u001b[38;5;241m|\u001b[39m \u001b[38;5;28;01mNone\u001b[39;00m \u001b[38;5;241m=\u001b[39m \u001b[38;5;28;01mNone\u001b[39;00m) \u001b[38;5;241m-\u001b[39m\u001b[38;5;241m>\u001b[39m np\u001b[38;5;241m.\u001b[39mndarray:\n\u001b[1;32m-> 2064\u001b[0m     \u001b[38;5;28;01mreturn\u001b[39;00m \u001b[43mnp\u001b[49m\u001b[38;5;241;43m.\u001b[39;49m\u001b[43masarray\u001b[49m\u001b[43m(\u001b[49m\u001b[38;5;28;43mself\u001b[39;49m\u001b[38;5;241;43m.\u001b[39;49m\u001b[43m_values\u001b[49m\u001b[43m,\u001b[49m\u001b[43m \u001b[49m\u001b[43mdtype\u001b[49m\u001b[38;5;241;43m=\u001b[39;49m\u001b[43mdtype\u001b[49m\u001b[43m)\u001b[49m\n",
      "\u001b[1;31mValueError\u001b[0m: could not convert string to float: '4.0 sec'"
     ]
    }
   ],
   "source": [
    "from sklearn.linear_model import LinearRegression\n",
    "lr= LinearRegression()\n",
    "lr.fit(X_train, y_train)\n",
    "pred = lr.predict(X_test)"
   ]
  }
 ],
 "metadata": {
  "kernelspec": {
   "display_name": "Python 3 (ipykernel)",
   "language": "python",
   "name": "python3"
  },
  "language_info": {
   "codemirror_mode": {
    "name": "ipython",
    "version": 3
   },
   "file_extension": ".py",
   "mimetype": "text/x-python",
   "name": "python",
   "nbconvert_exporter": "python",
   "pygments_lexer": "ipython3",
   "version": "3.9.12"
  }
 },
 "nbformat": 4,
 "nbformat_minor": 5
}
